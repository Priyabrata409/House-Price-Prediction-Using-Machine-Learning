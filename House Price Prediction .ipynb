{
 "cells": [
  {
   "cell_type": "markdown",
   "metadata": {},
   "source": [
    "# <<-----------------------House Price Prediction--------------------->>"
   ]
  },
  {
   "cell_type": "markdown",
   "metadata": {},
   "source": [
    "### Importing Libraries"
   ]
  },
  {
   "cell_type": "code",
   "execution_count": 1,
   "metadata": {},
   "outputs": [],
   "source": [
    "import pandas as pd\n",
    "import numpy as np\n",
    "import matplotlib.pyplot as plt\n",
    "import seaborn as sns\n",
    "import random\n",
    "random.seed(100)\n",
    "import warnings\n",
    "warnings.filterwarnings(\"ignore\")"
   ]
  },
  {
   "cell_type": "code",
   "execution_count": 2,
   "metadata": {},
   "outputs": [],
   "source": [
    "df=pd.read_csv(\"train.csv\")"
   ]
  },
  {
   "cell_type": "code",
   "execution_count": 3,
   "metadata": {},
   "outputs": [],
   "source": [
    "pd.set_option(\"display.max_rows\",1000)\n",
    "pd.set_option(\"display.max_columns\",1000)"
   ]
  },
  {
   "cell_type": "code",
   "execution_count": 4,
   "metadata": {},
   "outputs": [
    {
     "data": {
      "text/html": [
       "<div>\n",
       "<style scoped>\n",
       "    .dataframe tbody tr th:only-of-type {\n",
       "        vertical-align: middle;\n",
       "    }\n",
       "\n",
       "    .dataframe tbody tr th {\n",
       "        vertical-align: top;\n",
       "    }\n",
       "\n",
       "    .dataframe thead th {\n",
       "        text-align: right;\n",
       "    }\n",
       "</style>\n",
       "<table border=\"1\" class=\"dataframe\">\n",
       "  <thead>\n",
       "    <tr style=\"text-align: right;\">\n",
       "      <th></th>\n",
       "      <th>POSTED_BY</th>\n",
       "      <th>UNDER_CONSTRUCTION</th>\n",
       "      <th>RERA</th>\n",
       "      <th>BHK_NO.</th>\n",
       "      <th>BHK_OR_RK</th>\n",
       "      <th>SQUARE_FT</th>\n",
       "      <th>READY_TO_MOVE</th>\n",
       "      <th>RESALE</th>\n",
       "      <th>ADDRESS</th>\n",
       "      <th>LONGITUDE</th>\n",
       "      <th>LATITUDE</th>\n",
       "      <th>TARGET(PRICE_IN_LACS)</th>\n",
       "    </tr>\n",
       "  </thead>\n",
       "  <tbody>\n",
       "    <tr>\n",
       "      <th>0</th>\n",
       "      <td>Owner</td>\n",
       "      <td>0</td>\n",
       "      <td>0</td>\n",
       "      <td>2</td>\n",
       "      <td>BHK</td>\n",
       "      <td>1300.236407</td>\n",
       "      <td>1</td>\n",
       "      <td>1</td>\n",
       "      <td>Ksfc Layout,Bangalore</td>\n",
       "      <td>12.969910</td>\n",
       "      <td>77.597960</td>\n",
       "      <td>55.0</td>\n",
       "    </tr>\n",
       "    <tr>\n",
       "      <th>1</th>\n",
       "      <td>Dealer</td>\n",
       "      <td>0</td>\n",
       "      <td>0</td>\n",
       "      <td>2</td>\n",
       "      <td>BHK</td>\n",
       "      <td>1275.000000</td>\n",
       "      <td>1</td>\n",
       "      <td>1</td>\n",
       "      <td>Vishweshwara Nagar,Mysore</td>\n",
       "      <td>12.274538</td>\n",
       "      <td>76.644605</td>\n",
       "      <td>51.0</td>\n",
       "    </tr>\n",
       "    <tr>\n",
       "      <th>2</th>\n",
       "      <td>Owner</td>\n",
       "      <td>0</td>\n",
       "      <td>0</td>\n",
       "      <td>2</td>\n",
       "      <td>BHK</td>\n",
       "      <td>933.159722</td>\n",
       "      <td>1</td>\n",
       "      <td>1</td>\n",
       "      <td>Jigani,Bangalore</td>\n",
       "      <td>12.778033</td>\n",
       "      <td>77.632191</td>\n",
       "      <td>43.0</td>\n",
       "    </tr>\n",
       "    <tr>\n",
       "      <th>3</th>\n",
       "      <td>Owner</td>\n",
       "      <td>0</td>\n",
       "      <td>1</td>\n",
       "      <td>2</td>\n",
       "      <td>BHK</td>\n",
       "      <td>929.921143</td>\n",
       "      <td>1</td>\n",
       "      <td>1</td>\n",
       "      <td>Sector-1 Vaishali,Ghaziabad</td>\n",
       "      <td>28.642300</td>\n",
       "      <td>77.344500</td>\n",
       "      <td>62.5</td>\n",
       "    </tr>\n",
       "    <tr>\n",
       "      <th>4</th>\n",
       "      <td>Dealer</td>\n",
       "      <td>1</td>\n",
       "      <td>0</td>\n",
       "      <td>2</td>\n",
       "      <td>BHK</td>\n",
       "      <td>999.009247</td>\n",
       "      <td>0</td>\n",
       "      <td>1</td>\n",
       "      <td>New Town,Kolkata</td>\n",
       "      <td>22.592200</td>\n",
       "      <td>88.484911</td>\n",
       "      <td>60.5</td>\n",
       "    </tr>\n",
       "  </tbody>\n",
       "</table>\n",
       "</div>"
      ],
      "text/plain": [
       "  POSTED_BY  UNDER_CONSTRUCTION  RERA  BHK_NO. BHK_OR_RK    SQUARE_FT  \\\n",
       "0     Owner                   0     0        2       BHK  1300.236407   \n",
       "1    Dealer                   0     0        2       BHK  1275.000000   \n",
       "2     Owner                   0     0        2       BHK   933.159722   \n",
       "3     Owner                   0     1        2       BHK   929.921143   \n",
       "4    Dealer                   1     0        2       BHK   999.009247   \n",
       "\n",
       "   READY_TO_MOVE  RESALE                      ADDRESS  LONGITUDE   LATITUDE  \\\n",
       "0              1       1        Ksfc Layout,Bangalore  12.969910  77.597960   \n",
       "1              1       1    Vishweshwara Nagar,Mysore  12.274538  76.644605   \n",
       "2              1       1             Jigani,Bangalore  12.778033  77.632191   \n",
       "3              1       1  Sector-1 Vaishali,Ghaziabad  28.642300  77.344500   \n",
       "4              0       1             New Town,Kolkata  22.592200  88.484911   \n",
       "\n",
       "   TARGET(PRICE_IN_LACS)  \n",
       "0                   55.0  \n",
       "1                   51.0  \n",
       "2                   43.0  \n",
       "3                   62.5  \n",
       "4                   60.5  "
      ]
     },
     "execution_count": 4,
     "metadata": {},
     "output_type": "execute_result"
    }
   ],
   "source": [
    "## Let's check the head of the Data\n",
    "df.head()"
   ]
  },
  {
   "cell_type": "code",
   "execution_count": 5,
   "metadata": {},
   "outputs": [
    {
     "data": {
      "text/plain": [
       "(29451, 12)"
      ]
     },
     "execution_count": 5,
     "metadata": {},
     "output_type": "execute_result"
    }
   ],
   "source": [
    "##Let's check the shape of the data\n",
    "df.shape"
   ]
  },
  {
   "cell_type": "code",
   "execution_count": 6,
   "metadata": {},
   "outputs": [
    {
     "data": {
      "text/plain": [
       "POSTED_BY                0\n",
       "UNDER_CONSTRUCTION       0\n",
       "RERA                     0\n",
       "BHK_NO.                  0\n",
       "BHK_OR_RK                0\n",
       "SQUARE_FT                0\n",
       "READY_TO_MOVE            0\n",
       "RESALE                   0\n",
       "ADDRESS                  0\n",
       "LONGITUDE                0\n",
       "LATITUDE                 0\n",
       "TARGET(PRICE_IN_LACS)    0\n",
       "dtype: int64"
      ]
     },
     "execution_count": 6,
     "metadata": {},
     "output_type": "execute_result"
    }
   ],
   "source": [
    "## Let's check if any null values exist in our dataset or not\n",
    "df.isnull().sum()"
   ]
  },
  {
   "cell_type": "code",
   "execution_count": 7,
   "metadata": {},
   "outputs": [
    {
     "name": "stdout",
     "output_type": "stream",
     "text": [
      "<class 'pandas.core.frame.DataFrame'>\n",
      "RangeIndex: 29451 entries, 0 to 29450\n",
      "Data columns (total 12 columns):\n",
      " #   Column                 Non-Null Count  Dtype  \n",
      "---  ------                 --------------  -----  \n",
      " 0   POSTED_BY              29451 non-null  object \n",
      " 1   UNDER_CONSTRUCTION     29451 non-null  int64  \n",
      " 2   RERA                   29451 non-null  int64  \n",
      " 3   BHK_NO.                29451 non-null  int64  \n",
      " 4   BHK_OR_RK              29451 non-null  object \n",
      " 5   SQUARE_FT              29451 non-null  float64\n",
      " 6   READY_TO_MOVE          29451 non-null  int64  \n",
      " 7   RESALE                 29451 non-null  int64  \n",
      " 8   ADDRESS                29451 non-null  object \n",
      " 9   LONGITUDE              29451 non-null  float64\n",
      " 10  LATITUDE               29451 non-null  float64\n",
      " 11  TARGET(PRICE_IN_LACS)  29451 non-null  float64\n",
      "dtypes: float64(4), int64(5), object(3)\n",
      "memory usage: 2.7+ MB\n"
     ]
    }
   ],
   "source": [
    "##The datasets seems clean\n",
    "#Let's see the information about the dataset\n",
    "df.info()"
   ]
  },
  {
   "cell_type": "markdown",
   "metadata": {},
   "source": [
    "## Let's Perform EDA"
   ]
  },
  {
   "cell_type": "code",
   "execution_count": 8,
   "metadata": {},
   "outputs": [],
   "source": [
    "##Let's see how many categorical columns are there in our dataset\n",
    "cat_cols=[col for col in df.columns if df[col].dtypes==\"O\"]"
   ]
  },
  {
   "cell_type": "code",
   "execution_count": 9,
   "metadata": {},
   "outputs": [
    {
     "data": {
      "text/plain": [
       "['POSTED_BY', 'BHK_OR_RK', 'ADDRESS']"
      ]
     },
     "execution_count": 9,
     "metadata": {},
     "output_type": "execute_result"
    }
   ],
   "source": [
    "cat_cols"
   ]
  },
  {
   "cell_type": "code",
   "execution_count": 10,
   "metadata": {},
   "outputs": [
    {
     "data": {
      "text/html": [
       "<div>\n",
       "<style scoped>\n",
       "    .dataframe tbody tr th:only-of-type {\n",
       "        vertical-align: middle;\n",
       "    }\n",
       "\n",
       "    .dataframe tbody tr th {\n",
       "        vertical-align: top;\n",
       "    }\n",
       "\n",
       "    .dataframe thead th {\n",
       "        text-align: right;\n",
       "    }\n",
       "</style>\n",
       "<table border=\"1\" class=\"dataframe\">\n",
       "  <thead>\n",
       "    <tr style=\"text-align: right;\">\n",
       "      <th></th>\n",
       "      <th>POSTED_BY</th>\n",
       "      <th>BHK_OR_RK</th>\n",
       "      <th>ADDRESS</th>\n",
       "    </tr>\n",
       "  </thead>\n",
       "  <tbody>\n",
       "    <tr>\n",
       "      <th>0</th>\n",
       "      <td>Owner</td>\n",
       "      <td>BHK</td>\n",
       "      <td>Ksfc Layout,Bangalore</td>\n",
       "    </tr>\n",
       "    <tr>\n",
       "      <th>1</th>\n",
       "      <td>Dealer</td>\n",
       "      <td>BHK</td>\n",
       "      <td>Vishweshwara Nagar,Mysore</td>\n",
       "    </tr>\n",
       "    <tr>\n",
       "      <th>2</th>\n",
       "      <td>Owner</td>\n",
       "      <td>BHK</td>\n",
       "      <td>Jigani,Bangalore</td>\n",
       "    </tr>\n",
       "    <tr>\n",
       "      <th>3</th>\n",
       "      <td>Owner</td>\n",
       "      <td>BHK</td>\n",
       "      <td>Sector-1 Vaishali,Ghaziabad</td>\n",
       "    </tr>\n",
       "    <tr>\n",
       "      <th>4</th>\n",
       "      <td>Dealer</td>\n",
       "      <td>BHK</td>\n",
       "      <td>New Town,Kolkata</td>\n",
       "    </tr>\n",
       "    <tr>\n",
       "      <th>...</th>\n",
       "      <td>...</td>\n",
       "      <td>...</td>\n",
       "      <td>...</td>\n",
       "    </tr>\n",
       "    <tr>\n",
       "      <th>29446</th>\n",
       "      <td>Owner</td>\n",
       "      <td>BHK</td>\n",
       "      <td>Shamshabad Road,Agra</td>\n",
       "    </tr>\n",
       "    <tr>\n",
       "      <th>29447</th>\n",
       "      <td>Owner</td>\n",
       "      <td>BHK</td>\n",
       "      <td>E3-108, Lake View Recidency,,Vapi</td>\n",
       "    </tr>\n",
       "    <tr>\n",
       "      <th>29448</th>\n",
       "      <td>Dealer</td>\n",
       "      <td>BHK</td>\n",
       "      <td>Ajmer Road,Jaipur</td>\n",
       "    </tr>\n",
       "    <tr>\n",
       "      <th>29449</th>\n",
       "      <td>Owner</td>\n",
       "      <td>BHK</td>\n",
       "      <td>Sholinganallur,Chennai</td>\n",
       "    </tr>\n",
       "    <tr>\n",
       "      <th>29450</th>\n",
       "      <td>Dealer</td>\n",
       "      <td>BHK</td>\n",
       "      <td>Jagatpura,Jaipur</td>\n",
       "    </tr>\n",
       "  </tbody>\n",
       "</table>\n",
       "<p>29451 rows × 3 columns</p>\n",
       "</div>"
      ],
      "text/plain": [
       "      POSTED_BY BHK_OR_RK                            ADDRESS\n",
       "0         Owner       BHK              Ksfc Layout,Bangalore\n",
       "1        Dealer       BHK          Vishweshwara Nagar,Mysore\n",
       "2         Owner       BHK                   Jigani,Bangalore\n",
       "3         Owner       BHK        Sector-1 Vaishali,Ghaziabad\n",
       "4        Dealer       BHK                   New Town,Kolkata\n",
       "...         ...       ...                                ...\n",
       "29446     Owner       BHK               Shamshabad Road,Agra\n",
       "29447     Owner       BHK  E3-108, Lake View Recidency,,Vapi\n",
       "29448    Dealer       BHK                  Ajmer Road,Jaipur\n",
       "29449     Owner       BHK             Sholinganallur,Chennai\n",
       "29450    Dealer       BHK                   Jagatpura,Jaipur\n",
       "\n",
       "[29451 rows x 3 columns]"
      ]
     },
     "execution_count": 10,
     "metadata": {},
     "output_type": "execute_result"
    }
   ],
   "source": [
    "df[cat_cols]"
   ]
  },
  {
   "cell_type": "code",
   "execution_count": 11,
   "metadata": {},
   "outputs": [],
   "source": [
    "##Let's see posted owner"
   ]
  },
  {
   "cell_type": "code",
   "execution_count": 12,
   "metadata": {},
   "outputs": [
    {
     "data": {
      "text/plain": [
       "Dealer     18291\n",
       "Owner      10538\n",
       "Builder      622\n",
       "Name: POSTED_BY, dtype: int64"
      ]
     },
     "execution_count": 12,
     "metadata": {},
     "output_type": "execute_result"
    }
   ],
   "source": [
    "df[\"POSTED_BY\"].value_counts()"
   ]
  },
  {
   "cell_type": "code",
   "execution_count": 13,
   "metadata": {},
   "outputs": [
    {
     "data": {
      "text/plain": [
       "<matplotlib.axes._subplots.AxesSubplot at 0x2109d9a78c8>"
      ]
     },
     "execution_count": 13,
     "metadata": {},
     "output_type": "execute_result"
    },
    {
     "data": {
      "image/png": "[encoded data removed]",
      "text/plain": [
       "<Figure size 432x288 with 1 Axes>"
      ]
     },
     "metadata": {
      "needs_background": "light"
     },
     "output_type": "display_data"
    }
   ],
   "source": [
    "sns.countplot(df[\"POSTED_BY\"])"
   ]
  },
  {
   "cell_type": "code",
   "execution_count": 14,
   "metadata": {},
   "outputs": [
    {
     "data": {
      "text/plain": [
       "POSTED_BY\n",
       "Builder    245.705627\n",
       "Dealer     186.774735\n",
       "Owner       60.674264\n",
       "Name: TARGET(PRICE_IN_LACS), dtype: float64"
      ]
     },
     "execution_count": 14,
     "metadata": {},
     "output_type": "execute_result"
    }
   ],
   "source": [
    "## Let's See How Price of the House Varies According the Posted member\n",
    "df.groupby(\"POSTED_BY\")[\"TARGET(PRICE_IN_LACS)\"].mean()"
   ]
  },
  {
   "cell_type": "code",
   "execution_count": 15,
   "metadata": {},
   "outputs": [],
   "source": [
    "## As you can see ,if Builder Posts the project it will be higher price."
   ]
  },
  {
   "cell_type": "code",
   "execution_count": 16,
   "metadata": {},
   "outputs": [
    {
     "data": {
      "text/plain": [
       "0    24157\n",
       "1     5294\n",
       "Name: UNDER_CONSTRUCTION, dtype: int64"
      ]
     },
     "execution_count": 16,
     "metadata": {},
     "output_type": "execute_result"
    }
   ],
   "source": [
    "## let's see how many buildings are in construction\n",
    "df[\"UNDER_CONSTRUCTION\"].value_counts()"
   ]
  },
  {
   "cell_type": "code",
   "execution_count": 17,
   "metadata": {},
   "outputs": [
    {
     "data": {
      "text/plain": [
       "<matplotlib.axes._subplots.AxesSubplot at 0x2109daac0c8>"
      ]
     },
     "execution_count": 17,
     "metadata": {},
     "output_type": "execute_result"
    },
    {
     "data": {
      "image/png": "[encoded data removed]",
      "text/plain": [
       "<Figure size 432x288 with 1 Axes>"
      ]
     },
     "metadata": {
      "needs_background": "light"
     },
     "output_type": "display_data"
    }
   ],
   "source": [
    "sns.countplot(df[\"UNDER_CONSTRUCTION\"])"
   ]
  },
  {
   "cell_type": "code",
   "execution_count": 18,
   "metadata": {},
   "outputs": [
    {
     "data": {
      "text/plain": [
       "0    20088\n",
       "1     9363\n",
       "Name: RERA, dtype: int64"
      ]
     },
     "execution_count": 18,
     "metadata": {},
     "output_type": "execute_result"
    }
   ],
   "source": [
    "## Let's Visulaize the Rera columns\n",
    "##RERA- Rear state regularity Act\n",
    "## It was formed to bring transperency in Real Estate Sector\n",
    "df[\"RERA\"].value_counts()"
   ]
  },
  {
   "cell_type": "code",
   "execution_count": 19,
   "metadata": {},
   "outputs": [
    {
     "data": {
      "text/plain": [
       "<matplotlib.axes._subplots.AxesSubplot at 0x2109daf13c8>"
      ]
     },
     "execution_count": 19,
     "metadata": {},
     "output_type": "execute_result"
    },
    {
     "data": {
      "image/png": "[encoded data removed]",
      "text/plain": [
       "<Figure size 432x288 with 1 Axes>"
      ]
     },
     "metadata": {
      "needs_background": "light"
     },
     "output_type": "display_data"
    }
   ],
   "source": [
    "sns.countplot(df[\"RERA\"])"
   ]
  },
  {
   "cell_type": "code",
   "execution_count": 20,
   "metadata": {},
   "outputs": [
    {
     "data": {
      "text/plain": [
       "<matplotlib.axes._subplots.AxesSubplot at 0x2109dbb7108>"
      ]
     },
     "execution_count": 20,
     "metadata": {},
     "output_type": "execute_result"
    },
    {
     "data": {
      "image/png": "[encoded data removed]",
      "text/plain": [
       "<Figure size 432x288 with 1 Axes>"
      ]
     },
     "metadata": {
      "needs_background": "light"
     },
     "output_type": "display_data"
    }
   ],
   "source": [
    "df.groupby(\"RERA\")[\"TARGET(PRICE_IN_LACS)\"].mean().plot(kind=\"bar\",grid=True)"
   ]
  },
  {
   "cell_type": "code",
   "execution_count": 21,
   "metadata": {},
   "outputs": [],
   "source": [
    "## It is ovibous that RERA approved buliding are of Higher Price\n",
    "##Because it aims to reduce project delays and mis-selling."
   ]
  },
  {
   "cell_type": "code",
   "execution_count": 22,
   "metadata": {},
   "outputs": [
    {
     "data": {
      "text/plain": [
       "2     13324\n",
       "3     10546\n",
       "1      3574\n",
       "4      1723\n",
       "5       190\n",
       "6        52\n",
       "7        11\n",
       "8        10\n",
       "15        4\n",
       "10        4\n",
       "20        4\n",
       "12        3\n",
       "9         3\n",
       "13        1\n",
       "11        1\n",
       "17        1\n",
       "Name: BHK_NO., dtype: int64"
      ]
     },
     "execution_count": 22,
     "metadata": {},
     "output_type": "execute_result"
    }
   ],
   "source": [
    "## Let's See on BHK_NO which represents number of rooms\n",
    "df[\"BHK_NO.\"].value_counts()"
   ]
  },
  {
   "cell_type": "code",
   "execution_count": 23,
   "metadata": {},
   "outputs": [],
   "source": [
    "##As we can see we number of rooms ranging from 1 to 17\n",
    "#But generally we don't have more than 6 columns as you can see from the distribution\n",
    "## The values that are greater than 6 can be treated as potential outliers\n",
    "## Let's Remove this Values From Our dataset\n",
    "df2=df[df[\"BHK_NO.\"]<7]"
   ]
  },
  {
   "cell_type": "code",
   "execution_count": 24,
   "metadata": {},
   "outputs": [
    {
     "data": {
      "text/plain": [
       "(29409, 12)"
      ]
     },
     "execution_count": 24,
     "metadata": {},
     "output_type": "execute_result"
    }
   ],
   "source": [
    "df2.shape"
   ]
  },
  {
   "cell_type": "code",
   "execution_count": 25,
   "metadata": {},
   "outputs": [
    {
     "data": {
      "text/plain": [
       "99.85739024141796"
      ]
     },
     "execution_count": 25,
     "metadata": {},
     "output_type": "execute_result"
    }
   ],
   "source": [
    "len(df2)/len(df)*100"
   ]
  },
  {
   "cell_type": "code",
   "execution_count": 26,
   "metadata": {},
   "outputs": [
    {
     "data": {
      "text/plain": [
       "2    13324\n",
       "3    10546\n",
       "1     3574\n",
       "4     1723\n",
       "5      190\n",
       "6       52\n",
       "Name: BHK_NO., dtype: int64"
      ]
     },
     "execution_count": 26,
     "metadata": {},
     "output_type": "execute_result"
    }
   ],
   "source": [
    "df2[\"BHK_NO.\"].value_counts()"
   ]
  },
  {
   "cell_type": "code",
   "execution_count": 27,
   "metadata": {},
   "outputs": [
    {
     "data": {
      "text/plain": [
       "BHK_NO.\n",
       "1     72.563433\n",
       "2     97.176584\n",
       "3    176.329423\n",
       "4    350.820255\n",
       "5    604.187895\n",
       "6    868.842308\n",
       "Name: TARGET(PRICE_IN_LACS), dtype: float64"
      ]
     },
     "execution_count": 27,
     "metadata": {},
     "output_type": "execute_result"
    }
   ],
   "source": [
    "df2.groupby([\"BHK_NO.\"])[\"TARGET(PRICE_IN_LACS)\"].mean()"
   ]
  },
  {
   "cell_type": "code",
   "execution_count": 28,
   "metadata": {},
   "outputs": [],
   "source": [
    "## As you can see as the number of rooms increases , price of the house decrease"
   ]
  },
  {
   "cell_type": "code",
   "execution_count": 29,
   "metadata": {},
   "outputs": [
    {
     "data": {
      "text/plain": [
       "BHK    29385\n",
       "RK        24\n",
       "Name: BHK_OR_RK, dtype: int64"
      ]
     },
     "execution_count": 29,
     "metadata": {},
     "output_type": "execute_result"
    }
   ],
   "source": [
    "## Let's See how many are RK and How Many are BHK\n",
    "df2[\"BHK_OR_RK\"].value_counts()"
   ]
  },
  {
   "cell_type": "code",
   "execution_count": 30,
   "metadata": {},
   "outputs": [],
   "source": [
    "## RK means Rooms and Kitchen which mean in a single big room there is kitchen and room attached \n",
    "## These type of housese are rare and used in old days"
   ]
  },
  {
   "cell_type": "code",
   "execution_count": 31,
   "metadata": {},
   "outputs": [
    {
     "data": {
      "text/plain": [
       "1    24\n",
       "Name: BHK_NO., dtype: int64"
      ]
     },
     "execution_count": 31,
     "metadata": {},
     "output_type": "execute_result"
    }
   ],
   "source": [
    "df2[df2[\"BHK_OR_RK\"]==\"RK\"][\"BHK_NO.\"].value_counts()"
   ]
  },
  {
   "cell_type": "code",
   "execution_count": 32,
   "metadata": {},
   "outputs": [],
   "source": [
    "## As you can see these are only single rooms\n",
    "## Hence it would be better to remove these values.\n",
    "## As after removing this value we have only BHK value left in that column , It would be better to remove this columns"
   ]
  },
  {
   "cell_type": "code",
   "execution_count": 33,
   "metadata": {},
   "outputs": [],
   "source": [
    "df3=df2[df2[\"BHK_OR_RK\"]!=\"RK\"]"
   ]
  },
  {
   "cell_type": "code",
   "execution_count": 34,
   "metadata": {},
   "outputs": [],
   "source": [
    "df3.drop(columns=[\"BHK_OR_RK\"],inplace=True)"
   ]
  },
  {
   "cell_type": "code",
   "execution_count": 35,
   "metadata": {},
   "outputs": [
    {
     "data": {
      "text/html": [
       "<div>\n",
       "<style scoped>\n",
       "    .dataframe tbody tr th:only-of-type {\n",
       "        vertical-align: middle;\n",
       "    }\n",
       "\n",
       "    .dataframe tbody tr th {\n",
       "        vertical-align: top;\n",
       "    }\n",
       "\n",
       "    .dataframe thead th {\n",
       "        text-align: right;\n",
       "    }\n",
       "</style>\n",
       "<table border=\"1\" class=\"dataframe\">\n",
       "  <thead>\n",
       "    <tr style=\"text-align: right;\">\n",
       "      <th></th>\n",
       "      <th>POSTED_BY</th>\n",
       "      <th>UNDER_CONSTRUCTION</th>\n",
       "      <th>RERA</th>\n",
       "      <th>BHK_NO.</th>\n",
       "      <th>SQUARE_FT</th>\n",
       "      <th>READY_TO_MOVE</th>\n",
       "      <th>RESALE</th>\n",
       "      <th>ADDRESS</th>\n",
       "      <th>LONGITUDE</th>\n",
       "      <th>LATITUDE</th>\n",
       "      <th>TARGET(PRICE_IN_LACS)</th>\n",
       "    </tr>\n",
       "  </thead>\n",
       "  <tbody>\n",
       "    <tr>\n",
       "      <th>0</th>\n",
       "      <td>Owner</td>\n",
       "      <td>0</td>\n",
       "      <td>0</td>\n",
       "      <td>2</td>\n",
       "      <td>1300.236407</td>\n",
       "      <td>1</td>\n",
       "      <td>1</td>\n",
       "      <td>Ksfc Layout,Bangalore</td>\n",
       "      <td>12.969910</td>\n",
       "      <td>77.597960</td>\n",
       "      <td>55.0</td>\n",
       "    </tr>\n",
       "    <tr>\n",
       "      <th>1</th>\n",
       "      <td>Dealer</td>\n",
       "      <td>0</td>\n",
       "      <td>0</td>\n",
       "      <td>2</td>\n",
       "      <td>1275.000000</td>\n",
       "      <td>1</td>\n",
       "      <td>1</td>\n",
       "      <td>Vishweshwara Nagar,Mysore</td>\n",
       "      <td>12.274538</td>\n",
       "      <td>76.644605</td>\n",
       "      <td>51.0</td>\n",
       "    </tr>\n",
       "    <tr>\n",
       "      <th>2</th>\n",
       "      <td>Owner</td>\n",
       "      <td>0</td>\n",
       "      <td>0</td>\n",
       "      <td>2</td>\n",
       "      <td>933.159722</td>\n",
       "      <td>1</td>\n",
       "      <td>1</td>\n",
       "      <td>Jigani,Bangalore</td>\n",
       "      <td>12.778033</td>\n",
       "      <td>77.632191</td>\n",
       "      <td>43.0</td>\n",
       "    </tr>\n",
       "    <tr>\n",
       "      <th>3</th>\n",
       "      <td>Owner</td>\n",
       "      <td>0</td>\n",
       "      <td>1</td>\n",
       "      <td>2</td>\n",
       "      <td>929.921143</td>\n",
       "      <td>1</td>\n",
       "      <td>1</td>\n",
       "      <td>Sector-1 Vaishali,Ghaziabad</td>\n",
       "      <td>28.642300</td>\n",
       "      <td>77.344500</td>\n",
       "      <td>62.5</td>\n",
       "    </tr>\n",
       "    <tr>\n",
       "      <th>4</th>\n",
       "      <td>Dealer</td>\n",
       "      <td>1</td>\n",
       "      <td>0</td>\n",
       "      <td>2</td>\n",
       "      <td>999.009247</td>\n",
       "      <td>0</td>\n",
       "      <td>1</td>\n",
       "      <td>New Town,Kolkata</td>\n",
       "      <td>22.592200</td>\n",
       "      <td>88.484911</td>\n",
       "      <td>60.5</td>\n",
       "    </tr>\n",
       "  </tbody>\n",
       "</table>\n",
       "</div>"
      ],
      "text/plain": [
       "  POSTED_BY  UNDER_CONSTRUCTION  RERA  BHK_NO.    SQUARE_FT  READY_TO_MOVE  \\\n",
       "0     Owner                   0     0        2  1300.236407              1   \n",
       "1    Dealer                   0     0        2  1275.000000              1   \n",
       "2     Owner                   0     0        2   933.159722              1   \n",
       "3     Owner                   0     1        2   929.921143              1   \n",
       "4    Dealer                   1     0        2   999.009247              0   \n",
       "\n",
       "   RESALE                      ADDRESS  LONGITUDE   LATITUDE  \\\n",
       "0       1        Ksfc Layout,Bangalore  12.969910  77.597960   \n",
       "1       1    Vishweshwara Nagar,Mysore  12.274538  76.644605   \n",
       "2       1             Jigani,Bangalore  12.778033  77.632191   \n",
       "3       1  Sector-1 Vaishali,Ghaziabad  28.642300  77.344500   \n",
       "4       1             New Town,Kolkata  22.592200  88.484911   \n",
       "\n",
       "   TARGET(PRICE_IN_LACS)  \n",
       "0                   55.0  \n",
       "1                   51.0  \n",
       "2                   43.0  \n",
       "3                   62.5  \n",
       "4                   60.5  "
      ]
     },
     "execution_count": 35,
     "metadata": {},
     "output_type": "execute_result"
    }
   ],
   "source": [
    "df3.head()"
   ]
  },
  {
   "cell_type": "code",
   "execution_count": 36,
   "metadata": {},
   "outputs": [
    {
     "data": {
      "text/plain": [
       "0        1300.236407\n",
       "1        1275.000000\n",
       "2         933.159722\n",
       "3         929.921143\n",
       "4         999.009247\n",
       "            ...     \n",
       "29446    2500.000000\n",
       "29447     769.230769\n",
       "29448    1022.641509\n",
       "29449     927.079009\n",
       "29450     896.774194\n",
       "Name: SQUARE_FT, Length: 29451, dtype: float64"
      ]
     },
     "execution_count": 36,
     "metadata": {},
     "output_type": "execute_result"
    }
   ],
   "source": [
    "## Let's See SQUARE_FT columns\n",
    "df[\"SQUARE_FT\"]"
   ]
  },
  {
   "cell_type": "code",
   "execution_count": 50,
   "metadata": {
    "collapsed": true
   },
   "outputs": [
    {
     "ename": "KeyboardInterrupt",
     "evalue": "",
     "output_type": "error",
     "traceback": [
      "\u001b[1;31m---------------------------------------------------------------------------\u001b[0m",
      "\u001b[1;31mKeyboardInterrupt\u001b[0m                         Traceback (most recent call last)",
      "\u001b[1;32m<ipython-input-50-b7e393f3ced2>\u001b[0m in \u001b[0;36m<module>\u001b[1;34m\u001b[0m\n\u001b[0;32m      1\u001b[0m \u001b[0mplt\u001b[0m\u001b[1;33m.\u001b[0m\u001b[0mfigure\u001b[0m\u001b[1;33m(\u001b[0m\u001b[0mfigsize\u001b[0m\u001b[1;33m=\u001b[0m\u001b[1;33m(\u001b[0m\u001b[1;36m10\u001b[0m\u001b[1;33m,\u001b[0m\u001b[1;36m5\u001b[0m\u001b[1;33m)\u001b[0m\u001b[1;33m)\u001b[0m\u001b[1;33m\u001b[0m\u001b[1;33m\u001b[0m\u001b[0m\n\u001b[1;32m----> 2\u001b[1;33m \u001b[0msns\u001b[0m\u001b[1;33m.\u001b[0m\u001b[0mdisplot\u001b[0m\u001b[1;33m(\u001b[0m\u001b[0mdf3\u001b[0m\u001b[1;33m[\u001b[0m\u001b[1;34m\"SQUARE_FT\"\u001b[0m\u001b[1;33m]\u001b[0m\u001b[1;33m)\u001b[0m\u001b[1;33m\u001b[0m\u001b[1;33m\u001b[0m\u001b[0m\n\u001b[0m",
      "\u001b[1;32mc:\\users\\acer\\appdata\\local\\programs\\python\\python37\\lib\\site-packages\\seaborn\\distributions.py\u001b[0m in \u001b[0;36mdisplot\u001b[1;34m(data, x, y, hue, row, col, weights, kind, rug, rug_kws, log_scale, legend, palette, hue_order, hue_norm, color, col_wrap, row_order, col_order, height, aspect, facet_kws, **kwargs)\u001b[0m\n\u001b[0;32m   2222\u001b[0m \u001b[1;33m\u001b[0m\u001b[0m\n\u001b[0;32m   2223\u001b[0m             \u001b[0m_assign_default_kwargs\u001b[0m\u001b[1;33m(\u001b[0m\u001b[0mhist_kws\u001b[0m\u001b[1;33m,\u001b[0m \u001b[0mp\u001b[0m\u001b[1;33m.\u001b[0m\u001b[0mplot_univariate_histogram\u001b[0m\u001b[1;33m,\u001b[0m \u001b[0mhistplot\u001b[0m\u001b[1;33m)\u001b[0m\u001b[1;33m\u001b[0m\u001b[1;33m\u001b[0m\u001b[0m\n\u001b[1;32m-> 2224\u001b[1;33m             \u001b[0mp\u001b[0m\u001b[1;33m.\u001b[0m\u001b[0mplot_univariate_histogram\u001b[0m\u001b[1;33m(\u001b[0m\u001b[1;33m**\u001b[0m\u001b[0mhist_kws\u001b[0m\u001b[1;33m)\u001b[0m\u001b[1;33m\u001b[0m\u001b[1;33m\u001b[0m\u001b[0m\n\u001b[0m\u001b[0;32m   2225\u001b[0m \u001b[1;33m\u001b[0m\u001b[0m\n\u001b[0;32m   2226\u001b[0m         \u001b[1;32melse\u001b[0m\u001b[1;33m:\u001b[0m\u001b[1;33m\u001b[0m\u001b[1;33m\u001b[0m\u001b[0m\n",
      "\u001b[1;32mc:\\users\\acer\\appdata\\local\\programs\\python\\python37\\lib\\site-packages\\seaborn\\distributions.py\u001b[0m in \u001b[0;36mplot_univariate_histogram\u001b[1;34m(self, multiple, element, fill, common_norm, common_bins, shrink, kde, kde_kws, color, legend, line_kws, estimate_kws, **plot_kws)\u001b[0m\n\u001b[0;32m    558\u001b[0m                     \u001b[0mbottom\u001b[0m\u001b[1;33m,\u001b[0m\u001b[1;33m\u001b[0m\u001b[1;33m\u001b[0m\u001b[0m\n\u001b[0;32m    559\u001b[0m                     \u001b[0malign\u001b[0m\u001b[1;33m=\u001b[0m\u001b[1;34m\"edge\"\u001b[0m\u001b[1;33m,\u001b[0m\u001b[1;33m\u001b[0m\u001b[1;33m\u001b[0m\u001b[0m\n\u001b[1;32m--> 560\u001b[1;33m                     \u001b[1;33m**\u001b[0m\u001b[0martist_kws\u001b[0m\u001b[1;33m,\u001b[0m\u001b[1;33m\u001b[0m\u001b[1;33m\u001b[0m\u001b[0m\n\u001b[0m\u001b[0;32m    561\u001b[0m                 )\n\u001b[0;32m    562\u001b[0m                 \u001b[1;32mfor\u001b[0m \u001b[0mbar\u001b[0m \u001b[1;32min\u001b[0m \u001b[0martists\u001b[0m\u001b[1;33m:\u001b[0m\u001b[1;33m\u001b[0m\u001b[1;33m\u001b[0m\u001b[0m\n",
      "\u001b[1;32mc:\\users\\acer\\appdata\\local\\programs\\python\\python37\\lib\\site-packages\\matplotlib\\__init__.py\u001b[0m in \u001b[0;36minner\u001b[1;34m(ax, data, *args, **kwargs)\u001b[0m\n\u001b[0;32m   1563\u001b[0m     \u001b[1;32mdef\u001b[0m \u001b[0minner\u001b[0m\u001b[1;33m(\u001b[0m\u001b[0max\u001b[0m\u001b[1;33m,\u001b[0m \u001b[1;33m*\u001b[0m\u001b[0margs\u001b[0m\u001b[1;33m,\u001b[0m \u001b[0mdata\u001b[0m\u001b[1;33m=\u001b[0m\u001b[1;32mNone\u001b[0m\u001b[1;33m,\u001b[0m \u001b[1;33m**\u001b[0m\u001b[0mkwargs\u001b[0m\u001b[1;33m)\u001b[0m\u001b[1;33m:\u001b[0m\u001b[1;33m\u001b[0m\u001b[1;33m\u001b[0m\u001b[0m\n\u001b[0;32m   1564\u001b[0m         \u001b[1;32mif\u001b[0m \u001b[0mdata\u001b[0m \u001b[1;32mis\u001b[0m \u001b[1;32mNone\u001b[0m\u001b[1;33m:\u001b[0m\u001b[1;33m\u001b[0m\u001b[1;33m\u001b[0m\u001b[0m\n\u001b[1;32m-> 1565\u001b[1;33m             \u001b[1;32mreturn\u001b[0m \u001b[0mfunc\u001b[0m\u001b[1;33m(\u001b[0m\u001b[0max\u001b[0m\u001b[1;33m,\u001b[0m \u001b[1;33m*\u001b[0m\u001b[0mmap\u001b[0m\u001b[1;33m(\u001b[0m\u001b[0msanitize_sequence\u001b[0m\u001b[1;33m,\u001b[0m \u001b[0margs\u001b[0m\u001b[1;33m)\u001b[0m\u001b[1;33m,\u001b[0m \u001b[1;33m**\u001b[0m\u001b[0mkwargs\u001b[0m\u001b[1;33m)\u001b[0m\u001b[1;33m\u001b[0m\u001b[1;33m\u001b[0m\u001b[0m\n\u001b[0m\u001b[0;32m   1566\u001b[0m \u001b[1;33m\u001b[0m\u001b[0m\n\u001b[0;32m   1567\u001b[0m         \u001b[0mbound\u001b[0m \u001b[1;33m=\u001b[0m \u001b[0mnew_sig\u001b[0m\u001b[1;33m.\u001b[0m\u001b[0mbind\u001b[0m\u001b[1;33m(\u001b[0m\u001b[0max\u001b[0m\u001b[1;33m,\u001b[0m \u001b[1;33m*\u001b[0m\u001b[0margs\u001b[0m\u001b[1;33m,\u001b[0m \u001b[1;33m**\u001b[0m\u001b[0mkwargs\u001b[0m\u001b[1;33m)\u001b[0m\u001b[1;33m\u001b[0m\u001b[1;33m\u001b[0m\u001b[0m\n",
      "\u001b[1;32mc:\\users\\acer\\appdata\\local\\programs\\python\\python37\\lib\\site-packages\\matplotlib\\axes\\_axes.py\u001b[0m in \u001b[0;36mbar\u001b[1;34m(self, x, height, width, bottom, align, **kwargs)\u001b[0m\n\u001b[0;32m   2333\u001b[0m             \u001b[0my0\u001b[0m \u001b[1;33m=\u001b[0m \u001b[0my\u001b[0m\u001b[1;33m\u001b[0m\u001b[1;33m\u001b[0m\u001b[0m\n\u001b[0;32m   2334\u001b[0m             \u001b[0my\u001b[0m \u001b[1;33m=\u001b[0m \u001b[0mnp\u001b[0m\u001b[1;33m.\u001b[0m\u001b[0masarray\u001b[0m\u001b[1;33m(\u001b[0m\u001b[0mself\u001b[0m\u001b[1;33m.\u001b[0m\u001b[0mconvert_yunits\u001b[0m\u001b[1;33m(\u001b[0m\u001b[0my\u001b[0m\u001b[1;33m)\u001b[0m\u001b[1;33m)\u001b[0m\u001b[1;33m\u001b[0m\u001b[1;33m\u001b[0m\u001b[0m\n\u001b[1;32m-> 2335\u001b[1;33m             \u001b[0mheight\u001b[0m \u001b[1;33m=\u001b[0m \u001b[0mself\u001b[0m\u001b[1;33m.\u001b[0m\u001b[0m_convert_dx\u001b[0m\u001b[1;33m(\u001b[0m\u001b[0mheight\u001b[0m\u001b[1;33m,\u001b[0m \u001b[0my0\u001b[0m\u001b[1;33m,\u001b[0m \u001b[0my\u001b[0m\u001b[1;33m,\u001b[0m \u001b[0mself\u001b[0m\u001b[1;33m.\u001b[0m\u001b[0mconvert_yunits\u001b[0m\u001b[1;33m)\u001b[0m\u001b[1;33m\u001b[0m\u001b[1;33m\u001b[0m\u001b[0m\n\u001b[0m\u001b[0;32m   2336\u001b[0m             \u001b[1;32mif\u001b[0m \u001b[0myerr\u001b[0m \u001b[1;32mis\u001b[0m \u001b[1;32mnot\u001b[0m \u001b[1;32mNone\u001b[0m\u001b[1;33m:\u001b[0m\u001b[1;33m\u001b[0m\u001b[1;33m\u001b[0m\u001b[0m\n\u001b[0;32m   2337\u001b[0m                 \u001b[0myerr\u001b[0m \u001b[1;33m=\u001b[0m \u001b[0mself\u001b[0m\u001b[1;33m.\u001b[0m\u001b[0m_convert_dx\u001b[0m\u001b[1;33m(\u001b[0m\u001b[0myerr\u001b[0m\u001b[1;33m,\u001b[0m \u001b[0my0\u001b[0m\u001b[1;33m,\u001b[0m \u001b[0my\u001b[0m\u001b[1;33m,\u001b[0m \u001b[0mself\u001b[0m\u001b[1;33m.\u001b[0m\u001b[0mconvert_yunits\u001b[0m\u001b[1;33m)\u001b[0m\u001b[1;33m\u001b[0m\u001b[1;33m\u001b[0m\u001b[0m\n",
      "\u001b[1;32mc:\\users\\acer\\appdata\\local\\programs\\python\\python37\\lib\\site-packages\\matplotlib\\axes\\_axes.py\u001b[0m in \u001b[0;36m_convert_dx\u001b[1;34m(dx, x0, xconv, convert)\u001b[0m\n\u001b[0;32m   2153\u001b[0m                 \u001b[0mdx\u001b[0m \u001b[1;33m=\u001b[0m \u001b[1;33m[\u001b[0m\u001b[0mdx\u001b[0m\u001b[1;33m]\u001b[0m\u001b[1;33m\u001b[0m\u001b[1;33m\u001b[0m\u001b[0m\n\u001b[0;32m   2154\u001b[0m                 \u001b[0mdelist\u001b[0m \u001b[1;33m=\u001b[0m \u001b[1;32mTrue\u001b[0m\u001b[1;33m\u001b[0m\u001b[1;33m\u001b[0m\u001b[0m\n\u001b[1;32m-> 2155\u001b[1;33m             \u001b[0mdx\u001b[0m \u001b[1;33m=\u001b[0m \u001b[1;33m[\u001b[0m\u001b[0mconvert\u001b[0m\u001b[1;33m(\u001b[0m\u001b[0mx0\u001b[0m \u001b[1;33m+\u001b[0m \u001b[0mddx\u001b[0m\u001b[1;33m)\u001b[0m \u001b[1;33m-\u001b[0m \u001b[0mx\u001b[0m \u001b[1;32mfor\u001b[0m \u001b[0mddx\u001b[0m \u001b[1;32min\u001b[0m \u001b[0mdx\u001b[0m\u001b[1;33m]\u001b[0m\u001b[1;33m\u001b[0m\u001b[1;33m\u001b[0m\u001b[0m\n\u001b[0m\u001b[0;32m   2156\u001b[0m             \u001b[1;32mif\u001b[0m \u001b[0mdelist\u001b[0m\u001b[1;33m:\u001b[0m\u001b[1;33m\u001b[0m\u001b[1;33m\u001b[0m\u001b[0m\n\u001b[0;32m   2157\u001b[0m                 \u001b[0mdx\u001b[0m \u001b[1;33m=\u001b[0m \u001b[0mdx\u001b[0m\u001b[1;33m[\u001b[0m\u001b[1;36m0\u001b[0m\u001b[1;33m]\u001b[0m\u001b[1;33m\u001b[0m\u001b[1;33m\u001b[0m\u001b[0m\n",
      "\u001b[1;32mc:\\users\\acer\\appdata\\local\\programs\\python\\python37\\lib\\site-packages\\matplotlib\\axes\\_axes.py\u001b[0m in \u001b[0;36m<listcomp>\u001b[1;34m(.0)\u001b[0m\n\u001b[0;32m   2153\u001b[0m                 \u001b[0mdx\u001b[0m \u001b[1;33m=\u001b[0m \u001b[1;33m[\u001b[0m\u001b[0mdx\u001b[0m\u001b[1;33m]\u001b[0m\u001b[1;33m\u001b[0m\u001b[1;33m\u001b[0m\u001b[0m\n\u001b[0;32m   2154\u001b[0m                 \u001b[0mdelist\u001b[0m \u001b[1;33m=\u001b[0m \u001b[1;32mTrue\u001b[0m\u001b[1;33m\u001b[0m\u001b[1;33m\u001b[0m\u001b[0m\n\u001b[1;32m-> 2155\u001b[1;33m             \u001b[0mdx\u001b[0m \u001b[1;33m=\u001b[0m \u001b[1;33m[\u001b[0m\u001b[0mconvert\u001b[0m\u001b[1;33m(\u001b[0m\u001b[0mx0\u001b[0m \u001b[1;33m+\u001b[0m \u001b[0mddx\u001b[0m\u001b[1;33m)\u001b[0m \u001b[1;33m-\u001b[0m \u001b[0mx\u001b[0m \u001b[1;32mfor\u001b[0m \u001b[0mddx\u001b[0m \u001b[1;32min\u001b[0m \u001b[0mdx\u001b[0m\u001b[1;33m]\u001b[0m\u001b[1;33m\u001b[0m\u001b[1;33m\u001b[0m\u001b[0m\n\u001b[0m\u001b[0;32m   2156\u001b[0m             \u001b[1;32mif\u001b[0m \u001b[0mdelist\u001b[0m\u001b[1;33m:\u001b[0m\u001b[1;33m\u001b[0m\u001b[1;33m\u001b[0m\u001b[0m\n\u001b[0;32m   2157\u001b[0m                 \u001b[0mdx\u001b[0m \u001b[1;33m=\u001b[0m \u001b[0mdx\u001b[0m\u001b[1;33m[\u001b[0m\u001b[1;36m0\u001b[0m\u001b[1;33m]\u001b[0m\u001b[1;33m\u001b[0m\u001b[1;33m\u001b[0m\u001b[0m\n",
      "\u001b[1;32mc:\\users\\acer\\appdata\\local\\programs\\python\\python37\\lib\\site-packages\\matplotlib\\artist.py\u001b[0m in \u001b[0;36mconvert_yunits\u001b[1;34m(self, y)\u001b[0m\n\u001b[0;32m    178\u001b[0m         \u001b[1;32mreturn\u001b[0m \u001b[0max\u001b[0m\u001b[1;33m.\u001b[0m\u001b[0mxaxis\u001b[0m\u001b[1;33m.\u001b[0m\u001b[0mconvert_units\u001b[0m\u001b[1;33m(\u001b[0m\u001b[0mx\u001b[0m\u001b[1;33m)\u001b[0m\u001b[1;33m\u001b[0m\u001b[1;33m\u001b[0m\u001b[0m\n\u001b[0;32m    179\u001b[0m \u001b[1;33m\u001b[0m\u001b[0m\n\u001b[1;32m--> 180\u001b[1;33m     \u001b[1;32mdef\u001b[0m \u001b[0mconvert_yunits\u001b[0m\u001b[1;33m(\u001b[0m\u001b[0mself\u001b[0m\u001b[1;33m,\u001b[0m \u001b[0my\u001b[0m\u001b[1;33m)\u001b[0m\u001b[1;33m:\u001b[0m\u001b[1;33m\u001b[0m\u001b[1;33m\u001b[0m\u001b[0m\n\u001b[0m\u001b[0;32m    181\u001b[0m         \"\"\"\n\u001b[0;32m    182\u001b[0m         \u001b[0mConvert\u001b[0m \u001b[1;33m*\u001b[0m\u001b[0my\u001b[0m\u001b[1;33m*\u001b[0m \u001b[0musing\u001b[0m \u001b[0mthe\u001b[0m \u001b[0munit\u001b[0m \u001b[0mtype\u001b[0m \u001b[0mof\u001b[0m \u001b[0mthe\u001b[0m \u001b[0myaxis\u001b[0m\u001b[1;33m.\u001b[0m\u001b[1;33m\u001b[0m\u001b[1;33m\u001b[0m\u001b[0m\n",
      "\u001b[1;31mKeyboardInterrupt\u001b[0m: "
     ]
    },
    {
     "data": {
      "text/plain": [
       "<Figure size 720x360 with 0 Axes>"
      ]
     },
     "metadata": {},
     "output_type": "display_data"
    },
    {
     "data": {
      "image/png": "[encoded data removed]",
      "text/plain": [
       "<Figure size 360x360 with 1 Axes>"
      ]
     },
     "metadata": {
      "needs_background": "light"
     },
     "output_type": "display_data"
    }
   ],
   "source": [
    "plt.figure(figsize=(10,5))\n",
    "sns.displot(df3[\"SQUARE_FT\"])"
   ]
  },
  {
   "cell_type": "code",
   "execution_count": 37,
   "metadata": {},
   "outputs": [
    {
     "data": {
      "text/plain": [
       "<matplotlib.collections.PathCollection at 0x2109dc7a288>"
      ]
     },
     "execution_count": 37,
     "metadata": {},
     "output_type": "execute_result"
    },
    {
     "data": {
      "image/png": "[encoded data removed]",
      "text/plain": [
       "<Figure size 1440x1152 with 1 Axes>"
      ]
     },
     "metadata": {
      "needs_background": "light"
     },
     "output_type": "display_data"
    }
   ],
   "source": [
    "## Let's See the scatter plot between squaers\n",
    "plt.figure(figsize=(20,16))\n",
    "plt.scatter(x=df3[\"SQUARE_FT\"],y=df3[\"TARGET(PRICE_IN_LACS)\"])"
   ]
  },
  {
   "cell_type": "code",
   "execution_count": 38,
   "metadata": {},
   "outputs": [
    {
     "data": {
      "text/plain": [
       "<matplotlib.axes._subplots.AxesSubplot at 0x2109dcaec08>"
      ]
     },
     "execution_count": 38,
     "metadata": {},
     "output_type": "execute_result"
    },
    {
     "data": {
      "image/png": "[encoded data removed]",
      "text/plain": [
       "<Figure size 1440x432 with 1 Axes>"
      ]
     },
     "metadata": {
      "needs_background": "light"
     },
     "output_type": "display_data"
    }
   ],
   "source": [
    "plt.figure(figsize=(20,6))\n",
    "sns.boxplot(df3[\"SQUARE_FT\"])"
   ]
  },
  {
   "cell_type": "code",
   "execution_count": 39,
   "metadata": {},
   "outputs": [
    {
     "data": {
      "text/html": [
       "<div>\n",
       "<style scoped>\n",
       "    .dataframe tbody tr th:only-of-type {\n",
       "        vertical-align: middle;\n",
       "    }\n",
       "\n",
       "    .dataframe tbody tr th {\n",
       "        vertical-align: top;\n",
       "    }\n",
       "\n",
       "    .dataframe thead th {\n",
       "        text-align: right;\n",
       "    }\n",
       "</style>\n",
       "<table border=\"1\" class=\"dataframe\">\n",
       "  <thead>\n",
       "    <tr style=\"text-align: right;\">\n",
       "      <th></th>\n",
       "      <th>POSTED_BY</th>\n",
       "      <th>UNDER_CONSTRUCTION</th>\n",
       "      <th>RERA</th>\n",
       "      <th>BHK_NO.</th>\n",
       "      <th>SQUARE_FT</th>\n",
       "      <th>READY_TO_MOVE</th>\n",
       "      <th>RESALE</th>\n",
       "      <th>ADDRESS</th>\n",
       "      <th>LONGITUDE</th>\n",
       "      <th>LATITUDE</th>\n",
       "      <th>TARGET(PRICE_IN_LACS)</th>\n",
       "    </tr>\n",
       "  </thead>\n",
       "  <tbody>\n",
       "    <tr>\n",
       "      <th>373</th>\n",
       "      <td>Owner</td>\n",
       "      <td>0</td>\n",
       "      <td>0</td>\n",
       "      <td>4</td>\n",
       "      <td>4.333333e+05</td>\n",
       "      <td>1</td>\n",
       "      <td>1</td>\n",
       "      <td>Mulanthuruthy,Kochi</td>\n",
       "      <td>9.893479</td>\n",
       "      <td>76.408774</td>\n",
       "      <td>65.0</td>\n",
       "    </tr>\n",
       "    <tr>\n",
       "      <th>10745</th>\n",
       "      <td>Owner</td>\n",
       "      <td>0</td>\n",
       "      <td>0</td>\n",
       "      <td>3</td>\n",
       "      <td>2.545455e+08</td>\n",
       "      <td>1</td>\n",
       "      <td>1</td>\n",
       "      <td>Malur,Bangalore</td>\n",
       "      <td>13.021000</td>\n",
       "      <td>77.938000</td>\n",
       "      <td>28000.0</td>\n",
       "    </tr>\n",
       "    <tr>\n",
       "      <th>11238</th>\n",
       "      <td>Dealer</td>\n",
       "      <td>0</td>\n",
       "      <td>0</td>\n",
       "      <td>3</td>\n",
       "      <td>1.875000e+08</td>\n",
       "      <td>1</td>\n",
       "      <td>1</td>\n",
       "      <td>R.T. Nagar,Bangalore</td>\n",
       "      <td>13.018900</td>\n",
       "      <td>77.596300</td>\n",
       "      <td>30000.0</td>\n",
       "    </tr>\n",
       "    <tr>\n",
       "      <th>15598</th>\n",
       "      <td>Owner</td>\n",
       "      <td>0</td>\n",
       "      <td>0</td>\n",
       "      <td>3</td>\n",
       "      <td>7.928571e+05</td>\n",
       "      <td>1</td>\n",
       "      <td>1</td>\n",
       "      <td>Sainik Colony,Jammu</td>\n",
       "      <td>32.674044</td>\n",
       "      <td>74.907348</td>\n",
       "      <td>55.5</td>\n",
       "    </tr>\n",
       "    <tr>\n",
       "      <th>15724</th>\n",
       "      <td>Owner</td>\n",
       "      <td>0</td>\n",
       "      <td>0</td>\n",
       "      <td>2</td>\n",
       "      <td>8.064516e+07</td>\n",
       "      <td>1</td>\n",
       "      <td>1</td>\n",
       "      <td>Lakkasandra,Bangalore</td>\n",
       "      <td>12.795926</td>\n",
       "      <td>77.331535</td>\n",
       "      <td>25000.0</td>\n",
       "    </tr>\n",
       "    <tr>\n",
       "      <th>22155</th>\n",
       "      <td>Owner</td>\n",
       "      <td>0</td>\n",
       "      <td>0</td>\n",
       "      <td>1</td>\n",
       "      <td>3.400000e+05</td>\n",
       "      <td>1</td>\n",
       "      <td>1</td>\n",
       "      <td>Sayajipura,Vadodara</td>\n",
       "      <td>22.323406</td>\n",
       "      <td>73.240395</td>\n",
       "      <td>17.0</td>\n",
       "    </tr>\n",
       "    <tr>\n",
       "      <th>25241</th>\n",
       "      <td>Owner</td>\n",
       "      <td>0</td>\n",
       "      <td>0</td>\n",
       "      <td>3</td>\n",
       "      <td>4.300000e+06</td>\n",
       "      <td>1</td>\n",
       "      <td>1</td>\n",
       "      <td>New Kumaran Nagar,Chennai</td>\n",
       "      <td>10.810426</td>\n",
       "      <td>78.668914</td>\n",
       "      <td>43.0</td>\n",
       "    </tr>\n",
       "    <tr>\n",
       "      <th>28591</th>\n",
       "      <td>Owner</td>\n",
       "      <td>0</td>\n",
       "      <td>0</td>\n",
       "      <td>2</td>\n",
       "      <td>8.750000e+05</td>\n",
       "      <td>1</td>\n",
       "      <td>1</td>\n",
       "      <td>Ajit Singh Nagar,Vijayawada</td>\n",
       "      <td>30.466084</td>\n",
       "      <td>74.501902</td>\n",
       "      <td>35.0</td>\n",
       "    </tr>\n",
       "  </tbody>\n",
       "</table>\n",
       "</div>"
      ],
      "text/plain": [
       "      POSTED_BY  UNDER_CONSTRUCTION  RERA  BHK_NO.     SQUARE_FT  \\\n",
       "373       Owner                   0     0        4  4.333333e+05   \n",
       "10745     Owner                   0     0        3  2.545455e+08   \n",
       "11238    Dealer                   0     0        3  1.875000e+08   \n",
       "15598     Owner                   0     0        3  7.928571e+05   \n",
       "15724     Owner                   0     0        2  8.064516e+07   \n",
       "22155     Owner                   0     0        1  3.400000e+05   \n",
       "25241     Owner                   0     0        3  4.300000e+06   \n",
       "28591     Owner                   0     0        2  8.750000e+05   \n",
       "\n",
       "       READY_TO_MOVE  RESALE                      ADDRESS  LONGITUDE  \\\n",
       "373                1       1          Mulanthuruthy,Kochi   9.893479   \n",
       "10745              1       1              Malur,Bangalore  13.021000   \n",
       "11238              1       1         R.T. Nagar,Bangalore  13.018900   \n",
       "15598              1       1          Sainik Colony,Jammu  32.674044   \n",
       "15724              1       1        Lakkasandra,Bangalore  12.795926   \n",
       "22155              1       1          Sayajipura,Vadodara  22.323406   \n",
       "25241              1       1    New Kumaran Nagar,Chennai  10.810426   \n",
       "28591              1       1  Ajit Singh Nagar,Vijayawada  30.466084   \n",
       "\n",
       "        LATITUDE  TARGET(PRICE_IN_LACS)  \n",
       "373    76.408774                   65.0  \n",
       "10745  77.938000                28000.0  \n",
       "11238  77.596300                30000.0  \n",
       "15598  74.907348                   55.5  \n",
       "15724  77.331535                25000.0  \n",
       "22155  73.240395                   17.0  \n",
       "25241  78.668914                   43.0  \n",
       "28591  74.501902                   35.0  "
      ]
     },
     "execution_count": 39,
     "metadata": {},
     "output_type": "execute_result"
    }
   ],
   "source": [
    "df3[df3[\"SQUARE_FT\"]>3*1e5]"
   ]
  },
  {
   "cell_type": "code",
   "execution_count": 40,
   "metadata": {},
   "outputs": [],
   "source": [
    "## These Eight values are potential Outliers.As square foot size is extremely high\n",
    "##hence drop these values\n",
    "df4=df3[df3[\"SQUARE_FT\"]<3*1e5]"
   ]
  },
  {
   "cell_type": "code",
   "execution_count": 41,
   "metadata": {},
   "outputs": [
    {
     "data": {
      "text/plain": [
       "<matplotlib.axes._subplots.AxesSubplot at 0x2109dd13548>"
      ]
     },
     "execution_count": 41,
     "metadata": {},
     "output_type": "execute_result"
    },
    {
     "data": {
      "image/png": "[encoded data removed]",
      "text/plain": [
       "<Figure size 1440x432 with 1 Axes>"
      ]
     },
     "metadata": {
      "needs_background": "light"
     },
     "output_type": "display_data"
    }
   ],
   "source": [
    "plt.figure(figsize=(20,6))\n",
    "sns.boxplot(df4[\"SQUARE_FT\"])"
   ]
  },
  {
   "cell_type": "code",
   "execution_count": 42,
   "metadata": {},
   "outputs": [
    {
     "data": {
      "text/html": [
       "<div>\n",
       "<style scoped>\n",
       "    .dataframe tbody tr th:only-of-type {\n",
       "        vertical-align: middle;\n",
       "    }\n",
       "\n",
       "    .dataframe tbody tr th {\n",
       "        vertical-align: top;\n",
       "    }\n",
       "\n",
       "    .dataframe thead th {\n",
       "        text-align: right;\n",
       "    }\n",
       "</style>\n",
       "<table border=\"1\" class=\"dataframe\">\n",
       "  <thead>\n",
       "    <tr style=\"text-align: right;\">\n",
       "      <th></th>\n",
       "      <th>POSTED_BY</th>\n",
       "      <th>UNDER_CONSTRUCTION</th>\n",
       "      <th>RERA</th>\n",
       "      <th>BHK_NO.</th>\n",
       "      <th>SQUARE_FT</th>\n",
       "      <th>READY_TO_MOVE</th>\n",
       "      <th>RESALE</th>\n",
       "      <th>ADDRESS</th>\n",
       "      <th>LONGITUDE</th>\n",
       "      <th>LATITUDE</th>\n",
       "      <th>TARGET(PRICE_IN_LACS)</th>\n",
       "    </tr>\n",
       "  </thead>\n",
       "  <tbody>\n",
       "    <tr>\n",
       "      <th>0</th>\n",
       "      <td>Owner</td>\n",
       "      <td>0</td>\n",
       "      <td>0</td>\n",
       "      <td>2</td>\n",
       "      <td>1300.236407</td>\n",
       "      <td>1</td>\n",
       "      <td>1</td>\n",
       "      <td>Ksfc Layout,Bangalore</td>\n",
       "      <td>12.969910</td>\n",
       "      <td>77.597960</td>\n",
       "      <td>55.0</td>\n",
       "    </tr>\n",
       "    <tr>\n",
       "      <th>1</th>\n",
       "      <td>Dealer</td>\n",
       "      <td>0</td>\n",
       "      <td>0</td>\n",
       "      <td>2</td>\n",
       "      <td>1275.000000</td>\n",
       "      <td>1</td>\n",
       "      <td>1</td>\n",
       "      <td>Vishweshwara Nagar,Mysore</td>\n",
       "      <td>12.274538</td>\n",
       "      <td>76.644605</td>\n",
       "      <td>51.0</td>\n",
       "    </tr>\n",
       "    <tr>\n",
       "      <th>2</th>\n",
       "      <td>Owner</td>\n",
       "      <td>0</td>\n",
       "      <td>0</td>\n",
       "      <td>2</td>\n",
       "      <td>933.159722</td>\n",
       "      <td>1</td>\n",
       "      <td>1</td>\n",
       "      <td>Jigani,Bangalore</td>\n",
       "      <td>12.778033</td>\n",
       "      <td>77.632191</td>\n",
       "      <td>43.0</td>\n",
       "    </tr>\n",
       "    <tr>\n",
       "      <th>3</th>\n",
       "      <td>Owner</td>\n",
       "      <td>0</td>\n",
       "      <td>1</td>\n",
       "      <td>2</td>\n",
       "      <td>929.921143</td>\n",
       "      <td>1</td>\n",
       "      <td>1</td>\n",
       "      <td>Sector-1 Vaishali,Ghaziabad</td>\n",
       "      <td>28.642300</td>\n",
       "      <td>77.344500</td>\n",
       "      <td>62.5</td>\n",
       "    </tr>\n",
       "    <tr>\n",
       "      <th>4</th>\n",
       "      <td>Dealer</td>\n",
       "      <td>1</td>\n",
       "      <td>0</td>\n",
       "      <td>2</td>\n",
       "      <td>999.009247</td>\n",
       "      <td>0</td>\n",
       "      <td>1</td>\n",
       "      <td>New Town,Kolkata</td>\n",
       "      <td>22.592200</td>\n",
       "      <td>88.484911</td>\n",
       "      <td>60.5</td>\n",
       "    </tr>\n",
       "  </tbody>\n",
       "</table>\n",
       "</div>"
      ],
      "text/plain": [
       "  POSTED_BY  UNDER_CONSTRUCTION  RERA  BHK_NO.    SQUARE_FT  READY_TO_MOVE  \\\n",
       "0     Owner                   0     0        2  1300.236407              1   \n",
       "1    Dealer                   0     0        2  1275.000000              1   \n",
       "2     Owner                   0     0        2   933.159722              1   \n",
       "3     Owner                   0     1        2   929.921143              1   \n",
       "4    Dealer                   1     0        2   999.009247              0   \n",
       "\n",
       "   RESALE                      ADDRESS  LONGITUDE   LATITUDE  \\\n",
       "0       1        Ksfc Layout,Bangalore  12.969910  77.597960   \n",
       "1       1    Vishweshwara Nagar,Mysore  12.274538  76.644605   \n",
       "2       1             Jigani,Bangalore  12.778033  77.632191   \n",
       "3       1  Sector-1 Vaishali,Ghaziabad  28.642300  77.344500   \n",
       "4       1             New Town,Kolkata  22.592200  88.484911   \n",
       "\n",
       "   TARGET(PRICE_IN_LACS)  \n",
       "0                   55.0  \n",
       "1                   51.0  \n",
       "2                   43.0  \n",
       "3                   62.5  \n",
       "4                   60.5  "
      ]
     },
     "execution_count": 42,
     "metadata": {},
     "output_type": "execute_result"
    }
   ],
   "source": [
    "df4.head()"
   ]
  },
  {
   "cell_type": "code",
   "execution_count": 43,
   "metadata": {},
   "outputs": [],
   "source": [
    "## Let's see How many building are ready to move"
   ]
  },
  {
   "cell_type": "code",
   "execution_count": 44,
   "metadata": {},
   "outputs": [
    {
     "data": {
      "text/plain": [
       "1    24098\n",
       "0     5279\n",
       "Name: READY_TO_MOVE, dtype: int64"
      ]
     },
     "execution_count": 44,
     "metadata": {},
     "output_type": "execute_result"
    }
   ],
   "source": [
    "df4[\"READY_TO_MOVE\"].value_counts()"
   ]
  },
  {
   "cell_type": "code",
   "execution_count": 45,
   "metadata": {},
   "outputs": [
    {
     "data": {
      "text/plain": [
       "READY_TO_MOVE\n",
       "0    221.023724\n",
       "1    121.468453\n",
       "Name: TARGET(PRICE_IN_LACS), dtype: float64"
      ]
     },
     "execution_count": 45,
     "metadata": {},
     "output_type": "execute_result"
    }
   ],
   "source": [
    "df4.groupby(\"READY_TO_MOVE\")[\"TARGET(PRICE_IN_LACS)\"].mean()\n",
    "## There is no much more difference in"
   ]
  },
  {
   "cell_type": "code",
   "execution_count": 46,
   "metadata": {},
   "outputs": [
    {
     "data": {
      "text/plain": [
       "1    27311\n",
       "0     2066\n",
       "Name: RESALE, dtype: int64"
      ]
     },
     "execution_count": 46,
     "metadata": {},
     "output_type": "execute_result"
    }
   ],
   "source": [
    "df4[\"RESALE\"].value_counts()"
   ]
  },
  {
   "cell_type": "code",
   "execution_count": 47,
   "metadata": {},
   "outputs": [
    {
     "data": {
      "text/plain": [
       "RESALE\n",
       "0    640.193311\n",
       "1    101.471628\n",
       "Name: TARGET(PRICE_IN_LACS), dtype: float64"
      ]
     },
     "execution_count": 47,
     "metadata": {},
     "output_type": "execute_result"
    }
   ],
   "source": [
    "## As you can see most of the houses are resold\n",
    "df4.groupby(\"RESALE\")[\"TARGET(PRICE_IN_LACS)\"].mean()"
   ]
  },
  {
   "cell_type": "code",
   "execution_count": 48,
   "metadata": {},
   "outputs": [],
   "source": [
    "## It is clearly seen that resold houses are relatively lower price"
   ]
  },
  {
   "cell_type": "code",
   "execution_count": 49,
   "metadata": {},
   "outputs": [],
   "source": [
    "## Let's see the address columns"
   ]
  },
  {
   "cell_type": "code",
   "execution_count": 50,
   "metadata": {},
   "outputs": [
    {
     "data": {
      "text/plain": [
       "Zirakpur,Chandigarh              509\n",
       "Whitefield,Bangalore             230\n",
       "Raj Nagar Extension,Ghaziabad    215\n",
       "Sector-137 Noida,Noida           139\n",
       "New Town,Kolkata                 131\n",
       "                                ... \n",
       "Surathkal,Mangalore                1\n",
       "Tikrapara,Bilaspur                 1\n",
       "shiyapura,Vadodara                 1\n",
       "Shankarapuram,Bangalore            1\n",
       "Sector-42 Noida,Noida              1\n",
       "Name: ADDRESS, Length: 6868, dtype: int64"
      ]
     },
     "execution_count": 50,
     "metadata": {},
     "output_type": "execute_result"
    }
   ],
   "source": [
    "df4[\"ADDRESS\"].value_counts()"
   ]
  },
  {
   "cell_type": "code",
   "execution_count": 51,
   "metadata": {},
   "outputs": [],
   "source": [
    "## As we can see in the address , at the end of each address there is a prominent city or state name\n",
    "##Let's extract these citis and states from these columns"
   ]
  },
  {
   "cell_type": "code",
   "execution_count": 52,
   "metadata": {},
   "outputs": [
    {
     "data": {
      "text/plain": [
       "0        Bangalore\n",
       "1           Mysore\n",
       "2        Bangalore\n",
       "3        Ghaziabad\n",
       "4          Kolkata\n",
       "           ...    \n",
       "29446         Agra\n",
       "29447         Vapi\n",
       "29448       Jaipur\n",
       "29449      Chennai\n",
       "29450       Jaipur\n",
       "Name: ADDRESS, Length: 29377, dtype: object"
      ]
     },
     "execution_count": 52,
     "metadata": {},
     "output_type": "execute_result"
    }
   ],
   "source": [
    "df4[\"ADDRESS\"].apply(lambda x : x.split(\",\")[-1].strip())"
   ]
  },
  {
   "cell_type": "code",
   "execution_count": 53,
   "metadata": {
    "scrolled": false
   },
   "outputs": [],
   "source": [
    "## Let's store these values in a new column\n",
    "df4[\"LOCATION\"]=df4[\"ADDRESS\"].apply(lambda x : x.split(\",\")[-1].strip())"
   ]
  },
  {
   "cell_type": "code",
   "execution_count": 54,
   "metadata": {
    "scrolled": true
   },
   "outputs": [
    {
     "data": {
      "text/plain": [
       "Bangalore         4326\n",
       "Lalitpur          2966\n",
       "Mumbai            2022\n",
       "Pune              1989\n",
       "Noida             1767\n",
       "Kolkata           1707\n",
       "Maharashtra       1578\n",
       "Chennai           1253\n",
       "Ghaziabad         1087\n",
       "Jaipur             960\n",
       "Chandigarh         696\n",
       "Faridabad          648\n",
       "Mohali             556\n",
       "Vadodara           509\n",
       "Gurgaon            430\n",
       "Surat              423\n",
       "Nagpur             336\n",
       "Lucknow            326\n",
       "Indore             306\n",
       "Bhubaneswar        234\n",
       "Bhopal             218\n",
       "Kochi              204\n",
       "Visakhapatnam      178\n",
       "Bhiwadi            161\n",
       "Goa                149\n",
       "Coimbatore         147\n",
       "Dehradun           131\n",
       "Ranchi             124\n",
       "Mangalore          121\n",
       "Gandhinagar        118\n",
       "Sonipat            117\n",
       "Secunderabad       108\n",
       "Palghar            107\n",
       "Kanpur              92\n",
       "Raipur              89\n",
       "Guwahati            89\n",
       "Jamshedpur          86\n",
       "Siliguri            83\n",
       "Rajkot              83\n",
       "Agra                83\n",
       "Patna               82\n",
       "Panchkula           82\n",
       "Vijayawada          79\n",
       "Jamnagar            66\n",
       "Aurangabad          66\n",
       "Raigad              65\n",
       "Dharuhera           63\n",
       "Thrissur            57\n",
       "Durgapur            55\n",
       "Gwalior             53\n",
       "Meerut              51\n",
       "Allahabad           49\n",
       "Bahadurgarh         49\n",
       "Anand               48\n",
       "Ernakulam           46\n",
       "Kota                44\n",
       "Mysore              43\n",
       "Bharuch             43\n",
       "Valsad              42\n",
       "Varanasi            42\n",
       "Haridwar            40\n",
       "Ratnagiri           40\n",
       "Bhilai              39\n",
       "Jalandhar           38\n",
       "Vapi                37\n",
       "Udaipur             35\n",
       "Asansol             35\n",
       "Neemrana            35\n",
       "Jabalpur            34\n",
       "Udupi               34\n",
       "Kolhapur            33\n",
       "Madurai             32\n",
       "Panaji              32\n",
       "Guntur              32\n",
       "Bhavnagar           31\n",
       "Ludhiana            31\n",
       "Hubli               30\n",
       "Dhanbad             30\n",
       "Amravati            28\n",
       "Jodhpur             27\n",
       "Ahmednagar          25\n",
       "Palakkad            24\n",
       "Aligarh             22\n",
       "Sindhudurg          22\n",
       "Solapur             22\n",
       "Nellore             22\n",
       "Ajmer               21\n",
       "Navsari             21\n",
       "Bilaspur            21\n",
       "Shimla              21\n",
       "Karjat              20\n",
       "Margao              19\n",
       "Belgaum             19\n",
       "Vizianagaram        18\n",
       "Rudrapur            18\n",
       "Junagadh            18\n",
       "Kottayam            18\n",
       "Jalgaon             17\n",
       "Pondicherry         17\n",
       "Tirupati            16\n",
       "Mathura             16\n",
       "Solan               15\n",
       "Karad               14\n",
       "Nainital            13\n",
       "Kakinada            12\n",
       "Kannur              12\n",
       "Chandrapur          12\n",
       "Alwar               11\n",
       "Durg                11\n",
       "Amritsar            11\n",
       "Wardha              10\n",
       "Latur               10\n",
       "Puri                10\n",
       "Kanchipuram         10\n",
       "Karnal              10\n",
       "Akola                9\n",
       "Bareilly             9\n",
       "Gandhidham           9\n",
       "Hazaribagh           9\n",
       "Tirunelveli          8\n",
       "Tenali               8\n",
       "Cuttack              8\n",
       "Bardhaman            8\n",
       "Moradabad            8\n",
       "Rohtak               8\n",
       "Ongole               7\n",
       "Rewari               7\n",
       "Jhansi               7\n",
       "Berhampur            7\n",
       "Eluru                7\n",
       "Morbi                6\n",
       "Kollam               6\n",
       "Haldwani             6\n",
       "Muzaffarpur          6\n",
       "Palwal               6\n",
       "Shirdi               5\n",
       "Bhimavaram           5\n",
       "Raigarh              5\n",
       "Bokaro               5\n",
       "Anantapur            5\n",
       "Dharwad              5\n",
       "Gaya                 5\n",
       "Nadiad               5\n",
       "Ujjain               5\n",
       "Gulbarga             5\n",
       "Panipat              4\n",
       "Jammu                4\n",
       "Ambala               4\n",
       "Kharagpur            4\n",
       "Thanjavur            4\n",
       "Warangal             4\n",
       "Nanded               4\n",
       "Godhra               4\n",
       "Hosur                4\n",
       "Dhule                4\n",
       "Bhagalpur            4\n",
       "Sikar                3\n",
       "Rishikesh            3\n",
       "Porbandar            3\n",
       "Hapur                3\n",
       "Jalna                3\n",
       "Gadhinglaj           3\n",
       "Erode                3\n",
       "Thoothukudi          3\n",
       "Bhandara             3\n",
       "Hoshangabad          3\n",
       "Dalhousie            3\n",
       "Satna                3\n",
       "Pathanamthitta       3\n",
       "Salem                3\n",
       "Roorkee              3\n",
       "Srikakulam           3\n",
       "Rourkela             2\n",
       "Bankura              2\n",
       "Baddi                2\n",
       "Jind                 2\n",
       "Hoshiarpur           2\n",
       "Bhiwani              2\n",
       "Bikaner              2\n",
       "Barabanki            2\n",
       "Arrah                2\n",
       "Ooty                 2\n",
       "Karwar               2\n",
       "Gurdaspur            2\n",
       "Kotdwara             2\n",
       "Idukki               2\n",
       "Haldia               2\n",
       "Beed                 2\n",
       "Kurnool              2\n",
       "Patiala              2\n",
       "Rewa                 2\n",
       "Yavatmal             2\n",
       "Deoghar              2\n",
       "Kadapa               2\n",
       "Kadi                 2\n",
       "Phagwara             1\n",
       "Silchar              1\n",
       "Rajpura              1\n",
       "Kangra               1\n",
       "Pudukkottai          1\n",
       "Jhunjhunu            1\n",
       "Harda                1\n",
       "Jharsuguda           1\n",
       "Bharatpur            1\n",
       "Darbhanga            1\n",
       "Nagaur               1\n",
       "Malappuram           1\n",
       "Jajpur               1\n",
       "Sabarkantha          1\n",
       "Darjeeling           1\n",
       "Banswara             1\n",
       "Kurukshetra          1\n",
       "Rajnandgaon          1\n",
       "Hathras              1\n",
       "Midnapore            1\n",
       "Srinagar             1\n",
       "Ottapalam            1\n",
       "Sambalpur            1\n",
       "Angul                1\n",
       "Pali                 1\n",
       "Nagapattinam         1\n",
       "Agartala             1\n",
       "Chittoor             1\n",
       "Hassan               1\n",
       "Nagaon               1\n",
       "Hajipur              1\n",
       "Raisen               1\n",
       "Vellore              1\n",
       "Chhindwara           1\n",
       "Betul                1\n",
       "Amroha               1\n",
       "Gadarwara            1\n",
       "Raichur              1\n",
       "Surendranagar        1\n",
       "Jagdalpur            1\n",
       "Siddipet             1\n",
       "Korba                1\n",
       "Machilipatnam        1\n",
       "Gondia               1\n",
       "Karaikudi            1\n",
       "Visnagar             1\n",
       "Washim               1\n",
       "Osmanabad            1\n",
       "Cuddalore            1\n",
       "Dahod                1\n",
       "Bhuj                 1\n",
       "Siwan                1\n",
       "Balasore             1\n",
       "Dibrugarh            1\n",
       "Rayagada             1\n",
       "Palanpur             1\n",
       "Faizabad             1\n",
       "Name: LOCATION, dtype: int64"
      ]
     },
     "execution_count": 54,
     "metadata": {},
     "output_type": "execute_result"
    }
   ],
   "source": [
    "df4[\"LOCATION\"].value_counts()"
   ]
  },
  {
   "cell_type": "code",
   "execution_count": 55,
   "metadata": {},
   "outputs": [],
   "source": [
    "## Let's make the value of the loaction \"Others\" if that value is less frequent i.e less than 20"
   ]
  },
  {
   "cell_type": "code",
   "execution_count": 56,
   "metadata": {},
   "outputs": [],
   "source": [
    "rare_values=list(df4[\"LOCATION\"].value_counts()[df4[\"LOCATION\"].value_counts()<15].index)"
   ]
  },
  {
   "cell_type": "code",
   "execution_count": 57,
   "metadata": {},
   "outputs": [
    {
     "data": {
      "text/plain": [
       "['Karad',\n",
       " 'Nainital',\n",
       " 'Kakinada',\n",
       " 'Kannur',\n",
       " 'Chandrapur',\n",
       " 'Alwar',\n",
       " 'Durg',\n",
       " 'Amritsar',\n",
       " 'Wardha',\n",
       " 'Latur',\n",
       " 'Puri',\n",
       " 'Kanchipuram',\n",
       " 'Karnal',\n",
       " 'Akola',\n",
       " 'Bareilly',\n",
       " 'Gandhidham',\n",
       " 'Hazaribagh',\n",
       " 'Tirunelveli',\n",
       " 'Tenali',\n",
       " 'Cuttack',\n",
       " 'Bardhaman',\n",
       " 'Moradabad',\n",
       " 'Rohtak',\n",
       " 'Ongole',\n",
       " 'Rewari',\n",
       " 'Jhansi',\n",
       " 'Berhampur',\n",
       " 'Eluru',\n",
       " 'Morbi',\n",
       " 'Kollam',\n",
       " 'Haldwani',\n",
       " 'Muzaffarpur',\n",
       " 'Palwal',\n",
       " 'Shirdi',\n",
       " 'Bhimavaram',\n",
       " 'Raigarh',\n",
       " 'Bokaro',\n",
       " 'Anantapur',\n",
       " 'Dharwad',\n",
       " 'Gaya',\n",
       " 'Nadiad',\n",
       " 'Ujjain',\n",
       " 'Gulbarga',\n",
       " 'Panipat',\n",
       " 'Jammu',\n",
       " 'Ambala',\n",
       " 'Kharagpur',\n",
       " 'Thanjavur',\n",
       " 'Warangal',\n",
       " 'Nanded',\n",
       " 'Godhra',\n",
       " 'Hosur',\n",
       " 'Dhule',\n",
       " 'Bhagalpur',\n",
       " 'Sikar',\n",
       " 'Rishikesh',\n",
       " 'Porbandar',\n",
       " 'Hapur',\n",
       " 'Jalna',\n",
       " 'Gadhinglaj',\n",
       " 'Erode',\n",
       " 'Thoothukudi',\n",
       " 'Bhandara',\n",
       " 'Hoshangabad',\n",
       " 'Dalhousie',\n",
       " 'Satna',\n",
       " 'Pathanamthitta',\n",
       " 'Salem',\n",
       " 'Roorkee',\n",
       " 'Srikakulam',\n",
       " 'Rourkela',\n",
       " 'Bankura',\n",
       " 'Baddi',\n",
       " 'Jind',\n",
       " 'Hoshiarpur',\n",
       " 'Bhiwani',\n",
       " 'Bikaner',\n",
       " 'Barabanki',\n",
       " 'Arrah',\n",
       " 'Ooty',\n",
       " 'Karwar',\n",
       " 'Gurdaspur',\n",
       " 'Kotdwara',\n",
       " 'Idukki',\n",
       " 'Haldia',\n",
       " 'Beed',\n",
       " 'Kurnool',\n",
       " 'Patiala',\n",
       " 'Rewa',\n",
       " 'Yavatmal',\n",
       " 'Deoghar',\n",
       " 'Kadapa',\n",
       " 'Kadi',\n",
       " 'Phagwara',\n",
       " 'Silchar',\n",
       " 'Rajpura',\n",
       " 'Kangra',\n",
       " 'Pudukkottai',\n",
       " 'Jhunjhunu',\n",
       " 'Harda',\n",
       " 'Jharsuguda',\n",
       " 'Bharatpur',\n",
       " 'Darbhanga',\n",
       " 'Nagaur',\n",
       " 'Malappuram',\n",
       " 'Jajpur',\n",
       " 'Sabarkantha',\n",
       " 'Darjeeling',\n",
       " 'Banswara',\n",
       " 'Kurukshetra',\n",
       " 'Rajnandgaon',\n",
       " 'Hathras',\n",
       " 'Midnapore',\n",
       " 'Srinagar',\n",
       " 'Ottapalam',\n",
       " 'Sambalpur',\n",
       " 'Angul',\n",
       " 'Pali',\n",
       " 'Nagapattinam',\n",
       " 'Agartala',\n",
       " 'Chittoor',\n",
       " 'Hassan',\n",
       " 'Nagaon',\n",
       " 'Hajipur',\n",
       " 'Raisen',\n",
       " 'Vellore',\n",
       " 'Chhindwara',\n",
       " 'Betul',\n",
       " 'Amroha',\n",
       " 'Gadarwara',\n",
       " 'Raichur',\n",
       " 'Surendranagar',\n",
       " 'Jagdalpur',\n",
       " 'Siddipet',\n",
       " 'Korba',\n",
       " 'Machilipatnam',\n",
       " 'Gondia',\n",
       " 'Karaikudi',\n",
       " 'Visnagar',\n",
       " 'Washim',\n",
       " 'Osmanabad',\n",
       " 'Cuddalore',\n",
       " 'Dahod',\n",
       " 'Bhuj',\n",
       " 'Siwan',\n",
       " 'Balasore',\n",
       " 'Dibrugarh',\n",
       " 'Rayagada',\n",
       " 'Palanpur',\n",
       " 'Faizabad']"
      ]
     },
     "execution_count": 57,
     "metadata": {},
     "output_type": "execute_result"
    }
   ],
   "source": [
    "rare_values"
   ]
  },
  {
   "cell_type": "code",
   "execution_count": 58,
   "metadata": {},
   "outputs": [],
   "source": [
    "df4[\"LOCATION\"].replace(rare_values,\"Others\",inplace=True)"
   ]
  },
  {
   "cell_type": "code",
   "execution_count": 59,
   "metadata": {
    "scrolled": true
   },
   "outputs": [
    {
     "data": {
      "text/plain": [
       "Bangalore        4326\n",
       "Lalitpur         2966\n",
       "Mumbai           2022\n",
       "Pune             1989\n",
       "Noida            1767\n",
       "Kolkata          1707\n",
       "Maharashtra      1578\n",
       "Chennai          1253\n",
       "Ghaziabad        1087\n",
       "Jaipur            960\n",
       "Chandigarh        696\n",
       "Faridabad         648\n",
       "Mohali            556\n",
       "Others            540\n",
       "Vadodara          509\n",
       "Gurgaon           430\n",
       "Surat             423\n",
       "Nagpur            336\n",
       "Lucknow           326\n",
       "Indore            306\n",
       "Bhubaneswar       234\n",
       "Bhopal            218\n",
       "Kochi             204\n",
       "Visakhapatnam     178\n",
       "Bhiwadi           161\n",
       "Goa               149\n",
       "Coimbatore        147\n",
       "Dehradun          131\n",
       "Ranchi            124\n",
       "Mangalore         121\n",
       "Gandhinagar       118\n",
       "Sonipat           117\n",
       "Secunderabad      108\n",
       "Palghar           107\n",
       "Kanpur             92\n",
       "Raipur             89\n",
       "Guwahati           89\n",
       "Jamshedpur         86\n",
       "Rajkot             83\n",
       "Agra               83\n",
       "Siliguri           83\n",
       "Panchkula          82\n",
       "Patna              82\n",
       "Vijayawada         79\n",
       "Aurangabad         66\n",
       "Jamnagar           66\n",
       "Raigad             65\n",
       "Dharuhera          63\n",
       "Thrissur           57\n",
       "Durgapur           55\n",
       "Gwalior            53\n",
       "Meerut             51\n",
       "Allahabad          49\n",
       "Bahadurgarh        49\n",
       "Anand              48\n",
       "Ernakulam          46\n",
       "Kota               44\n",
       "Mysore             43\n",
       "Bharuch            43\n",
       "Valsad             42\n",
       "Varanasi           42\n",
       "Haridwar           40\n",
       "Ratnagiri          40\n",
       "Bhilai             39\n",
       "Jalandhar          38\n",
       "Vapi               37\n",
       "Neemrana           35\n",
       "Asansol            35\n",
       "Udaipur            35\n",
       "Udupi              34\n",
       "Jabalpur           34\n",
       "Kolhapur           33\n",
       "Panaji             32\n",
       "Madurai            32\n",
       "Guntur             32\n",
       "Bhavnagar          31\n",
       "Ludhiana           31\n",
       "Dhanbad            30\n",
       "Hubli              30\n",
       "Amravati           28\n",
       "Jodhpur            27\n",
       "Ahmednagar         25\n",
       "Palakkad           24\n",
       "Aligarh            22\n",
       "Nellore            22\n",
       "Sindhudurg         22\n",
       "Solapur            22\n",
       "Navsari            21\n",
       "Shimla             21\n",
       "Bilaspur           21\n",
       "Ajmer              21\n",
       "Karjat             20\n",
       "Belgaum            19\n",
       "Margao             19\n",
       "Junagadh           18\n",
       "Vizianagaram       18\n",
       "Rudrapur           18\n",
       "Kottayam           18\n",
       "Jalgaon            17\n",
       "Pondicherry        17\n",
       "Tirupati           16\n",
       "Mathura            16\n",
       "Solan              15\n",
       "Name: LOCATION, dtype: int64"
      ]
     },
     "execution_count": 59,
     "metadata": {},
     "output_type": "execute_result"
    }
   ],
   "source": [
    "df4[\"LOCATION\"].value_counts()"
   ]
  },
  {
   "cell_type": "code",
   "execution_count": 60,
   "metadata": {},
   "outputs": [],
   "source": [
    "## Let's drop ADDRESS column\n",
    "## As Latitude and Longitude are Specific to that address let's drop this also\n"
   ]
  },
  {
   "cell_type": "code",
   "execution_count": 61,
   "metadata": {},
   "outputs": [],
   "source": [
    "df5=df4.drop(columns=[\"ADDRESS\",\"LATITUDE\",\"LONGITUDE\"])"
   ]
  },
  {
   "cell_type": "code",
   "execution_count": 62,
   "metadata": {},
   "outputs": [],
   "source": [
    "locations_values=list(df5[\"LOCATION\"].unique())"
   ]
  },
  {
   "cell_type": "code",
   "execution_count": 63,
   "metadata": {
    "scrolled": true
   },
   "outputs": [
    {
     "data": {
      "text/plain": [
       "['Bangalore',\n",
       " 'Mysore',\n",
       " 'Ghaziabad',\n",
       " 'Kolkata',\n",
       " 'Kochi',\n",
       " 'Jaipur',\n",
       " 'Mohali',\n",
       " 'Chennai',\n",
       " 'Siliguri',\n",
       " 'Noida',\n",
       " 'Raigad',\n",
       " 'Bhubaneswar',\n",
       " 'Others',\n",
       " 'Pune',\n",
       " 'Mumbai',\n",
       " 'Nagpur',\n",
       " 'Bhiwadi',\n",
       " 'Faridabad',\n",
       " 'Lalitpur',\n",
       " 'Maharashtra',\n",
       " 'Vadodara',\n",
       " 'Visakhapatnam',\n",
       " 'Vapi',\n",
       " 'Mangalore',\n",
       " 'Aurangabad',\n",
       " 'Vijayawada',\n",
       " 'Belgaum',\n",
       " 'Bhopal',\n",
       " 'Lucknow',\n",
       " 'Kanpur',\n",
       " 'Gandhinagar',\n",
       " 'Pondicherry',\n",
       " 'Agra',\n",
       " 'Ranchi',\n",
       " 'Gurgaon',\n",
       " 'Udupi',\n",
       " 'Indore',\n",
       " 'Jodhpur',\n",
       " 'Coimbatore',\n",
       " 'Valsad',\n",
       " 'Palghar',\n",
       " 'Surat',\n",
       " 'Varanasi',\n",
       " 'Guwahati',\n",
       " 'Amravati',\n",
       " 'Anand',\n",
       " 'Tirupati',\n",
       " 'Secunderabad',\n",
       " 'Raipur',\n",
       " 'Vizianagaram',\n",
       " 'Thrissur',\n",
       " 'Madurai',\n",
       " 'Chandigarh',\n",
       " 'Shimla',\n",
       " 'Gwalior',\n",
       " 'Rajkot',\n",
       " 'Sonipat',\n",
       " 'Allahabad',\n",
       " 'Dharuhera',\n",
       " 'Durgapur',\n",
       " 'Panchkula',\n",
       " 'Solapur',\n",
       " 'Goa',\n",
       " 'Jamshedpur',\n",
       " 'Jabalpur',\n",
       " 'Hubli',\n",
       " 'Patna',\n",
       " 'Bilaspur',\n",
       " 'Ratnagiri',\n",
       " 'Meerut',\n",
       " 'Jalandhar',\n",
       " 'Ludhiana',\n",
       " 'Kota',\n",
       " 'Panaji',\n",
       " 'Kolhapur',\n",
       " 'Ernakulam',\n",
       " 'Bhavnagar',\n",
       " 'Bharuch',\n",
       " 'Asansol',\n",
       " 'Margao',\n",
       " 'Bhilai',\n",
       " 'Dehradun',\n",
       " 'Guntur',\n",
       " 'Jalgaon',\n",
       " 'Udaipur',\n",
       " 'Neemrana',\n",
       " 'Sindhudurg',\n",
       " 'Kottayam',\n",
       " 'Dhanbad',\n",
       " 'Navsari',\n",
       " 'Bahadurgarh',\n",
       " 'Nellore',\n",
       " 'Haridwar',\n",
       " 'Jamnagar',\n",
       " 'Junagadh',\n",
       " 'Ahmednagar',\n",
       " 'Palakkad',\n",
       " 'Karjat',\n",
       " 'Ajmer',\n",
       " 'Aligarh',\n",
       " 'Rudrapur',\n",
       " 'Solan',\n",
       " 'Mathura']"
      ]
     },
     "execution_count": 63,
     "metadata": {},
     "output_type": "execute_result"
    }
   ],
   "source": [
    "locations_values"
   ]
  },
  {
   "cell_type": "code",
   "execution_count": 111,
   "metadata": {},
   "outputs": [],
   "source": [
    "cat_col=[col for col in df5.columns if df5[col].dtypes ==\"O\"]"
   ]
  },
  {
   "cell_type": "code",
   "execution_count": 112,
   "metadata": {},
   "outputs": [
    {
     "data": {
      "text/plain": [
       "['POSTED_BY', 'LOCATION']"
      ]
     },
     "execution_count": 112,
     "metadata": {},
     "output_type": "execute_result"
    }
   ],
   "source": [
    "cat_col"
   ]
  },
  {
   "cell_type": "code",
   "execution_count": 113,
   "metadata": {},
   "outputs": [],
   "source": [
    "## Let's use label encoding to fill the value of categorical columns"
   ]
  },
  {
   "cell_type": "code",
   "execution_count": 114,
   "metadata": {},
   "outputs": [
    {
     "data": {
      "text/plain": [
       "array(['Owner', 'Dealer', 'Builder'], dtype=object)"
      ]
     },
     "execution_count": 114,
     "metadata": {},
     "output_type": "execute_result"
    }
   ],
   "source": [
    "df5[\"POSTED_BY\"].unique()"
   ]
  },
  {
   "cell_type": "code",
   "execution_count": 115,
   "metadata": {},
   "outputs": [],
   "source": [
    "posted_map={\"Owner\":0,\"Dealer\":1,\"Builder\":2}"
   ]
  },
  {
   "cell_type": "code",
   "execution_count": 69,
   "metadata": {},
   "outputs": [],
   "source": [
    "all_loc=list(df5.groupby(\"LOCATION\")[\"TARGET(PRICE_IN_LACS)\"].mean().sort_values().index)"
   ]
  },
  {
   "cell_type": "code",
   "execution_count": 70,
   "metadata": {},
   "outputs": [],
   "source": [
    "location_map={loc:i for i,loc in enumerate(all_loc)}"
   ]
  },
  {
   "cell_type": "code",
   "execution_count": 71,
   "metadata": {
    "collapsed": true
   },
   "outputs": [
    {
     "data": {
      "text/plain": [
       "{'Karjat': 0,\n",
       " 'Bhavnagar': 1,\n",
       " 'Rudrapur': 2,\n",
       " 'Palghar': 3,\n",
       " 'Junagadh': 4,\n",
       " 'Durgapur': 5,\n",
       " 'Ratnagiri': 6,\n",
       " 'Bharuch': 7,\n",
       " 'Vapi': 8,\n",
       " 'Neemrana': 9,\n",
       " 'Bhiwadi': 10,\n",
       " 'Valsad': 11,\n",
       " 'Bhilai': 12,\n",
       " 'Navsari': 13,\n",
       " 'Asansol': 14,\n",
       " 'Vizianagaram': 15,\n",
       " 'Jamnagar': 16,\n",
       " 'Haridwar': 17,\n",
       " 'Mathura': 18,\n",
       " 'Raigad': 19,\n",
       " 'Meerut': 20,\n",
       " 'Sindhudurg': 21,\n",
       " 'Bilaspur': 22,\n",
       " 'Solan': 23,\n",
       " 'Dhanbad': 24,\n",
       " 'Bhopal': 25,\n",
       " 'Aurangabad': 26,\n",
       " 'Nellore': 27,\n",
       " 'Hubli': 28,\n",
       " 'Raipur': 29,\n",
       " 'Amravati': 30,\n",
       " 'Ajmer': 31,\n",
       " 'Dharuhera': 32,\n",
       " 'Solapur': 33,\n",
       " 'Kolhapur': 34,\n",
       " 'Siliguri': 35,\n",
       " 'Gwalior': 36,\n",
       " 'Others': 37,\n",
       " 'Ahmednagar': 38,\n",
       " 'Agra': 39,\n",
       " 'Udupi': 40,\n",
       " 'Aligarh': 41,\n",
       " 'Jodhpur': 42,\n",
       " 'Gandhinagar': 43,\n",
       " 'Guntur': 44,\n",
       " 'Anand': 45,\n",
       " 'Bahadurgarh': 46,\n",
       " 'Belgaum': 47,\n",
       " 'Indore': 48,\n",
       " 'Jamshedpur': 49,\n",
       " 'Margao': 50,\n",
       " 'Rajkot': 51,\n",
       " 'Palakkad': 52,\n",
       " 'Madurai': 53,\n",
       " 'Sonipat': 54,\n",
       " 'Kota': 55,\n",
       " 'Vijayawada': 56,\n",
       " 'Jabalpur': 57,\n",
       " 'Pondicherry': 58,\n",
       " 'Guwahati': 59,\n",
       " 'Jalandhar': 60,\n",
       " 'Allahabad': 61,\n",
       " 'Tirupati': 62,\n",
       " 'Udaipur': 63,\n",
       " 'Secunderabad': 64,\n",
       " 'Vadodara': 65,\n",
       " 'Visakhapatnam': 66,\n",
       " 'Ghaziabad': 67,\n",
       " 'Jaipur': 68,\n",
       " 'Thrissur': 69,\n",
       " 'Patna': 70,\n",
       " 'Faridabad': 71,\n",
       " 'Bhubaneswar': 72,\n",
       " 'Surat': 73,\n",
       " 'Shimla': 74,\n",
       " 'Varanasi': 75,\n",
       " 'Mysore': 76,\n",
       " 'Mangalore': 77,\n",
       " 'Dehradun': 78,\n",
       " 'Nagpur': 79,\n",
       " 'Coimbatore': 80,\n",
       " 'Ernakulam': 81,\n",
       " 'Ludhiana': 82,\n",
       " 'Panchkula': 83,\n",
       " 'Lucknow': 84,\n",
       " 'Chandigarh': 85,\n",
       " 'Kolkata': 86,\n",
       " 'Kanpur': 87,\n",
       " 'Kottayam': 88,\n",
       " 'Panaji': 89,\n",
       " 'Jalgaon': 90,\n",
       " 'Mohali': 91,\n",
       " 'Pune': 92,\n",
       " 'Kochi': 93,\n",
       " 'Ranchi': 94,\n",
       " 'Noida': 95,\n",
       " 'Chennai': 96,\n",
       " 'Bangalore': 97,\n",
       " 'Goa': 98,\n",
       " 'Lalitpur': 99,\n",
       " 'Mumbai': 100,\n",
       " 'Maharashtra': 101,\n",
       " 'Gurgaon': 102}"
      ]
     },
     "execution_count": 71,
     "metadata": {},
     "output_type": "execute_result"
    }
   ],
   "source": [
    "location_map"
   ]
  },
  {
   "cell_type": "code",
   "execution_count": 128,
   "metadata": {},
   "outputs": [],
   "source": [
    "df5[\"LOCATION\"]=df5[\"LOCATION\"].map(location_map)"
   ]
  },
  {
   "cell_type": "code",
   "execution_count": 130,
   "metadata": {},
   "outputs": [],
   "source": [
    "df5[\"POSTED_BY\"]=df5[\"POSTED_BY\"].map(posted_map)"
   ]
  },
  {
   "cell_type": "code",
   "execution_count": 134,
   "metadata": {},
   "outputs": [
    {
     "name": "stdout",
     "output_type": "stream",
     "text": [
      "<class 'pandas.core.frame.DataFrame'>\n",
      "Int64Index: 29377 entries, 0 to 29450\n",
      "Data columns (total 9 columns):\n",
      " #   Column                 Non-Null Count  Dtype  \n",
      "---  ------                 --------------  -----  \n",
      " 0   POSTED_BY              29377 non-null  int64  \n",
      " 1   UNDER_CONSTRUCTION     29377 non-null  int64  \n",
      " 2   RERA                   29377 non-null  int64  \n",
      " 3   BHK_NO.                29377 non-null  int64  \n",
      " 4   SQUARE_FT              29377 non-null  float64\n",
      " 5   READY_TO_MOVE          29377 non-null  int64  \n",
      " 6   RESALE                 29377 non-null  int64  \n",
      " 7   TARGET(PRICE_IN_LACS)  29377 non-null  float64\n",
      " 8   LOCATION               29377 non-null  int64  \n",
      "dtypes: float64(2), int64(7)\n",
      "memory usage: 2.2 MB\n"
     ]
    }
   ],
   "source": [
    "df5.info()"
   ]
  },
  {
   "cell_type": "markdown",
   "metadata": {},
   "source": [
    "## Let's see correlation plot"
   ]
  },
  {
   "cell_type": "code",
   "execution_count": 135,
   "metadata": {},
   "outputs": [],
   "source": [
    "##Let's plot correlation between output and input features"
   ]
  },
  {
   "cell_type": "code",
   "execution_count": 142,
   "metadata": {},
   "outputs": [
    {
     "data": {
      "text/plain": [
       "<matplotlib.axes._subplots.AxesSubplot at 0x15a7a278d88>"
      ]
     },
     "execution_count": 142,
     "metadata": {},
     "output_type": "execute_result"
    },
    {
     "data": {
      "image/png": "[encoded data removed]",
      "text/plain": [
       "<Figure size 720x360 with 1 Axes>"
      ]
     },
     "metadata": {
      "needs_background": "light"
     },
     "output_type": "display_data"
    }
   ],
   "source": [
    "plt.figure(figsize=(10,5))\n",
    "df5.drop(columns=[\"TARGET(PRICE_IN_LACS)\"]).corrwith(df[\"TARGET(PRICE_IN_LACS)\"]).plot(kind=\"bar\",color=\"purple\")"
   ]
  },
  {
   "cell_type": "code",
   "execution_count": 143,
   "metadata": {},
   "outputs": [],
   "source": [
    "## As you can see the square foot column is more correlated"
   ]
  },
  {
   "cell_type": "code",
   "execution_count": 147,
   "metadata": {},
   "outputs": [],
   "source": [
    "## Let's see correlation betweem input features"
   ]
  },
  {
   "cell_type": "code",
   "execution_count": 148,
   "metadata": {},
   "outputs": [
    {
     "data": {
      "text/plain": [
       "<matplotlib.axes._subplots.AxesSubplot at 0x15a7f2bca48>"
      ]
     },
     "execution_count": 148,
     "metadata": {},
     "output_type": "execute_result"
    },
    {
     "data": {
      "image/png": "[encoded data removed]",
      "text/plain": [
       "<Figure size 1080x1080 with 2 Axes>"
      ]
     },
     "metadata": {
      "needs_background": "light"
     },
     "output_type": "display_data"
    }
   ],
   "source": [
    "plt.figure(figsize=(15,15))\n",
    "sns.heatmap(df5.drop(columns=[\"TARGET(PRICE_IN_LACS)\"]).corr(),cmap=\"rainbow\",fmt=\".2f\",annot=True)"
   ]
  },
  {
   "cell_type": "code",
   "execution_count": 149,
   "metadata": {},
   "outputs": [],
   "source": [
    "## As I can see there is high correlation betwwen under construction and ready to move. The realtion is clear that as the house is under cnstruction it is not ready to use hence drop it"
   ]
  },
  {
   "cell_type": "code",
   "execution_count": 151,
   "metadata": {},
   "outputs": [],
   "source": [
    "df5.drop(columns=[\"UNDER_CONSTRUCTION\"],inplace=True)"
   ]
  },
  {
   "cell_type": "markdown",
   "metadata": {},
   "source": [
    "### Model Building"
   ]
  },
  {
   "cell_type": "code",
   "execution_count": 152,
   "metadata": {},
   "outputs": [],
   "source": [
    "X=df5.drop(columns=[\"TARGET(PRICE_IN_LACS)\"])\n",
    "y=df5[\"TARGET(PRICE_IN_LACS)\"]"
   ]
  },
  {
   "cell_type": "code",
   "execution_count": 153,
   "metadata": {},
   "outputs": [
    {
     "data": {
      "text/html": [
       "<div>\n",
       "<style scoped>\n",
       "    .dataframe tbody tr th:only-of-type {\n",
       "        vertical-align: middle;\n",
       "    }\n",
       "\n",
       "    .dataframe tbody tr th {\n",
       "        vertical-align: top;\n",
       "    }\n",
       "\n",
       "    .dataframe thead th {\n",
       "        text-align: right;\n",
       "    }\n",
       "</style>\n",
       "<table border=\"1\" class=\"dataframe\">\n",
       "  <thead>\n",
       "    <tr style=\"text-align: right;\">\n",
       "      <th></th>\n",
       "      <th>POSTED_BY</th>\n",
       "      <th>RERA</th>\n",
       "      <th>BHK_NO.</th>\n",
       "      <th>SQUARE_FT</th>\n",
       "      <th>READY_TO_MOVE</th>\n",
       "      <th>RESALE</th>\n",
       "      <th>LOCATION</th>\n",
       "    </tr>\n",
       "  </thead>\n",
       "  <tbody>\n",
       "    <tr>\n",
       "      <th>0</th>\n",
       "      <td>0</td>\n",
       "      <td>0</td>\n",
       "      <td>2</td>\n",
       "      <td>1300.236407</td>\n",
       "      <td>1</td>\n",
       "      <td>1</td>\n",
       "      <td>97</td>\n",
       "    </tr>\n",
       "    <tr>\n",
       "      <th>1</th>\n",
       "      <td>1</td>\n",
       "      <td>0</td>\n",
       "      <td>2</td>\n",
       "      <td>1275.000000</td>\n",
       "      <td>1</td>\n",
       "      <td>1</td>\n",
       "      <td>76</td>\n",
       "    </tr>\n",
       "    <tr>\n",
       "      <th>2</th>\n",
       "      <td>0</td>\n",
       "      <td>0</td>\n",
       "      <td>2</td>\n",
       "      <td>933.159722</td>\n",
       "      <td>1</td>\n",
       "      <td>1</td>\n",
       "      <td>97</td>\n",
       "    </tr>\n",
       "    <tr>\n",
       "      <th>3</th>\n",
       "      <td>0</td>\n",
       "      <td>1</td>\n",
       "      <td>2</td>\n",
       "      <td>929.921143</td>\n",
       "      <td>1</td>\n",
       "      <td>1</td>\n",
       "      <td>67</td>\n",
       "    </tr>\n",
       "    <tr>\n",
       "      <th>4</th>\n",
       "      <td>1</td>\n",
       "      <td>0</td>\n",
       "      <td>2</td>\n",
       "      <td>999.009247</td>\n",
       "      <td>0</td>\n",
       "      <td>1</td>\n",
       "      <td>86</td>\n",
       "    </tr>\n",
       "  </tbody>\n",
       "</table>\n",
       "</div>"
      ],
      "text/plain": [
       "   POSTED_BY  RERA  BHK_NO.    SQUARE_FT  READY_TO_MOVE  RESALE  LOCATION\n",
       "0          0     0        2  1300.236407              1       1        97\n",
       "1          1     0        2  1275.000000              1       1        76\n",
       "2          0     0        2   933.159722              1       1        97\n",
       "3          0     1        2   929.921143              1       1        67\n",
       "4          1     0        2   999.009247              0       1        86"
      ]
     },
     "execution_count": 153,
     "metadata": {},
     "output_type": "execute_result"
    }
   ],
   "source": [
    "X.head()"
   ]
  },
  {
   "cell_type": "code",
   "execution_count": 156,
   "metadata": {},
   "outputs": [
    {
     "data": {
      "text/plain": [
       "(29377, 7)"
      ]
     },
     "execution_count": 156,
     "metadata": {},
     "output_type": "execute_result"
    }
   ],
   "source": [
    "X.shape"
   ]
  },
  {
   "cell_type": "code",
   "execution_count": 155,
   "metadata": {},
   "outputs": [],
   "source": [
    "from sklearn.model_selection import train_test_split,cross_val_score,RandomizedSearchCV\n",
    "from sklearn.preprocessing import StandardScaler\n",
    "from sklearn.linear_model import LinearRegression,Lasso,Ridge\n",
    "from sklearn.svm import SVR\n",
    "from sklearn.tree import DecisionTreeRegressor\n",
    "from sklearn.ensemble import RandomForestRegressor,GradientBoostingRegressor\n",
    "from catboost import CatBoostRegressor\n",
    "from xgboost import XGBRegressor\n",
    "from lightgbm import LGBMRegressor\n",
    "from sklearn.metrics import r2_score,mean_squared_error"
   ]
  },
  {
   "cell_type": "code",
   "execution_count": 157,
   "metadata": {},
   "outputs": [],
   "source": [
    "train_X,test_X,train_y,test_y=train_test_split(X,y,test_size=0.15,random_state=100)"
   ]
  },
  {
   "cell_type": "code",
   "execution_count": 158,
   "metadata": {},
   "outputs": [],
   "source": [
    "sc=StandardScaler()\n",
    "train_X=sc.fit_transform(train_X)"
   ]
  },
  {
   "cell_type": "code",
   "execution_count": 159,
   "metadata": {},
   "outputs": [],
   "source": [
    "test_X=sc.transform(test_X)"
   ]
  },
  {
   "cell_type": "code",
   "execution_count": 160,
   "metadata": {},
   "outputs": [],
   "source": [
    "def check_test_score(model):\n",
    "    pred=model.predict(test_X)\n",
    "    print(\"R2 score is:\", r2_score(test_y,pred))\n",
    "    print(\"The mean squared error is :\",mean_squared_error(test_y,pred))\n",
    "    "
   ]
  },
  {
   "cell_type": "code",
   "execution_count": 161,
   "metadata": {},
   "outputs": [
    {
     "data": {
      "text/plain": [
       "LinearRegression()"
      ]
     },
     "execution_count": 161,
     "metadata": {},
     "output_type": "execute_result"
    }
   ],
   "source": [
    "lr=LinearRegression()\n",
    "lr.fit(train_X,train_y)"
   ]
  },
  {
   "cell_type": "code",
   "execution_count": 162,
   "metadata": {},
   "outputs": [
    {
     "name": "stdout",
     "output_type": "stream",
     "text": [
      "R2 score is: 0.7945177179324279\n",
      "The mean squared error is : 70028.41458409226\n"
     ]
    }
   ],
   "source": [
    "check_test_score(lr)"
   ]
  },
  {
   "cell_type": "code",
   "execution_count": 163,
   "metadata": {},
   "outputs": [
    {
     "data": {
      "text/plain": [
       "Lasso(random_state=100)"
      ]
     },
     "execution_count": 163,
     "metadata": {},
     "output_type": "execute_result"
    }
   ],
   "source": [
    "lasso=Lasso(random_state=100)\n",
    "lasso.fit(train_X,train_y)"
   ]
  },
  {
   "cell_type": "code",
   "execution_count": 164,
   "metadata": {},
   "outputs": [
    {
     "name": "stdout",
     "output_type": "stream",
     "text": [
      "R2 score is: 0.7942948719180659\n",
      "The mean squared error is : 70104.36056310868\n"
     ]
    }
   ],
   "source": [
    "check_test_score(lasso)"
   ]
  },
  {
   "cell_type": "code",
   "execution_count": 165,
   "metadata": {},
   "outputs": [
    {
     "data": {
      "text/plain": [
       "Ridge(random_state=100)"
      ]
     },
     "execution_count": 165,
     "metadata": {},
     "output_type": "execute_result"
    }
   ],
   "source": [
    "ridge=Ridge(random_state=100)\n",
    "ridge.fit(train_X,train_y)"
   ]
  },
  {
   "cell_type": "code",
   "execution_count": 166,
   "metadata": {},
   "outputs": [
    {
     "name": "stdout",
     "output_type": "stream",
     "text": [
      "R2 score is: 0.7945110126119608\n",
      "The mean squared error is : 70030.6997590322\n"
     ]
    }
   ],
   "source": [
    "check_test_score(ridge)"
   ]
  },
  {
   "cell_type": "code",
   "execution_count": 167,
   "metadata": {},
   "outputs": [
    {
     "data": {
      "text/plain": [
       "SVR(kernel='linear')"
      ]
     },
     "execution_count": 167,
     "metadata": {},
     "output_type": "execute_result"
    }
   ],
   "source": [
    "sv_regressor=SVR(kernel=\"linear\")\n",
    "sv_regressor.fit(train_X,train_y)"
   ]
  },
  {
   "cell_type": "code",
   "execution_count": 168,
   "metadata": {},
   "outputs": [
    {
     "name": "stdout",
     "output_type": "stream",
     "text": [
      "R2 score is: 0.7666366257093578\n",
      "The mean squared error is : 79530.297985467\n"
     ]
    }
   ],
   "source": [
    "check_test_score(sv_regressor)"
   ]
  },
  {
   "cell_type": "code",
   "execution_count": 169,
   "metadata": {},
   "outputs": [
    {
     "data": {
      "text/plain": [
       "SVR()"
      ]
     },
     "execution_count": 169,
     "metadata": {},
     "output_type": "execute_result"
    }
   ],
   "source": [
    "sv_regressor=SVR(kernel=\"rbf\")\n",
    "sv_regressor.fit(train_X,train_y)"
   ]
  },
  {
   "cell_type": "code",
   "execution_count": 170,
   "metadata": {},
   "outputs": [
    {
     "name": "stdout",
     "output_type": "stream",
     "text": [
      "R2 score is: 0.010398217852529146\n",
      "The mean squared error is : 337256.54190754256\n"
     ]
    }
   ],
   "source": [
    "check_test_score(sv_regressor)"
   ]
  },
  {
   "cell_type": "code",
   "execution_count": 171,
   "metadata": {},
   "outputs": [
    {
     "data": {
      "text/plain": [
       "DecisionTreeRegressor()"
      ]
     },
     "execution_count": 171,
     "metadata": {},
     "output_type": "execute_result"
    }
   ],
   "source": [
    "dt=DecisionTreeRegressor()\n",
    "dt.fit(train_X,train_y)"
   ]
  },
  {
   "cell_type": "code",
   "execution_count": 172,
   "metadata": {},
   "outputs": [
    {
     "name": "stdout",
     "output_type": "stream",
     "text": [
      "R2 score is: 0.9314820321358683\n",
      "The mean squared error is : 23350.941072724945\n"
     ]
    }
   ],
   "source": [
    "check_test_score(dt)"
   ]
  },
  {
   "cell_type": "code",
   "execution_count": 173,
   "metadata": {},
   "outputs": [],
   "source": [
    "rf=RandomForestRegressor()"
   ]
  },
  {
   "cell_type": "code",
   "execution_count": 174,
   "metadata": {},
   "outputs": [
    {
     "data": {
      "text/plain": [
       "RandomForestRegressor()"
      ]
     },
     "execution_count": 174,
     "metadata": {},
     "output_type": "execute_result"
    }
   ],
   "source": [
    "rf.fit(train_X,train_y)"
   ]
  },
  {
   "cell_type": "code",
   "execution_count": 175,
   "metadata": {},
   "outputs": [
    {
     "name": "stdout",
     "output_type": "stream",
     "text": [
      "R2 score is: 0.9602519859120132\n",
      "The mean squared error is : 13546.133425423675\n"
     ]
    }
   ],
   "source": [
    "check_test_score(rf)"
   ]
  },
  {
   "cell_type": "code",
   "execution_count": 176,
   "metadata": {},
   "outputs": [
    {
     "data": {
      "text/plain": [
       "GradientBoostingRegressor()"
      ]
     },
     "execution_count": 176,
     "metadata": {},
     "output_type": "execute_result"
    }
   ],
   "source": [
    "gradient_bosting=GradientBoostingRegressor()\n",
    "gradient_bosting.fit(train_X,train_y)"
   ]
  },
  {
   "cell_type": "code",
   "execution_count": 177,
   "metadata": {},
   "outputs": [
    {
     "name": "stdout",
     "output_type": "stream",
     "text": [
      "R2 score is: 0.9632687153803534\n",
      "The mean squared error is : 12518.031246630959\n"
     ]
    }
   ],
   "source": [
    "check_test_score(gradient_bosting)"
   ]
  },
  {
   "cell_type": "code",
   "execution_count": 178,
   "metadata": {},
   "outputs": [
    {
     "name": "stdout",
     "output_type": "stream",
     "text": [
      "Learning rate set to 0.069206\n",
      "0:\tlearn: 560.5714310\ttotal: 239ms\tremaining: 3m 58s\n",
      "1:\tlearn: 528.3960133\ttotal: 259ms\tremaining: 2m 9s\n",
      "2:\tlearn: 499.0446854\ttotal: 276ms\tremaining: 1m 31s\n",
      "3:\tlearn: 472.9803222\ttotal: 291ms\tremaining: 1m 12s\n",
      "4:\tlearn: 449.3856044\ttotal: 305ms\tremaining: 1m\n",
      "5:\tlearn: 424.6236301\ttotal: 318ms\tremaining: 52.7s\n",
      "6:\tlearn: 402.0667256\ttotal: 332ms\tremaining: 47s\n",
      "7:\tlearn: 381.1751433\ttotal: 345ms\tremaining: 42.8s\n",
      "8:\tlearn: 361.3440575\ttotal: 359ms\tremaining: 39.5s\n",
      "9:\tlearn: 342.9833243\ttotal: 373ms\tremaining: 36.9s\n",
      "10:\tlearn: 326.3858013\ttotal: 386ms\tremaining: 34.7s\n",
      "11:\tlearn: 310.8480855\ttotal: 400ms\tremaining: 32.9s\n",
      "12:\tlearn: 296.0605454\ttotal: 422ms\tremaining: 32.1s\n",
      "13:\tlearn: 282.4306915\ttotal: 446ms\tremaining: 31.4s\n",
      "14:\tlearn: 269.6021133\ttotal: 478ms\tremaining: 31.4s\n",
      "15:\tlearn: 258.1645295\ttotal: 495ms\tremaining: 30.4s\n",
      "16:\tlearn: 247.8012138\ttotal: 509ms\tremaining: 29.4s\n",
      "17:\tlearn: 238.2221723\ttotal: 523ms\tremaining: 28.5s\n",
      "18:\tlearn: 229.2610323\ttotal: 536ms\tremaining: 27.7s\n",
      "19:\tlearn: 221.1097046\ttotal: 550ms\tremaining: 27s\n",
      "20:\tlearn: 214.0340289\ttotal: 563ms\tremaining: 26.3s\n",
      "21:\tlearn: 207.2715420\ttotal: 589ms\tremaining: 26.2s\n",
      "22:\tlearn: 201.0046819\ttotal: 619ms\tremaining: 26.3s\n",
      "23:\tlearn: 195.2926954\ttotal: 633ms\tremaining: 25.7s\n",
      "24:\tlearn: 190.1093484\ttotal: 646ms\tremaining: 25.2s\n",
      "25:\tlearn: 185.0027200\ttotal: 659ms\tremaining: 24.7s\n",
      "26:\tlearn: 180.5873691\ttotal: 673ms\tremaining: 24.3s\n",
      "27:\tlearn: 176.1997792\ttotal: 686ms\tremaining: 23.8s\n",
      "28:\tlearn: 172.6305876\ttotal: 700ms\tremaining: 23.4s\n",
      "29:\tlearn: 169.0262298\ttotal: 713ms\tremaining: 23.1s\n",
      "30:\tlearn: 165.8078126\ttotal: 726ms\tremaining: 22.7s\n",
      "31:\tlearn: 162.9782562\ttotal: 740ms\tremaining: 22.4s\n",
      "32:\tlearn: 160.4605739\ttotal: 757ms\tremaining: 22.2s\n",
      "33:\tlearn: 158.1682579\ttotal: 771ms\tremaining: 21.9s\n",
      "34:\tlearn: 156.0567108\ttotal: 790ms\tremaining: 21.8s\n",
      "35:\tlearn: 154.2791769\ttotal: 811ms\tremaining: 21.7s\n",
      "36:\tlearn: 152.5768136\ttotal: 826ms\tremaining: 21.5s\n",
      "37:\tlearn: 150.7415513\ttotal: 851ms\tremaining: 21.6s\n",
      "38:\tlearn: 148.9527029\ttotal: 866ms\tremaining: 21.3s\n",
      "39:\tlearn: 147.1755232\ttotal: 879ms\tremaining: 21.1s\n",
      "40:\tlearn: 145.7762039\ttotal: 892ms\tremaining: 20.9s\n",
      "41:\tlearn: 144.5970535\ttotal: 906ms\tremaining: 20.7s\n",
      "42:\tlearn: 143.4251225\ttotal: 923ms\tremaining: 20.5s\n",
      "43:\tlearn: 142.1912855\ttotal: 943ms\tremaining: 20.5s\n",
      "44:\tlearn: 141.0414532\ttotal: 957ms\tremaining: 20.3s\n",
      "45:\tlearn: 140.2234273\ttotal: 972ms\tremaining: 20.2s\n",
      "46:\tlearn: 139.3035031\ttotal: 989ms\tremaining: 20s\n",
      "47:\tlearn: 138.4838199\ttotal: 1s\tremaining: 19.9s\n",
      "48:\tlearn: 137.6653870\ttotal: 1.03s\tremaining: 20s\n",
      "49:\tlearn: 136.9893572\ttotal: 1.05s\tremaining: 20s\n",
      "50:\tlearn: 136.1300630\ttotal: 1.07s\tremaining: 19.8s\n",
      "51:\tlearn: 135.5769897\ttotal: 1.08s\tremaining: 19.7s\n",
      "52:\tlearn: 135.1219490\ttotal: 1.09s\tremaining: 19.5s\n",
      "53:\tlearn: 134.3179262\ttotal: 1.11s\tremaining: 19.5s\n",
      "54:\tlearn: 133.6412759\ttotal: 1.14s\tremaining: 19.5s\n",
      "55:\tlearn: 133.0924113\ttotal: 1.15s\tremaining: 19.4s\n",
      "56:\tlearn: 132.5033629\ttotal: 1.18s\tremaining: 19.5s\n",
      "57:\tlearn: 131.8634927\ttotal: 1.19s\tremaining: 19.4s\n",
      "58:\tlearn: 131.3718661\ttotal: 1.21s\tremaining: 19.3s\n",
      "59:\tlearn: 130.8273406\ttotal: 1.22s\tremaining: 19.1s\n",
      "60:\tlearn: 130.3669220\ttotal: 1.23s\tremaining: 19s\n",
      "61:\tlearn: 129.9437897\ttotal: 1.25s\tremaining: 18.9s\n",
      "62:\tlearn: 129.5436827\ttotal: 1.26s\tremaining: 18.8s\n",
      "63:\tlearn: 129.1421971\ttotal: 1.29s\tremaining: 18.8s\n",
      "64:\tlearn: 128.8491517\ttotal: 1.31s\tremaining: 18.8s\n",
      "65:\tlearn: 128.3117469\ttotal: 1.33s\tremaining: 18.9s\n",
      "66:\tlearn: 127.9648788\ttotal: 1.35s\tremaining: 18.8s\n",
      "67:\tlearn: 127.7119213\ttotal: 1.36s\tremaining: 18.7s\n",
      "68:\tlearn: 127.3787894\ttotal: 1.38s\tremaining: 18.6s\n",
      "69:\tlearn: 127.1323488\ttotal: 1.39s\tremaining: 18.4s\n",
      "70:\tlearn: 126.9551365\ttotal: 1.4s\tremaining: 18.3s\n",
      "71:\tlearn: 126.6739806\ttotal: 1.42s\tremaining: 18.3s\n",
      "72:\tlearn: 126.4850559\ttotal: 1.43s\tremaining: 18.2s\n",
      "73:\tlearn: 126.2311482\ttotal: 1.45s\tremaining: 18.2s\n",
      "74:\tlearn: 126.0488804\ttotal: 1.48s\tremaining: 18.2s\n",
      "75:\tlearn: 125.9315819\ttotal: 1.5s\tremaining: 18.2s\n",
      "76:\tlearn: 125.7793236\ttotal: 1.53s\tremaining: 18.4s\n",
      "77:\tlearn: 125.5264159\ttotal: 1.56s\tremaining: 18.4s\n",
      "78:\tlearn: 125.3694580\ttotal: 1.57s\tremaining: 18.4s\n",
      "79:\tlearn: 125.2032778\ttotal: 1.6s\tremaining: 18.4s\n",
      "80:\tlearn: 124.7310595\ttotal: 1.62s\tremaining: 18.4s\n",
      "81:\tlearn: 124.6685819\ttotal: 1.64s\tremaining: 18.4s\n",
      "82:\tlearn: 124.5507521\ttotal: 1.66s\tremaining: 18.4s\n",
      "83:\tlearn: 124.4381443\ttotal: 1.68s\tremaining: 18.4s\n",
      "84:\tlearn: 124.3064061\ttotal: 1.72s\tremaining: 18.5s\n",
      "85:\tlearn: 124.0312141\ttotal: 1.75s\tremaining: 18.6s\n",
      "86:\tlearn: 123.7231134\ttotal: 1.77s\tremaining: 18.6s\n",
      "87:\tlearn: 123.1301887\ttotal: 1.82s\tremaining: 18.8s\n",
      "88:\tlearn: 123.0346587\ttotal: 1.84s\tremaining: 18.8s\n",
      "89:\tlearn: 122.4766151\ttotal: 1.86s\tremaining: 18.8s\n",
      "90:\tlearn: 122.2189078\ttotal: 1.88s\tremaining: 18.8s\n",
      "91:\tlearn: 121.9180589\ttotal: 1.91s\tremaining: 18.8s\n",
      "92:\tlearn: 121.8587521\ttotal: 1.92s\tremaining: 18.8s\n",
      "93:\tlearn: 121.7316898\ttotal: 1.94s\tremaining: 18.7s\n",
      "94:\tlearn: 121.6321122\ttotal: 1.99s\tremaining: 19s\n",
      "95:\tlearn: 121.4838816\ttotal: 2.01s\tremaining: 18.9s\n",
      "96:\tlearn: 121.3752055\ttotal: 2.02s\tremaining: 18.8s\n",
      "97:\tlearn: 121.2254699\ttotal: 2.06s\tremaining: 19s\n",
      "98:\tlearn: 120.9443933\ttotal: 2.08s\tremaining: 19s\n",
      "99:\tlearn: 120.8920877\ttotal: 2.11s\tremaining: 19s\n",
      "100:\tlearn: 120.7477145\ttotal: 2.14s\tremaining: 19.1s\n",
      "101:\tlearn: 120.6542724\ttotal: 2.18s\tremaining: 19.2s\n",
      "102:\tlearn: 120.5100579\ttotal: 2.2s\tremaining: 19.2s\n",
      "103:\tlearn: 120.0296160\ttotal: 2.22s\tremaining: 19.1s\n",
      "104:\tlearn: 119.9451433\ttotal: 2.23s\tremaining: 19s\n",
      "105:\tlearn: 119.9406138\ttotal: 2.25s\tremaining: 19s\n",
      "106:\tlearn: 119.6124029\ttotal: 2.27s\tremaining: 18.9s\n",
      "107:\tlearn: 119.5200971\ttotal: 2.28s\tremaining: 18.8s\n",
      "108:\tlearn: 119.4476859\ttotal: 2.31s\tremaining: 18.9s\n",
      "109:\tlearn: 119.3540459\ttotal: 2.33s\tremaining: 18.9s\n",
      "110:\tlearn: 119.0816803\ttotal: 2.37s\tremaining: 18.9s\n",
      "111:\tlearn: 119.0051013\ttotal: 2.38s\tremaining: 18.9s\n",
      "112:\tlearn: 118.9428683\ttotal: 2.4s\tremaining: 18.8s\n",
      "113:\tlearn: 118.7536700\ttotal: 2.42s\tremaining: 18.8s\n",
      "114:\tlearn: 118.5980794\ttotal: 2.44s\tremaining: 18.8s\n",
      "115:\tlearn: 118.5606228\ttotal: 2.51s\tremaining: 19.2s\n",
      "116:\tlearn: 118.4007731\ttotal: 2.53s\tremaining: 19.1s\n",
      "117:\tlearn: 118.1587727\ttotal: 2.55s\tremaining: 19.1s\n",
      "118:\tlearn: 118.0194775\ttotal: 2.58s\tremaining: 19.1s\n",
      "119:\tlearn: 117.9074338\ttotal: 2.63s\tremaining: 19.3s\n",
      "120:\tlearn: 117.8001420\ttotal: 2.64s\tremaining: 19.2s\n",
      "121:\tlearn: 117.7786723\ttotal: 2.69s\tremaining: 19.4s\n",
      "122:\tlearn: 117.7223736\ttotal: 2.71s\tremaining: 19.3s\n",
      "123:\tlearn: 117.6087990\ttotal: 2.77s\tremaining: 19.6s\n",
      "124:\tlearn: 117.2003016\ttotal: 2.8s\tremaining: 19.6s\n",
      "125:\tlearn: 117.0575575\ttotal: 2.82s\tremaining: 19.6s\n",
      "126:\tlearn: 117.0035120\ttotal: 2.88s\tremaining: 19.8s\n",
      "127:\tlearn: 116.7711443\ttotal: 2.9s\tremaining: 19.7s\n",
      "128:\tlearn: 116.6249568\ttotal: 2.94s\tremaining: 19.8s\n",
      "129:\tlearn: 116.6219987\ttotal: 2.96s\tremaining: 19.8s\n",
      "130:\tlearn: 116.5633708\ttotal: 2.98s\tremaining: 19.8s\n",
      "131:\tlearn: 116.3809814\ttotal: 3s\tremaining: 19.8s\n",
      "132:\tlearn: 116.2533389\ttotal: 3.04s\tremaining: 19.8s\n",
      "133:\tlearn: 116.0942821\ttotal: 3.05s\tremaining: 19.7s\n",
      "134:\tlearn: 115.9464956\ttotal: 3.07s\tremaining: 19.7s\n",
      "135:\tlearn: 115.8846273\ttotal: 3.09s\tremaining: 19.6s\n",
      "136:\tlearn: 115.8364878\ttotal: 3.11s\tremaining: 19.6s\n",
      "137:\tlearn: 115.7475163\ttotal: 3.13s\tremaining: 19.6s\n",
      "138:\tlearn: 115.5542345\ttotal: 3.16s\tremaining: 19.6s\n",
      "139:\tlearn: 115.4741821\ttotal: 3.18s\tremaining: 19.5s\n",
      "140:\tlearn: 115.3728474\ttotal: 3.22s\tremaining: 19.6s\n",
      "141:\tlearn: 115.2428936\ttotal: 3.24s\tremaining: 19.6s\n",
      "142:\tlearn: 115.1216732\ttotal: 3.26s\tremaining: 19.6s\n",
      "143:\tlearn: 115.0096121\ttotal: 3.32s\tremaining: 19.7s\n",
      "144:\tlearn: 114.6025849\ttotal: 3.34s\tremaining: 19.7s\n",
      "145:\tlearn: 114.4495991\ttotal: 3.37s\tremaining: 19.7s\n",
      "146:\tlearn: 114.3703280\ttotal: 3.39s\tremaining: 19.7s\n",
      "147:\tlearn: 114.2539162\ttotal: 3.41s\tremaining: 19.7s\n",
      "148:\tlearn: 114.0547622\ttotal: 3.43s\tremaining: 19.6s\n",
      "149:\tlearn: 113.9927454\ttotal: 3.45s\tremaining: 19.5s\n",
      "150:\tlearn: 113.8914931\ttotal: 3.48s\tremaining: 19.6s\n",
      "151:\tlearn: 113.8224691\ttotal: 3.5s\tremaining: 19.5s\n",
      "152:\tlearn: 113.7434739\ttotal: 3.52s\tremaining: 19.5s\n",
      "153:\tlearn: 113.6322081\ttotal: 3.54s\tremaining: 19.4s\n",
      "154:\tlearn: 113.5496900\ttotal: 3.57s\tremaining: 19.4s\n",
      "155:\tlearn: 113.1892953\ttotal: 3.59s\tremaining: 19.4s\n",
      "156:\tlearn: 113.1625399\ttotal: 3.61s\tremaining: 19.4s\n",
      "157:\tlearn: 112.8316498\ttotal: 3.64s\tremaining: 19.4s\n",
      "158:\tlearn: 112.5794670\ttotal: 3.65s\tremaining: 19.3s\n",
      "159:\tlearn: 112.2807810\ttotal: 3.67s\tremaining: 19.2s\n"
     ]
    },
    {
     "name": "stdout",
     "output_type": "stream",
     "text": [
      "160:\tlearn: 112.1837870\ttotal: 3.69s\tremaining: 19.2s\n",
      "161:\tlearn: 111.9055584\ttotal: 3.72s\tremaining: 19.3s\n",
      "162:\tlearn: 111.6746912\ttotal: 3.75s\tremaining: 19.2s\n",
      "163:\tlearn: 111.6128732\ttotal: 3.77s\tremaining: 19.2s\n",
      "164:\tlearn: 111.5705240\ttotal: 3.79s\tremaining: 19.2s\n",
      "165:\tlearn: 111.4930354\ttotal: 3.82s\tremaining: 19.2s\n",
      "166:\tlearn: 111.2840834\ttotal: 3.83s\tremaining: 19.1s\n",
      "167:\tlearn: 111.2518039\ttotal: 3.88s\tremaining: 19.2s\n",
      "168:\tlearn: 111.0790254\ttotal: 3.9s\tremaining: 19.2s\n",
      "169:\tlearn: 110.9793093\ttotal: 3.91s\tremaining: 19.1s\n",
      "170:\tlearn: 110.8905241\ttotal: 3.93s\tremaining: 19s\n",
      "171:\tlearn: 110.6370989\ttotal: 3.96s\tremaining: 19s\n",
      "172:\tlearn: 110.5590526\ttotal: 3.98s\tremaining: 19s\n",
      "173:\tlearn: 110.3594164\ttotal: 4s\tremaining: 19s\n",
      "174:\tlearn: 110.1735317\ttotal: 4.01s\tremaining: 18.9s\n",
      "175:\tlearn: 110.0758251\ttotal: 4.03s\tremaining: 18.9s\n",
      "176:\tlearn: 109.9906436\ttotal: 4.08s\tremaining: 19s\n",
      "177:\tlearn: 109.7801643\ttotal: 4.1s\tremaining: 18.9s\n",
      "178:\tlearn: 109.7169624\ttotal: 4.13s\tremaining: 18.9s\n",
      "179:\tlearn: 109.5226033\ttotal: 4.15s\tremaining: 18.9s\n",
      "180:\tlearn: 109.4583572\ttotal: 4.18s\tremaining: 18.9s\n",
      "181:\tlearn: 109.2782829\ttotal: 4.19s\tremaining: 18.8s\n",
      "182:\tlearn: 109.2229744\ttotal: 4.21s\tremaining: 18.8s\n",
      "183:\tlearn: 109.0563975\ttotal: 4.22s\tremaining: 18.7s\n",
      "184:\tlearn: 109.0136016\ttotal: 4.25s\tremaining: 18.7s\n",
      "185:\tlearn: 108.8763937\ttotal: 4.28s\tremaining: 18.7s\n",
      "186:\tlearn: 108.8368600\ttotal: 4.3s\tremaining: 18.7s\n",
      "187:\tlearn: 108.7605293\ttotal: 4.32s\tremaining: 18.7s\n",
      "188:\tlearn: 108.6323881\ttotal: 4.34s\tremaining: 18.6s\n",
      "189:\tlearn: 108.5127747\ttotal: 4.36s\tremaining: 18.6s\n",
      "190:\tlearn: 108.4675743\ttotal: 4.38s\tremaining: 18.6s\n",
      "191:\tlearn: 108.3962224\ttotal: 4.43s\tremaining: 18.6s\n",
      "192:\tlearn: 108.2847026\ttotal: 4.47s\tremaining: 18.7s\n",
      "193:\tlearn: 108.2112709\ttotal: 4.5s\tremaining: 18.7s\n",
      "194:\tlearn: 108.1428480\ttotal: 4.51s\tremaining: 18.6s\n",
      "195:\tlearn: 108.0613566\ttotal: 4.54s\tremaining: 18.6s\n",
      "196:\tlearn: 107.9500207\ttotal: 4.56s\tremaining: 18.6s\n",
      "197:\tlearn: 107.8127594\ttotal: 4.58s\tremaining: 18.6s\n",
      "198:\tlearn: 107.7666583\ttotal: 4.6s\tremaining: 18.5s\n",
      "199:\tlearn: 107.7025560\ttotal: 4.62s\tremaining: 18.5s\n",
      "200:\tlearn: 107.5913831\ttotal: 4.63s\tremaining: 18.4s\n",
      "201:\tlearn: 107.4635549\ttotal: 4.64s\tremaining: 18.3s\n",
      "202:\tlearn: 107.3925487\ttotal: 4.67s\tremaining: 18.3s\n",
      "203:\tlearn: 107.3115197\ttotal: 4.7s\tremaining: 18.3s\n",
      "204:\tlearn: 107.2058193\ttotal: 4.73s\tremaining: 18.3s\n",
      "205:\tlearn: 107.1607477\ttotal: 4.77s\tremaining: 18.4s\n",
      "206:\tlearn: 107.0028912\ttotal: 4.83s\tremaining: 18.5s\n",
      "207:\tlearn: 106.9546659\ttotal: 4.84s\tremaining: 18.4s\n",
      "208:\tlearn: 106.8951102\ttotal: 4.87s\tremaining: 18.4s\n",
      "209:\tlearn: 106.8500223\ttotal: 4.88s\tremaining: 18.4s\n",
      "210:\tlearn: 106.8072853\ttotal: 4.9s\tremaining: 18.3s\n",
      "211:\tlearn: 106.7640580\ttotal: 4.92s\tremaining: 18.3s\n",
      "212:\tlearn: 106.6540378\ttotal: 4.94s\tremaining: 18.2s\n",
      "213:\tlearn: 106.5836236\ttotal: 4.96s\tremaining: 18.2s\n",
      "214:\tlearn: 106.4954649\ttotal: 4.98s\tremaining: 18.2s\n",
      "215:\tlearn: 106.4437551\ttotal: 5s\tremaining: 18.2s\n",
      "216:\tlearn: 106.3739751\ttotal: 5.02s\tremaining: 18.1s\n",
      "217:\tlearn: 106.3135993\ttotal: 5.04s\tremaining: 18.1s\n",
      "218:\tlearn: 106.2514638\ttotal: 5.07s\tremaining: 18.1s\n",
      "219:\tlearn: 106.1962403\ttotal: 5.08s\tremaining: 18s\n",
      "220:\tlearn: 106.1475751\ttotal: 5.13s\tremaining: 18.1s\n",
      "221:\tlearn: 106.0402797\ttotal: 5.14s\tremaining: 18s\n",
      "222:\tlearn: 105.9528618\ttotal: 5.19s\tremaining: 18.1s\n",
      "223:\tlearn: 105.9003596\ttotal: 5.21s\tremaining: 18s\n",
      "224:\tlearn: 105.8060518\ttotal: 5.24s\tremaining: 18.1s\n",
      "225:\tlearn: 105.7565268\ttotal: 5.26s\tremaining: 18s\n",
      "226:\tlearn: 105.6867183\ttotal: 5.28s\tremaining: 18s\n",
      "227:\tlearn: 105.6594653\ttotal: 5.29s\tremaining: 17.9s\n",
      "228:\tlearn: 105.6037590\ttotal: 5.33s\tremaining: 17.9s\n",
      "229:\tlearn: 105.5427541\ttotal: 5.34s\tremaining: 17.9s\n",
      "230:\tlearn: 105.4736496\ttotal: 5.36s\tremaining: 17.8s\n",
      "231:\tlearn: 105.4239878\ttotal: 5.38s\tremaining: 17.8s\n",
      "232:\tlearn: 105.3528081\ttotal: 5.41s\tremaining: 17.8s\n",
      "233:\tlearn: 105.3139020\ttotal: 5.42s\tremaining: 17.8s\n",
      "234:\tlearn: 105.2667538\ttotal: 5.45s\tremaining: 17.7s\n",
      "235:\tlearn: 105.2183202\ttotal: 5.46s\tremaining: 17.7s\n",
      "236:\tlearn: 105.1800413\ttotal: 5.48s\tremaining: 17.6s\n",
      "237:\tlearn: 105.0888829\ttotal: 5.49s\tremaining: 17.6s\n",
      "238:\tlearn: 105.0607580\ttotal: 5.51s\tremaining: 17.5s\n",
      "239:\tlearn: 105.0218102\ttotal: 5.52s\tremaining: 17.5s\n",
      "240:\tlearn: 104.9905286\ttotal: 5.54s\tremaining: 17.4s\n",
      "241:\tlearn: 104.8996204\ttotal: 5.56s\tremaining: 17.4s\n",
      "242:\tlearn: 104.8763104\ttotal: 5.59s\tremaining: 17.4s\n",
      "243:\tlearn: 104.8544409\ttotal: 5.66s\tremaining: 17.5s\n",
      "244:\tlearn: 104.7697015\ttotal: 5.67s\tremaining: 17.5s\n",
      "245:\tlearn: 104.7306050\ttotal: 5.71s\tremaining: 17.5s\n",
      "246:\tlearn: 104.7155532\ttotal: 5.75s\tremaining: 17.5s\n",
      "247:\tlearn: 104.6670979\ttotal: 5.78s\tremaining: 17.5s\n",
      "248:\tlearn: 104.5687351\ttotal: 5.8s\tremaining: 17.5s\n",
      "249:\tlearn: 104.4632094\ttotal: 5.82s\tremaining: 17.4s\n",
      "250:\tlearn: 104.4310279\ttotal: 5.83s\tremaining: 17.4s\n",
      "251:\tlearn: 104.3412319\ttotal: 5.84s\tremaining: 17.3s\n",
      "252:\tlearn: 104.2992892\ttotal: 5.86s\tremaining: 17.3s\n",
      "253:\tlearn: 104.2611320\ttotal: 5.87s\tremaining: 17.2s\n",
      "254:\tlearn: 104.1788448\ttotal: 5.89s\tremaining: 17.2s\n",
      "255:\tlearn: 104.1298878\ttotal: 5.9s\tremaining: 17.2s\n",
      "256:\tlearn: 104.0461255\ttotal: 5.93s\tremaining: 17.1s\n",
      "257:\tlearn: 103.9703933\ttotal: 5.94s\tremaining: 17.1s\n",
      "258:\tlearn: 103.9438520\ttotal: 5.96s\tremaining: 17.1s\n",
      "259:\tlearn: 103.8795635\ttotal: 5.98s\tremaining: 17s\n",
      "260:\tlearn: 103.7610712\ttotal: 6.03s\tremaining: 17.1s\n",
      "261:\tlearn: 103.6927149\ttotal: 6.11s\tremaining: 17.2s\n",
      "262:\tlearn: 103.6333979\ttotal: 6.13s\tremaining: 17.2s\n",
      "263:\tlearn: 103.5771672\ttotal: 6.15s\tremaining: 17.1s\n",
      "264:\tlearn: 103.5286174\ttotal: 6.16s\tremaining: 17.1s\n",
      "265:\tlearn: 103.4740821\ttotal: 6.18s\tremaining: 17.1s\n",
      "266:\tlearn: 103.4336102\ttotal: 6.21s\tremaining: 17.1s\n",
      "267:\tlearn: 103.3830035\ttotal: 6.23s\tremaining: 17s\n",
      "268:\tlearn: 103.3456205\ttotal: 6.25s\tremaining: 17s\n",
      "269:\tlearn: 103.2816752\ttotal: 6.27s\tremaining: 16.9s\n",
      "270:\tlearn: 103.2580601\ttotal: 6.3s\tremaining: 16.9s\n",
      "271:\tlearn: 103.2140716\ttotal: 6.32s\tremaining: 16.9s\n",
      "272:\tlearn: 103.1951095\ttotal: 6.33s\tremaining: 16.9s\n",
      "273:\tlearn: 103.1626031\ttotal: 6.35s\tremaining: 16.8s\n",
      "274:\tlearn: 103.1429197\ttotal: 6.39s\tremaining: 16.9s\n",
      "275:\tlearn: 103.0972877\ttotal: 6.41s\tremaining: 16.8s\n",
      "276:\tlearn: 103.0867404\ttotal: 6.43s\tremaining: 16.8s\n",
      "277:\tlearn: 103.0269607\ttotal: 6.45s\tremaining: 16.8s\n",
      "278:\tlearn: 102.9252656\ttotal: 6.49s\tremaining: 16.8s\n",
      "279:\tlearn: 102.9041925\ttotal: 6.51s\tremaining: 16.7s\n",
      "280:\tlearn: 102.8154516\ttotal: 6.53s\tremaining: 16.7s\n",
      "281:\tlearn: 102.8032540\ttotal: 6.54s\tremaining: 16.7s\n",
      "282:\tlearn: 102.7738864\ttotal: 6.56s\tremaining: 16.6s\n",
      "283:\tlearn: 102.7260116\ttotal: 6.58s\tremaining: 16.6s\n",
      "284:\tlearn: 102.6664917\ttotal: 6.59s\tremaining: 16.5s\n",
      "285:\tlearn: 102.5773974\ttotal: 6.61s\tremaining: 16.5s\n",
      "286:\tlearn: 102.5616972\ttotal: 6.62s\tremaining: 16.4s\n",
      "287:\tlearn: 102.4682315\ttotal: 6.63s\tremaining: 16.4s\n",
      "288:\tlearn: 102.4012018\ttotal: 6.65s\tremaining: 16.4s\n",
      "289:\tlearn: 102.3642753\ttotal: 6.68s\tremaining: 16.4s\n",
      "290:\tlearn: 102.3043425\ttotal: 6.71s\tremaining: 16.4s\n",
      "291:\tlearn: 102.2864541\ttotal: 6.73s\tremaining: 16.3s\n",
      "292:\tlearn: 102.2033717\ttotal: 6.76s\tremaining: 16.3s\n",
      "293:\tlearn: 102.1228799\ttotal: 6.8s\tremaining: 16.3s\n",
      "294:\tlearn: 102.0871375\ttotal: 6.84s\tremaining: 16.4s\n",
      "295:\tlearn: 102.0473010\ttotal: 6.86s\tremaining: 16.3s\n",
      "296:\tlearn: 102.0179674\ttotal: 6.9s\tremaining: 16.3s\n",
      "297:\tlearn: 101.9966644\ttotal: 6.92s\tremaining: 16.3s\n",
      "298:\tlearn: 101.9200206\ttotal: 6.95s\tremaining: 16.3s\n",
      "299:\tlearn: 101.8874994\ttotal: 6.97s\tremaining: 16.3s\n",
      "300:\tlearn: 101.8822465\ttotal: 6.98s\tremaining: 16.2s\n",
      "301:\tlearn: 101.7571193\ttotal: 7s\tremaining: 16.2s\n",
      "302:\tlearn: 101.6902534\ttotal: 7.01s\tremaining: 16.1s\n",
      "303:\tlearn: 101.6115903\ttotal: 7.03s\tremaining: 16.1s\n",
      "304:\tlearn: 101.5728803\ttotal: 7.06s\tremaining: 16.1s\n",
      "305:\tlearn: 101.5623651\ttotal: 7.08s\tremaining: 16.1s\n",
      "306:\tlearn: 101.5198910\ttotal: 7.11s\tremaining: 16.1s\n",
      "307:\tlearn: 101.4907421\ttotal: 7.13s\tremaining: 16s\n",
      "308:\tlearn: 101.4542943\ttotal: 7.19s\tremaining: 16.1s\n",
      "309:\tlearn: 101.4076353\ttotal: 7.23s\tremaining: 16.1s\n",
      "310:\tlearn: 101.3772632\ttotal: 7.25s\tremaining: 16.1s\n",
      "311:\tlearn: 101.3420907\ttotal: 7.26s\tremaining: 16s\n",
      "312:\tlearn: 101.3115534\ttotal: 7.28s\tremaining: 16s\n",
      "313:\tlearn: 101.2206931\ttotal: 7.3s\tremaining: 16s\n",
      "314:\tlearn: 101.1720328\ttotal: 7.33s\tremaining: 15.9s\n",
      "315:\tlearn: 101.1348924\ttotal: 7.34s\tremaining: 15.9s\n",
      "316:\tlearn: 101.1190149\ttotal: 7.39s\tremaining: 15.9s\n",
      "317:\tlearn: 101.1132730\ttotal: 7.41s\tremaining: 15.9s\n",
      "318:\tlearn: 101.0420596\ttotal: 7.42s\tremaining: 15.8s\n"
     ]
    },
    {
     "name": "stdout",
     "output_type": "stream",
     "text": [
      "319:\tlearn: 101.0278410\ttotal: 7.44s\tremaining: 15.8s\n",
      "320:\tlearn: 100.9940044\ttotal: 7.47s\tremaining: 15.8s\n",
      "321:\tlearn: 100.9709707\ttotal: 7.49s\tremaining: 15.8s\n",
      "322:\tlearn: 100.9139040\ttotal: 7.51s\tremaining: 15.7s\n",
      "323:\tlearn: 100.8388523\ttotal: 7.53s\tremaining: 15.7s\n",
      "324:\tlearn: 100.7428522\ttotal: 7.54s\tremaining: 15.7s\n",
      "325:\tlearn: 100.7122591\ttotal: 7.56s\tremaining: 15.6s\n",
      "326:\tlearn: 100.6841159\ttotal: 7.6s\tremaining: 15.6s\n",
      "327:\tlearn: 100.6449035\ttotal: 7.62s\tremaining: 15.6s\n",
      "328:\tlearn: 100.6059444\ttotal: 7.65s\tremaining: 15.6s\n",
      "329:\tlearn: 100.5786796\ttotal: 7.66s\tremaining: 15.6s\n",
      "330:\tlearn: 100.5633067\ttotal: 7.68s\tremaining: 15.5s\n",
      "331:\tlearn: 100.4708931\ttotal: 7.69s\tremaining: 15.5s\n",
      "332:\tlearn: 100.4493448\ttotal: 7.71s\tremaining: 15.4s\n",
      "333:\tlearn: 100.3547786\ttotal: 7.73s\tremaining: 15.4s\n",
      "334:\tlearn: 100.2829717\ttotal: 7.74s\tremaining: 15.4s\n",
      "335:\tlearn: 100.2443168\ttotal: 7.76s\tremaining: 15.3s\n",
      "336:\tlearn: 100.2293492\ttotal: 7.79s\tremaining: 15.3s\n",
      "337:\tlearn: 100.2085732\ttotal: 7.82s\tremaining: 15.3s\n",
      "338:\tlearn: 100.0896476\ttotal: 7.85s\tremaining: 15.3s\n",
      "339:\tlearn: 100.0412074\ttotal: 7.88s\tremaining: 15.3s\n",
      "340:\tlearn: 100.0080213\ttotal: 7.9s\tremaining: 15.3s\n",
      "341:\tlearn: 99.9674952\ttotal: 7.94s\tremaining: 15.3s\n",
      "342:\tlearn: 99.9505882\ttotal: 7.96s\tremaining: 15.3s\n",
      "343:\tlearn: 99.8778752\ttotal: 7.98s\tremaining: 15.2s\n",
      "344:\tlearn: 99.8651628\ttotal: 8.01s\tremaining: 15.2s\n",
      "345:\tlearn: 99.8308040\ttotal: 8.02s\tremaining: 15.2s\n",
      "346:\tlearn: 99.7659596\ttotal: 8.04s\tremaining: 15.1s\n",
      "347:\tlearn: 99.7119084\ttotal: 8.06s\tremaining: 15.1s\n",
      "348:\tlearn: 99.6793208\ttotal: 8.1s\tremaining: 15.1s\n",
      "349:\tlearn: 99.6134436\ttotal: 8.12s\tremaining: 15.1s\n",
      "350:\tlearn: 99.6062073\ttotal: 8.14s\tremaining: 15.1s\n",
      "351:\tlearn: 99.5961289\ttotal: 8.17s\tremaining: 15s\n",
      "352:\tlearn: 99.5455565\ttotal: 8.19s\tremaining: 15s\n",
      "353:\tlearn: 99.5360842\ttotal: 8.23s\tremaining: 15s\n",
      "354:\tlearn: 99.5168565\ttotal: 8.26s\tremaining: 15s\n",
      "355:\tlearn: 99.4693406\ttotal: 8.28s\tremaining: 15s\n",
      "356:\tlearn: 99.4084315\ttotal: 8.29s\tremaining: 14.9s\n",
      "357:\tlearn: 99.3607215\ttotal: 8.31s\tremaining: 14.9s\n",
      "358:\tlearn: 99.3138236\ttotal: 8.32s\tremaining: 14.9s\n",
      "359:\tlearn: 99.2901707\ttotal: 8.35s\tremaining: 14.8s\n",
      "360:\tlearn: 99.2503604\ttotal: 8.39s\tremaining: 14.8s\n",
      "361:\tlearn: 99.1996620\ttotal: 8.42s\tremaining: 14.8s\n",
      "362:\tlearn: 99.1707947\ttotal: 8.44s\tremaining: 14.8s\n",
      "363:\tlearn: 99.1584809\ttotal: 8.46s\tremaining: 14.8s\n",
      "364:\tlearn: 99.1048302\ttotal: 8.48s\tremaining: 14.8s\n",
      "365:\tlearn: 99.0377925\ttotal: 8.5s\tremaining: 14.7s\n",
      "366:\tlearn: 98.9974559\ttotal: 8.52s\tremaining: 14.7s\n",
      "367:\tlearn: 98.9706773\ttotal: 8.56s\tremaining: 14.7s\n",
      "368:\tlearn: 98.9585904\ttotal: 8.57s\tremaining: 14.7s\n",
      "369:\tlearn: 98.9017137\ttotal: 8.59s\tremaining: 14.6s\n",
      "370:\tlearn: 98.8576644\ttotal: 8.6s\tremaining: 14.6s\n",
      "371:\tlearn: 98.8403179\ttotal: 8.62s\tremaining: 14.5s\n",
      "372:\tlearn: 98.8084852\ttotal: 8.63s\tremaining: 14.5s\n",
      "373:\tlearn: 98.7719693\ttotal: 8.64s\tremaining: 14.5s\n",
      "374:\tlearn: 98.7503798\ttotal: 8.66s\tremaining: 14.4s\n",
      "375:\tlearn: 98.7259723\ttotal: 8.67s\tremaining: 14.4s\n",
      "376:\tlearn: 98.7140310\ttotal: 8.68s\tremaining: 14.3s\n",
      "377:\tlearn: 98.6290033\ttotal: 8.71s\tremaining: 14.3s\n",
      "378:\tlearn: 98.5759671\ttotal: 8.73s\tremaining: 14.3s\n",
      "379:\tlearn: 98.5430079\ttotal: 8.75s\tremaining: 14.3s\n",
      "380:\tlearn: 98.3837202\ttotal: 8.76s\tremaining: 14.2s\n",
      "381:\tlearn: 98.2355560\ttotal: 8.78s\tremaining: 14.2s\n",
      "382:\tlearn: 98.2213103\ttotal: 8.79s\tremaining: 14.2s\n",
      "383:\tlearn: 98.1971201\ttotal: 8.82s\tremaining: 14.1s\n",
      "384:\tlearn: 98.1352493\ttotal: 8.87s\tremaining: 14.2s\n",
      "385:\tlearn: 98.1043037\ttotal: 8.9s\tremaining: 14.2s\n",
      "386:\tlearn: 98.0909438\ttotal: 8.92s\tremaining: 14.1s\n",
      "387:\tlearn: 98.0806510\ttotal: 8.97s\tremaining: 14.1s\n",
      "388:\tlearn: 98.0504970\ttotal: 8.99s\tremaining: 14.1s\n",
      "389:\tlearn: 97.9926070\ttotal: 9.02s\tremaining: 14.1s\n",
      "390:\tlearn: 97.9503544\ttotal: 9.04s\tremaining: 14.1s\n",
      "391:\tlearn: 97.9319393\ttotal: 9.11s\tremaining: 14.1s\n",
      "392:\tlearn: 97.9206193\ttotal: 9.13s\tremaining: 14.1s\n",
      "393:\tlearn: 97.9038105\ttotal: 9.15s\tremaining: 14.1s\n",
      "394:\tlearn: 97.8891238\ttotal: 9.19s\tremaining: 14.1s\n",
      "395:\tlearn: 97.8507547\ttotal: 9.21s\tremaining: 14.1s\n",
      "396:\tlearn: 97.8374276\ttotal: 9.24s\tremaining: 14s\n",
      "397:\tlearn: 97.8113248\ttotal: 9.25s\tremaining: 14s\n",
      "398:\tlearn: 97.7921360\ttotal: 9.27s\tremaining: 14s\n",
      "399:\tlearn: 97.7712745\ttotal: 9.28s\tremaining: 13.9s\n",
      "400:\tlearn: 97.7515964\ttotal: 9.3s\tremaining: 13.9s\n",
      "401:\tlearn: 97.7295718\ttotal: 9.32s\tremaining: 13.9s\n",
      "402:\tlearn: 97.6767239\ttotal: 9.36s\tremaining: 13.9s\n",
      "403:\tlearn: 97.6698957\ttotal: 9.38s\tremaining: 13.8s\n",
      "404:\tlearn: 97.6553420\ttotal: 9.43s\tremaining: 13.8s\n",
      "405:\tlearn: 97.6504389\ttotal: 9.45s\tremaining: 13.8s\n",
      "406:\tlearn: 97.5705306\ttotal: 9.47s\tremaining: 13.8s\n",
      "407:\tlearn: 97.5553038\ttotal: 9.5s\tremaining: 13.8s\n",
      "408:\tlearn: 97.5414357\ttotal: 9.53s\tremaining: 13.8s\n",
      "409:\tlearn: 97.5209212\ttotal: 9.56s\tremaining: 13.8s\n",
      "410:\tlearn: 97.4847563\ttotal: 9.58s\tremaining: 13.7s\n",
      "411:\tlearn: 97.3962753\ttotal: 9.6s\tremaining: 13.7s\n",
      "412:\tlearn: 97.3764791\ttotal: 9.62s\tremaining: 13.7s\n",
      "413:\tlearn: 97.3382933\ttotal: 9.64s\tremaining: 13.7s\n",
      "414:\tlearn: 97.3251595\ttotal: 9.67s\tremaining: 13.6s\n",
      "415:\tlearn: 97.2920006\ttotal: 9.71s\tremaining: 13.6s\n",
      "416:\tlearn: 97.2377771\ttotal: 9.72s\tremaining: 13.6s\n",
      "417:\tlearn: 97.2238375\ttotal: 9.74s\tremaining: 13.6s\n",
      "418:\tlearn: 97.1794861\ttotal: 9.76s\tremaining: 13.5s\n",
      "419:\tlearn: 97.1625377\ttotal: 9.77s\tremaining: 13.5s\n",
      "420:\tlearn: 97.1470957\ttotal: 9.79s\tremaining: 13.5s\n",
      "421:\tlearn: 97.1179894\ttotal: 9.8s\tremaining: 13.4s\n",
      "422:\tlearn: 97.0976392\ttotal: 9.82s\tremaining: 13.4s\n",
      "423:\tlearn: 97.0725150\ttotal: 9.85s\tremaining: 13.4s\n",
      "424:\tlearn: 97.0313269\ttotal: 9.87s\tremaining: 13.4s\n",
      "425:\tlearn: 97.0133063\ttotal: 9.9s\tremaining: 13.3s\n",
      "426:\tlearn: 96.9832996\ttotal: 9.91s\tremaining: 13.3s\n",
      "427:\tlearn: 96.9711249\ttotal: 9.93s\tremaining: 13.3s\n",
      "428:\tlearn: 96.9576801\ttotal: 9.94s\tremaining: 13.2s\n",
      "429:\tlearn: 96.9262897\ttotal: 9.96s\tremaining: 13.2s\n",
      "430:\tlearn: 96.9108162\ttotal: 9.98s\tremaining: 13.2s\n",
      "431:\tlearn: 96.8813053\ttotal: 9.99s\tremaining: 13.1s\n",
      "432:\tlearn: 96.8591761\ttotal: 10s\tremaining: 13.1s\n",
      "433:\tlearn: 96.8534053\ttotal: 10s\tremaining: 13.1s\n",
      "434:\tlearn: 96.8422825\ttotal: 10.1s\tremaining: 13.1s\n",
      "435:\tlearn: 96.8204331\ttotal: 10.1s\tremaining: 13.1s\n",
      "436:\tlearn: 96.8103666\ttotal: 10.1s\tremaining: 13s\n",
      "437:\tlearn: 96.7901126\ttotal: 10.1s\tremaining: 13s\n",
      "438:\tlearn: 96.7696092\ttotal: 10.1s\tremaining: 13s\n",
      "439:\tlearn: 96.7508964\ttotal: 10.2s\tremaining: 12.9s\n",
      "440:\tlearn: 96.7245773\ttotal: 10.2s\tremaining: 12.9s\n",
      "441:\tlearn: 96.6966515\ttotal: 10.2s\tremaining: 12.9s\n",
      "442:\tlearn: 96.6878900\ttotal: 10.3s\tremaining: 13s\n",
      "443:\tlearn: 96.6689318\ttotal: 10.3s\tremaining: 13s\n",
      "444:\tlearn: 96.6589577\ttotal: 10.4s\tremaining: 12.9s\n",
      "445:\tlearn: 96.6101811\ttotal: 10.4s\tremaining: 12.9s\n",
      "446:\tlearn: 96.5912372\ttotal: 10.4s\tremaining: 12.9s\n",
      "447:\tlearn: 96.5595019\ttotal: 10.5s\tremaining: 12.9s\n",
      "448:\tlearn: 96.5470116\ttotal: 10.5s\tremaining: 12.9s\n",
      "449:\tlearn: 96.5356441\ttotal: 10.5s\tremaining: 12.9s\n",
      "450:\tlearn: 96.4577464\ttotal: 10.6s\tremaining: 12.9s\n",
      "451:\tlearn: 96.4253924\ttotal: 10.6s\tremaining: 12.9s\n",
      "452:\tlearn: 96.4075037\ttotal: 10.6s\tremaining: 12.8s\n",
      "453:\tlearn: 96.3815518\ttotal: 10.6s\tremaining: 12.8s\n",
      "454:\tlearn: 96.3421211\ttotal: 10.7s\tremaining: 12.8s\n",
      "455:\tlearn: 96.3195472\ttotal: 10.7s\tremaining: 12.7s\n",
      "456:\tlearn: 96.3077280\ttotal: 10.7s\tremaining: 12.7s\n",
      "457:\tlearn: 96.3032330\ttotal: 10.7s\tremaining: 12.7s\n",
      "458:\tlearn: 96.2460883\ttotal: 10.7s\tremaining: 12.7s\n",
      "459:\tlearn: 96.2418962\ttotal: 10.8s\tremaining: 12.7s\n",
      "460:\tlearn: 96.2153899\ttotal: 10.8s\tremaining: 12.6s\n",
      "461:\tlearn: 96.2028846\ttotal: 10.8s\tremaining: 12.6s\n",
      "462:\tlearn: 96.1839732\ttotal: 10.8s\tremaining: 12.6s\n",
      "463:\tlearn: 96.1800655\ttotal: 10.9s\tremaining: 12.6s\n",
      "464:\tlearn: 96.1572978\ttotal: 10.9s\tremaining: 12.6s\n",
      "465:\tlearn: 96.1093179\ttotal: 10.9s\tremaining: 12.5s\n",
      "466:\tlearn: 96.0829962\ttotal: 11s\tremaining: 12.5s\n",
      "467:\tlearn: 96.0785527\ttotal: 11s\tremaining: 12.5s\n",
      "468:\tlearn: 96.0498734\ttotal: 11s\tremaining: 12.5s\n",
      "469:\tlearn: 96.0251875\ttotal: 11s\tremaining: 12.4s\n",
      "470:\tlearn: 96.0081063\ttotal: 11s\tremaining: 12.4s\n",
      "471:\tlearn: 95.9875930\ttotal: 11.1s\tremaining: 12.4s\n",
      "472:\tlearn: 95.9395060\ttotal: 11.1s\tremaining: 12.4s\n",
      "473:\tlearn: 95.9201750\ttotal: 11.1s\tremaining: 12.3s\n",
      "474:\tlearn: 95.9051409\ttotal: 11.1s\tremaining: 12.3s\n",
      "475:\tlearn: 95.8741115\ttotal: 11.1s\tremaining: 12.3s\n",
      "476:\tlearn: 95.8610105\ttotal: 11.2s\tremaining: 12.2s\n",
      "477:\tlearn: 95.8171141\ttotal: 11.2s\tremaining: 12.2s\n",
      "478:\tlearn: 95.8009790\ttotal: 11.2s\tremaining: 12.2s\n",
      "479:\tlearn: 95.7296042\ttotal: 11.2s\tremaining: 12.1s\n",
      "480:\tlearn: 95.7202518\ttotal: 11.2s\tremaining: 12.1s\n"
     ]
    },
    {
     "name": "stdout",
     "output_type": "stream",
     "text": [
      "481:\tlearn: 95.6656753\ttotal: 11.2s\tremaining: 12.1s\n",
      "482:\tlearn: 95.6596912\ttotal: 11.2s\tremaining: 12s\n",
      "483:\tlearn: 95.6420179\ttotal: 11.3s\tremaining: 12s\n",
      "484:\tlearn: 95.6141017\ttotal: 11.3s\tremaining: 12s\n",
      "485:\tlearn: 95.5907973\ttotal: 11.3s\tremaining: 12s\n",
      "486:\tlearn: 95.5557030\ttotal: 11.3s\tremaining: 11.9s\n",
      "487:\tlearn: 95.4874240\ttotal: 11.4s\tremaining: 11.9s\n",
      "488:\tlearn: 95.4175783\ttotal: 11.4s\tremaining: 11.9s\n",
      "489:\tlearn: 95.4099584\ttotal: 11.4s\tremaining: 11.9s\n",
      "490:\tlearn: 95.3893181\ttotal: 11.4s\tremaining: 11.8s\n",
      "491:\tlearn: 95.3447394\ttotal: 11.4s\tremaining: 11.8s\n",
      "492:\tlearn: 95.3233389\ttotal: 11.4s\tremaining: 11.8s\n",
      "493:\tlearn: 95.2536514\ttotal: 11.5s\tremaining: 11.8s\n",
      "494:\tlearn: 95.2489705\ttotal: 11.5s\tremaining: 11.7s\n",
      "495:\tlearn: 95.2037876\ttotal: 11.5s\tremaining: 11.7s\n",
      "496:\tlearn: 95.1846222\ttotal: 11.5s\tremaining: 11.7s\n",
      "497:\tlearn: 95.1593673\ttotal: 11.5s\tremaining: 11.6s\n",
      "498:\tlearn: 95.0860458\ttotal: 11.5s\tremaining: 11.6s\n",
      "499:\tlearn: 95.0699561\ttotal: 11.6s\tremaining: 11.6s\n",
      "500:\tlearn: 95.0542858\ttotal: 11.6s\tremaining: 11.5s\n",
      "501:\tlearn: 95.0199040\ttotal: 11.6s\tremaining: 11.5s\n",
      "502:\tlearn: 95.0121888\ttotal: 11.6s\tremaining: 11.5s\n",
      "503:\tlearn: 94.9846762\ttotal: 11.6s\tremaining: 11.4s\n",
      "504:\tlearn: 94.9524790\ttotal: 11.6s\tremaining: 11.4s\n",
      "505:\tlearn: 94.9144750\ttotal: 11.7s\tremaining: 11.4s\n",
      "506:\tlearn: 94.8966920\ttotal: 11.7s\tremaining: 11.3s\n",
      "507:\tlearn: 94.8838665\ttotal: 11.7s\tremaining: 11.3s\n",
      "508:\tlearn: 94.8481980\ttotal: 11.7s\tremaining: 11.3s\n",
      "509:\tlearn: 94.8180001\ttotal: 11.7s\tremaining: 11.3s\n",
      "510:\tlearn: 94.7960942\ttotal: 11.7s\tremaining: 11.2s\n",
      "511:\tlearn: 94.7243789\ttotal: 11.7s\tremaining: 11.2s\n",
      "512:\tlearn: 94.6572181\ttotal: 11.8s\tremaining: 11.2s\n",
      "513:\tlearn: 94.6414783\ttotal: 11.8s\tremaining: 11.1s\n",
      "514:\tlearn: 94.6376330\ttotal: 11.8s\tremaining: 11.1s\n",
      "515:\tlearn: 94.6262417\ttotal: 11.8s\tremaining: 11.1s\n",
      "516:\tlearn: 94.6114663\ttotal: 11.8s\tremaining: 11s\n",
      "517:\tlearn: 94.6032388\ttotal: 11.8s\tremaining: 11s\n",
      "518:\tlearn: 94.5467261\ttotal: 11.9s\tremaining: 11s\n",
      "519:\tlearn: 94.5414860\ttotal: 11.9s\tremaining: 11s\n",
      "520:\tlearn: 94.5282404\ttotal: 11.9s\tremaining: 10.9s\n",
      "521:\tlearn: 94.4993743\ttotal: 11.9s\tremaining: 10.9s\n",
      "522:\tlearn: 94.4691382\ttotal: 11.9s\tremaining: 10.9s\n",
      "523:\tlearn: 94.4551007\ttotal: 12s\tremaining: 10.9s\n",
      "524:\tlearn: 94.4427794\ttotal: 12s\tremaining: 10.8s\n",
      "525:\tlearn: 94.3916229\ttotal: 12s\tremaining: 10.8s\n",
      "526:\tlearn: 94.3747500\ttotal: 12s\tremaining: 10.8s\n",
      "527:\tlearn: 94.3474724\ttotal: 12s\tremaining: 10.8s\n",
      "528:\tlearn: 94.3221009\ttotal: 12s\tremaining: 10.7s\n",
      "529:\tlearn: 94.3114788\ttotal: 12.1s\tremaining: 10.7s\n",
      "530:\tlearn: 94.3016948\ttotal: 12.1s\tremaining: 10.7s\n",
      "531:\tlearn: 94.2825720\ttotal: 12.1s\tremaining: 10.6s\n",
      "532:\tlearn: 94.2568025\ttotal: 12.1s\tremaining: 10.6s\n",
      "533:\tlearn: 94.2409539\ttotal: 12.1s\tremaining: 10.6s\n",
      "534:\tlearn: 94.1679283\ttotal: 12.1s\tremaining: 10.5s\n",
      "535:\tlearn: 94.1442864\ttotal: 12.1s\tremaining: 10.5s\n",
      "536:\tlearn: 94.1016832\ttotal: 12.2s\tremaining: 10.5s\n",
      "537:\tlearn: 94.0842980\ttotal: 12.2s\tremaining: 10.5s\n",
      "538:\tlearn: 94.0604757\ttotal: 12.2s\tremaining: 10.4s\n",
      "539:\tlearn: 94.0264708\ttotal: 12.2s\tremaining: 10.4s\n",
      "540:\tlearn: 93.9798733\ttotal: 12.2s\tremaining: 10.4s\n",
      "541:\tlearn: 93.9682165\ttotal: 12.3s\tremaining: 10.4s\n",
      "542:\tlearn: 93.9042737\ttotal: 12.3s\tremaining: 10.3s\n",
      "543:\tlearn: 93.8821744\ttotal: 12.3s\tremaining: 10.3s\n",
      "544:\tlearn: 93.8696148\ttotal: 12.3s\tremaining: 10.3s\n",
      "545:\tlearn: 93.8612377\ttotal: 12.3s\tremaining: 10.2s\n",
      "546:\tlearn: 93.8513085\ttotal: 12.3s\tremaining: 10.2s\n",
      "547:\tlearn: 93.8279873\ttotal: 12.3s\tremaining: 10.2s\n",
      "548:\tlearn: 93.8136321\ttotal: 12.4s\tremaining: 10.2s\n",
      "549:\tlearn: 93.7730067\ttotal: 12.4s\tremaining: 10.1s\n",
      "550:\tlearn: 93.7643231\ttotal: 12.4s\tremaining: 10.1s\n",
      "551:\tlearn: 93.7297021\ttotal: 12.4s\tremaining: 10.1s\n",
      "552:\tlearn: 93.7035471\ttotal: 12.4s\tremaining: 10.1s\n",
      "553:\tlearn: 93.6941494\ttotal: 12.5s\tremaining: 10s\n",
      "554:\tlearn: 93.6895182\ttotal: 12.5s\tremaining: 10s\n",
      "555:\tlearn: 93.6746629\ttotal: 12.5s\tremaining: 9.97s\n",
      "556:\tlearn: 93.6717560\ttotal: 12.5s\tremaining: 9.94s\n",
      "557:\tlearn: 93.6362612\ttotal: 12.5s\tremaining: 9.91s\n",
      "558:\tlearn: 93.6234287\ttotal: 12.5s\tremaining: 9.89s\n",
      "559:\tlearn: 93.6039552\ttotal: 12.6s\tremaining: 9.87s\n",
      "560:\tlearn: 93.5794416\ttotal: 12.6s\tremaining: 9.84s\n",
      "561:\tlearn: 93.5561959\ttotal: 12.6s\tremaining: 9.81s\n",
      "562:\tlearn: 93.5474075\ttotal: 12.6s\tremaining: 9.79s\n",
      "563:\tlearn: 93.5099594\ttotal: 12.6s\tremaining: 9.76s\n",
      "564:\tlearn: 93.4929594\ttotal: 12.6s\tremaining: 9.73s\n",
      "565:\tlearn: 93.4720705\ttotal: 12.6s\tremaining: 9.7s\n",
      "566:\tlearn: 93.4380488\ttotal: 12.7s\tremaining: 9.67s\n",
      "567:\tlearn: 93.4124983\ttotal: 12.7s\tremaining: 9.64s\n",
      "568:\tlearn: 93.4096741\ttotal: 12.7s\tremaining: 9.62s\n",
      "569:\tlearn: 93.4023135\ttotal: 12.7s\tremaining: 9.6s\n",
      "570:\tlearn: 93.3854785\ttotal: 12.7s\tremaining: 9.57s\n",
      "571:\tlearn: 93.3574219\ttotal: 12.8s\tremaining: 9.54s\n",
      "572:\tlearn: 93.3005667\ttotal: 12.8s\tremaining: 9.52s\n",
      "573:\tlearn: 93.2846846\ttotal: 12.8s\tremaining: 9.49s\n",
      "574:\tlearn: 93.2316956\ttotal: 12.8s\tremaining: 9.46s\n",
      "575:\tlearn: 93.2139598\ttotal: 12.8s\tremaining: 9.43s\n",
      "576:\tlearn: 93.2029676\ttotal: 12.8s\tremaining: 9.4s\n",
      "577:\tlearn: 93.1886760\ttotal: 12.8s\tremaining: 9.37s\n",
      "578:\tlearn: 93.1649151\ttotal: 12.9s\tremaining: 9.35s\n",
      "579:\tlearn: 93.1450610\ttotal: 12.9s\tremaining: 9.32s\n",
      "580:\tlearn: 93.1291080\ttotal: 12.9s\tremaining: 9.3s\n",
      "581:\tlearn: 93.1254847\ttotal: 12.9s\tremaining: 9.28s\n",
      "582:\tlearn: 93.1149749\ttotal: 12.9s\tremaining: 9.25s\n",
      "583:\tlearn: 93.0917605\ttotal: 13s\tremaining: 9.22s\n",
      "584:\tlearn: 93.0685815\ttotal: 13s\tremaining: 9.2s\n",
      "585:\tlearn: 93.0622883\ttotal: 13s\tremaining: 9.17s\n",
      "586:\tlearn: 93.0523730\ttotal: 13s\tremaining: 9.14s\n",
      "587:\tlearn: 93.0474079\ttotal: 13s\tremaining: 9.12s\n",
      "588:\tlearn: 93.0279517\ttotal: 13s\tremaining: 9.09s\n",
      "589:\tlearn: 93.0100292\ttotal: 13s\tremaining: 9.06s\n",
      "590:\tlearn: 92.9456573\ttotal: 13.1s\tremaining: 9.03s\n",
      "591:\tlearn: 92.9319459\ttotal: 13.1s\tremaining: 9.01s\n",
      "592:\tlearn: 92.8772876\ttotal: 13.1s\tremaining: 8.98s\n",
      "593:\tlearn: 92.8687113\ttotal: 13.1s\tremaining: 8.96s\n",
      "594:\tlearn: 92.8630059\ttotal: 13.1s\tremaining: 8.94s\n",
      "595:\tlearn: 92.8369852\ttotal: 13.1s\tremaining: 8.91s\n",
      "596:\tlearn: 92.8246641\ttotal: 13.2s\tremaining: 8.88s\n",
      "597:\tlearn: 92.8010764\ttotal: 13.2s\tremaining: 8.85s\n",
      "598:\tlearn: 92.7974848\ttotal: 13.2s\tremaining: 8.83s\n",
      "599:\tlearn: 92.7904225\ttotal: 13.2s\tremaining: 8.8s\n",
      "600:\tlearn: 92.7747473\ttotal: 13.2s\tremaining: 8.77s\n",
      "601:\tlearn: 92.7649459\ttotal: 13.2s\tremaining: 8.75s\n",
      "602:\tlearn: 92.7204218\ttotal: 13.3s\tremaining: 8.72s\n",
      "603:\tlearn: 92.7051325\ttotal: 13.3s\tremaining: 8.7s\n",
      "604:\tlearn: 92.6853315\ttotal: 13.3s\tremaining: 8.68s\n",
      "605:\tlearn: 92.6751871\ttotal: 13.3s\tremaining: 8.66s\n",
      "606:\tlearn: 92.6588408\ttotal: 13.3s\tremaining: 8.63s\n",
      "607:\tlearn: 92.6169498\ttotal: 13.3s\tremaining: 8.61s\n",
      "608:\tlearn: 92.5547775\ttotal: 13.4s\tremaining: 8.58s\n",
      "609:\tlearn: 92.5534745\ttotal: 13.4s\tremaining: 8.55s\n",
      "610:\tlearn: 92.5412468\ttotal: 13.4s\tremaining: 8.53s\n",
      "611:\tlearn: 92.5163818\ttotal: 13.4s\tremaining: 8.5s\n",
      "612:\tlearn: 92.5139241\ttotal: 13.4s\tremaining: 8.47s\n",
      "613:\tlearn: 92.4807827\ttotal: 13.4s\tremaining: 8.45s\n",
      "614:\tlearn: 92.4500787\ttotal: 13.5s\tremaining: 8.42s\n",
      "615:\tlearn: 92.4347066\ttotal: 13.5s\tremaining: 8.4s\n",
      "616:\tlearn: 92.4192234\ttotal: 13.5s\tremaining: 8.37s\n",
      "617:\tlearn: 92.3789635\ttotal: 13.5s\tremaining: 8.35s\n",
      "618:\tlearn: 92.3633644\ttotal: 13.5s\tremaining: 8.32s\n",
      "619:\tlearn: 92.3498177\ttotal: 13.5s\tremaining: 8.3s\n",
      "620:\tlearn: 92.3372364\ttotal: 13.6s\tremaining: 8.27s\n",
      "621:\tlearn: 92.3163872\ttotal: 13.6s\tremaining: 8.24s\n",
      "622:\tlearn: 92.2787231\ttotal: 13.6s\tremaining: 8.22s\n",
      "623:\tlearn: 92.2610439\ttotal: 13.6s\tremaining: 8.19s\n",
      "624:\tlearn: 92.2388189\ttotal: 13.6s\tremaining: 8.16s\n",
      "625:\tlearn: 92.2289995\ttotal: 13.6s\tremaining: 8.14s\n",
      "626:\tlearn: 92.2090583\ttotal: 13.7s\tremaining: 8.12s\n",
      "627:\tlearn: 92.2037881\ttotal: 13.7s\tremaining: 8.1s\n",
      "628:\tlearn: 92.1862386\ttotal: 13.7s\tremaining: 8.07s\n",
      "629:\tlearn: 92.1261125\ttotal: 13.7s\tremaining: 8.05s\n",
      "630:\tlearn: 92.1248245\ttotal: 13.7s\tremaining: 8.02s\n",
      "631:\tlearn: 92.0919688\ttotal: 13.7s\tremaining: 7.99s\n",
      "632:\tlearn: 92.0325219\ttotal: 13.7s\tremaining: 7.97s\n",
      "633:\tlearn: 92.0286013\ttotal: 13.8s\tremaining: 7.94s\n",
      "634:\tlearn: 92.0121841\ttotal: 13.8s\tremaining: 7.91s\n",
      "635:\tlearn: 92.0002801\ttotal: 13.8s\tremaining: 7.89s\n",
      "636:\tlearn: 91.9910648\ttotal: 13.8s\tremaining: 7.86s\n",
      "637:\tlearn: 91.9873257\ttotal: 13.8s\tremaining: 7.84s\n",
      "638:\tlearn: 91.9437983\ttotal: 13.8s\tremaining: 7.82s\n",
      "639:\tlearn: 91.9225280\ttotal: 13.9s\tremaining: 7.8s\n",
      "640:\tlearn: 91.9204152\ttotal: 13.9s\tremaining: 7.77s\n",
      "641:\tlearn: 91.8819738\ttotal: 13.9s\tremaining: 7.75s\n",
      "642:\tlearn: 91.8566520\ttotal: 13.9s\tremaining: 7.72s\n",
      "643:\tlearn: 91.8173910\ttotal: 13.9s\tremaining: 7.7s\n",
      "644:\tlearn: 91.8000579\ttotal: 13.9s\tremaining: 7.67s\n",
      "645:\tlearn: 91.7861484\ttotal: 13.9s\tremaining: 7.64s\n"
     ]
    },
    {
     "name": "stdout",
     "output_type": "stream",
     "text": [
      "646:\tlearn: 91.7405906\ttotal: 14s\tremaining: 7.62s\n",
      "647:\tlearn: 91.7124506\ttotal: 14s\tremaining: 7.6s\n",
      "648:\tlearn: 91.7012856\ttotal: 14s\tremaining: 7.58s\n",
      "649:\tlearn: 91.6638369\ttotal: 14s\tremaining: 7.55s\n",
      "650:\tlearn: 91.6609993\ttotal: 14s\tremaining: 7.53s\n",
      "651:\tlearn: 91.6582859\ttotal: 14.1s\tremaining: 7.5s\n",
      "652:\tlearn: 91.6276237\ttotal: 14.1s\tremaining: 7.48s\n",
      "653:\tlearn: 91.6174786\ttotal: 14.1s\tremaining: 7.45s\n",
      "654:\tlearn: 91.6015609\ttotal: 14.1s\tremaining: 7.43s\n",
      "655:\tlearn: 91.5907433\ttotal: 14.1s\tremaining: 7.4s\n",
      "656:\tlearn: 91.5573274\ttotal: 14.1s\tremaining: 7.38s\n",
      "657:\tlearn: 91.5451426\ttotal: 14.2s\tremaining: 7.35s\n",
      "658:\tlearn: 91.5362267\ttotal: 14.2s\tremaining: 7.34s\n",
      "659:\tlearn: 91.5157580\ttotal: 14.2s\tremaining: 7.31s\n",
      "660:\tlearn: 91.5050675\ttotal: 14.2s\tremaining: 7.29s\n",
      "661:\tlearn: 91.4475749\ttotal: 14.2s\tremaining: 7.26s\n",
      "662:\tlearn: 91.4347618\ttotal: 14.2s\tremaining: 7.24s\n",
      "663:\tlearn: 91.4098668\ttotal: 14.3s\tremaining: 7.21s\n",
      "664:\tlearn: 91.3932000\ttotal: 14.3s\tremaining: 7.19s\n",
      "665:\tlearn: 91.3852426\ttotal: 14.3s\tremaining: 7.16s\n",
      "666:\tlearn: 91.3662629\ttotal: 14.3s\tremaining: 7.14s\n",
      "667:\tlearn: 91.3591631\ttotal: 14.3s\tremaining: 7.11s\n",
      "668:\tlearn: 91.3460155\ttotal: 14.3s\tremaining: 7.09s\n",
      "669:\tlearn: 91.3354335\ttotal: 14.4s\tremaining: 7.07s\n",
      "670:\tlearn: 91.3132101\ttotal: 14.4s\tremaining: 7.05s\n",
      "671:\tlearn: 91.2807005\ttotal: 14.4s\tremaining: 7.03s\n",
      "672:\tlearn: 91.2722596\ttotal: 14.4s\tremaining: 7s\n",
      "673:\tlearn: 91.2649570\ttotal: 14.4s\tremaining: 6.98s\n",
      "674:\tlearn: 91.2619074\ttotal: 14.4s\tremaining: 6.95s\n",
      "675:\tlearn: 91.2459275\ttotal: 14.5s\tremaining: 6.93s\n",
      "676:\tlearn: 91.1892802\ttotal: 14.5s\tremaining: 6.9s\n",
      "677:\tlearn: 91.1753149\ttotal: 14.5s\tremaining: 6.88s\n",
      "678:\tlearn: 91.1621754\ttotal: 14.5s\tremaining: 6.86s\n",
      "679:\tlearn: 91.1471070\ttotal: 14.5s\tremaining: 6.84s\n",
      "680:\tlearn: 91.1342355\ttotal: 14.5s\tremaining: 6.81s\n",
      "681:\tlearn: 91.1094809\ttotal: 14.6s\tremaining: 6.79s\n",
      "682:\tlearn: 91.0810939\ttotal: 14.6s\tremaining: 6.76s\n",
      "683:\tlearn: 91.0719584\ttotal: 14.6s\tremaining: 6.74s\n",
      "684:\tlearn: 91.0667139\ttotal: 14.6s\tremaining: 6.71s\n",
      "685:\tlearn: 91.0122153\ttotal: 14.6s\tremaining: 6.69s\n",
      "686:\tlearn: 90.9959801\ttotal: 14.6s\tremaining: 6.67s\n",
      "687:\tlearn: 90.9621675\ttotal: 14.6s\tremaining: 6.64s\n",
      "688:\tlearn: 90.9533824\ttotal: 14.7s\tremaining: 6.62s\n",
      "689:\tlearn: 90.9417690\ttotal: 14.7s\tremaining: 6.59s\n",
      "690:\tlearn: 90.9326045\ttotal: 14.7s\tremaining: 6.57s\n",
      "691:\tlearn: 90.8937680\ttotal: 14.7s\tremaining: 6.55s\n",
      "692:\tlearn: 90.8842870\ttotal: 14.7s\tremaining: 6.53s\n",
      "693:\tlearn: 90.8697131\ttotal: 14.8s\tremaining: 6.5s\n",
      "694:\tlearn: 90.8475966\ttotal: 14.8s\tremaining: 6.48s\n",
      "695:\tlearn: 90.8052326\ttotal: 14.8s\tremaining: 6.46s\n",
      "696:\tlearn: 90.7922679\ttotal: 14.8s\tremaining: 6.43s\n",
      "697:\tlearn: 90.7764562\ttotal: 14.8s\tremaining: 6.41s\n",
      "698:\tlearn: 90.7667829\ttotal: 14.8s\tremaining: 6.38s\n",
      "699:\tlearn: 90.7555816\ttotal: 14.8s\tremaining: 6.36s\n",
      "700:\tlearn: 90.7480787\ttotal: 14.9s\tremaining: 6.33s\n",
      "701:\tlearn: 90.7391338\ttotal: 14.9s\tremaining: 6.31s\n",
      "702:\tlearn: 90.7246271\ttotal: 14.9s\tremaining: 6.29s\n",
      "703:\tlearn: 90.6981219\ttotal: 14.9s\tremaining: 6.27s\n",
      "704:\tlearn: 90.6838456\ttotal: 14.9s\tremaining: 6.25s\n",
      "705:\tlearn: 90.6430280\ttotal: 14.9s\tremaining: 6.22s\n",
      "706:\tlearn: 90.6347929\ttotal: 15s\tremaining: 6.2s\n",
      "707:\tlearn: 90.6266085\ttotal: 15s\tremaining: 6.18s\n",
      "708:\tlearn: 90.6156056\ttotal: 15s\tremaining: 6.15s\n",
      "709:\tlearn: 90.6055742\ttotal: 15s\tremaining: 6.13s\n",
      "710:\tlearn: 90.5988284\ttotal: 15s\tremaining: 6.1s\n",
      "711:\tlearn: 90.5741794\ttotal: 15s\tremaining: 6.08s\n",
      "712:\tlearn: 90.5669435\ttotal: 15s\tremaining: 6.06s\n",
      "713:\tlearn: 90.5559363\ttotal: 15.1s\tremaining: 6.04s\n",
      "714:\tlearn: 90.5518029\ttotal: 15.1s\tremaining: 6.01s\n",
      "715:\tlearn: 90.5451118\ttotal: 15.1s\tremaining: 6s\n",
      "716:\tlearn: 90.5270981\ttotal: 15.1s\tremaining: 5.97s\n",
      "717:\tlearn: 90.5149451\ttotal: 15.1s\tremaining: 5.95s\n",
      "718:\tlearn: 90.5037172\ttotal: 15.2s\tremaining: 5.92s\n",
      "719:\tlearn: 90.4988503\ttotal: 15.2s\tremaining: 5.9s\n",
      "720:\tlearn: 90.4898898\ttotal: 15.2s\tremaining: 5.88s\n",
      "721:\tlearn: 90.4831032\ttotal: 15.2s\tremaining: 5.85s\n",
      "722:\tlearn: 90.4754428\ttotal: 15.2s\tremaining: 5.83s\n",
      "723:\tlearn: 90.4590445\ttotal: 15.2s\tremaining: 5.81s\n",
      "724:\tlearn: 90.4095066\ttotal: 15.3s\tremaining: 5.79s\n",
      "725:\tlearn: 90.3981411\ttotal: 15.3s\tremaining: 5.77s\n",
      "726:\tlearn: 90.3856836\ttotal: 15.3s\tremaining: 5.74s\n",
      "727:\tlearn: 90.3763021\ttotal: 15.3s\tremaining: 5.72s\n",
      "728:\tlearn: 90.3538173\ttotal: 15.3s\tremaining: 5.7s\n",
      "729:\tlearn: 90.3317102\ttotal: 15.3s\tremaining: 5.67s\n",
      "730:\tlearn: 90.3206685\ttotal: 15.3s\tremaining: 5.65s\n",
      "731:\tlearn: 90.3191320\ttotal: 15.4s\tremaining: 5.63s\n",
      "732:\tlearn: 90.3091197\ttotal: 15.4s\tremaining: 5.6s\n",
      "733:\tlearn: 90.2990908\ttotal: 15.4s\tremaining: 5.58s\n",
      "734:\tlearn: 90.2851451\ttotal: 15.4s\tremaining: 5.56s\n",
      "735:\tlearn: 90.2760866\ttotal: 15.4s\tremaining: 5.54s\n",
      "736:\tlearn: 90.2712950\ttotal: 15.4s\tremaining: 5.51s\n",
      "737:\tlearn: 90.2234697\ttotal: 15.5s\tremaining: 5.49s\n",
      "738:\tlearn: 90.2204352\ttotal: 15.5s\tremaining: 5.47s\n",
      "739:\tlearn: 90.1938072\ttotal: 15.5s\tremaining: 5.45s\n",
      "740:\tlearn: 90.1645504\ttotal: 15.5s\tremaining: 5.42s\n",
      "741:\tlearn: 90.1502048\ttotal: 15.5s\tremaining: 5.4s\n",
      "742:\tlearn: 90.1464855\ttotal: 15.5s\tremaining: 5.38s\n",
      "743:\tlearn: 90.1404655\ttotal: 15.6s\tremaining: 5.35s\n",
      "744:\tlearn: 90.1134438\ttotal: 15.6s\tremaining: 5.33s\n",
      "745:\tlearn: 90.0915606\ttotal: 15.6s\tremaining: 5.31s\n",
      "746:\tlearn: 90.0807374\ttotal: 15.6s\tremaining: 5.29s\n",
      "747:\tlearn: 90.0605365\ttotal: 15.6s\tremaining: 5.27s\n",
      "748:\tlearn: 90.0425919\ttotal: 15.6s\tremaining: 5.24s\n",
      "749:\tlearn: 90.0268553\ttotal: 15.7s\tremaining: 5.22s\n",
      "750:\tlearn: 90.0000081\ttotal: 15.7s\tremaining: 5.2s\n",
      "751:\tlearn: 89.9902915\ttotal: 15.7s\tremaining: 5.17s\n",
      "752:\tlearn: 89.9765184\ttotal: 15.7s\tremaining: 5.15s\n",
      "753:\tlearn: 89.9718072\ttotal: 15.7s\tremaining: 5.13s\n",
      "754:\tlearn: 89.9465714\ttotal: 15.7s\tremaining: 5.1s\n",
      "755:\tlearn: 89.9228674\ttotal: 15.7s\tremaining: 5.08s\n",
      "756:\tlearn: 89.9087641\ttotal: 15.8s\tremaining: 5.06s\n",
      "757:\tlearn: 89.8797313\ttotal: 15.8s\tremaining: 5.04s\n",
      "758:\tlearn: 89.8347999\ttotal: 15.8s\tremaining: 5.02s\n",
      "759:\tlearn: 89.8195178\ttotal: 15.8s\tremaining: 5s\n",
      "760:\tlearn: 89.8157040\ttotal: 15.8s\tremaining: 4.98s\n",
      "761:\tlearn: 89.7996794\ttotal: 15.9s\tremaining: 4.95s\n",
      "762:\tlearn: 89.7815112\ttotal: 15.9s\tremaining: 4.93s\n",
      "763:\tlearn: 89.7640804\ttotal: 15.9s\tremaining: 4.91s\n",
      "764:\tlearn: 89.7547052\ttotal: 15.9s\tremaining: 4.88s\n",
      "765:\tlearn: 89.7473024\ttotal: 15.9s\tremaining: 4.87s\n",
      "766:\tlearn: 89.7331236\ttotal: 16s\tremaining: 4.85s\n",
      "767:\tlearn: 89.7252957\ttotal: 16s\tremaining: 4.82s\n",
      "768:\tlearn: 89.7063525\ttotal: 16s\tremaining: 4.8s\n",
      "769:\tlearn: 89.6885953\ttotal: 16s\tremaining: 4.78s\n",
      "770:\tlearn: 89.6622387\ttotal: 16s\tremaining: 4.75s\n",
      "771:\tlearn: 89.6480047\ttotal: 16s\tremaining: 4.73s\n",
      "772:\tlearn: 89.6450581\ttotal: 16s\tremaining: 4.71s\n",
      "773:\tlearn: 89.6007927\ttotal: 16.1s\tremaining: 4.69s\n",
      "774:\tlearn: 89.5822252\ttotal: 16.1s\tremaining: 4.67s\n",
      "775:\tlearn: 89.5503439\ttotal: 16.1s\tremaining: 4.64s\n",
      "776:\tlearn: 89.5143373\ttotal: 16.1s\tremaining: 4.62s\n",
      "777:\tlearn: 89.5011853\ttotal: 16.1s\tremaining: 4.6s\n",
      "778:\tlearn: 89.4832792\ttotal: 16.2s\tremaining: 4.58s\n",
      "779:\tlearn: 89.4774221\ttotal: 16.2s\tremaining: 4.56s\n",
      "780:\tlearn: 89.4724515\ttotal: 16.2s\tremaining: 4.54s\n",
      "781:\tlearn: 89.4650269\ttotal: 16.2s\tremaining: 4.51s\n",
      "782:\tlearn: 89.4343982\ttotal: 16.2s\tremaining: 4.49s\n",
      "783:\tlearn: 89.4119086\ttotal: 16.2s\tremaining: 4.47s\n",
      "784:\tlearn: 89.4095526\ttotal: 16.2s\tremaining: 4.45s\n",
      "785:\tlearn: 89.4010532\ttotal: 16.3s\tremaining: 4.42s\n",
      "786:\tlearn: 89.3949307\ttotal: 16.3s\tremaining: 4.41s\n",
      "787:\tlearn: 89.3689574\ttotal: 16.3s\tremaining: 4.39s\n",
      "788:\tlearn: 89.3368515\ttotal: 16.3s\tremaining: 4.37s\n",
      "789:\tlearn: 89.3302805\ttotal: 16.3s\tremaining: 4.34s\n",
      "790:\tlearn: 89.3245124\ttotal: 16.4s\tremaining: 4.32s\n",
      "791:\tlearn: 89.3170872\ttotal: 16.4s\tremaining: 4.3s\n",
      "792:\tlearn: 89.3005266\ttotal: 16.4s\tremaining: 4.28s\n",
      "793:\tlearn: 89.2949306\ttotal: 16.4s\tremaining: 4.26s\n",
      "794:\tlearn: 89.2657512\ttotal: 16.4s\tremaining: 4.23s\n",
      "795:\tlearn: 89.2532019\ttotal: 16.4s\tremaining: 4.21s\n",
      "796:\tlearn: 89.2314746\ttotal: 16.5s\tremaining: 4.19s\n",
      "797:\tlearn: 89.2073881\ttotal: 16.5s\tremaining: 4.17s\n",
      "798:\tlearn: 89.1892879\ttotal: 16.5s\tremaining: 4.15s\n",
      "799:\tlearn: 89.1780401\ttotal: 16.5s\tremaining: 4.13s\n",
      "800:\tlearn: 89.1620464\ttotal: 16.5s\tremaining: 4.11s\n",
      "801:\tlearn: 89.1551737\ttotal: 16.5s\tremaining: 4.08s\n",
      "802:\tlearn: 89.1387018\ttotal: 16.6s\tremaining: 4.06s\n",
      "803:\tlearn: 89.1240130\ttotal: 16.6s\tremaining: 4.04s\n",
      "804:\tlearn: 89.1060052\ttotal: 16.6s\tremaining: 4.02s\n",
      "805:\tlearn: 89.1029393\ttotal: 16.6s\tremaining: 4s\n",
      "806:\tlearn: 89.0976174\ttotal: 16.6s\tremaining: 3.97s\n"
     ]
    },
    {
     "name": "stdout",
     "output_type": "stream",
     "text": [
      "807:\tlearn: 89.0810122\ttotal: 16.6s\tremaining: 3.95s\n",
      "808:\tlearn: 89.0742901\ttotal: 16.7s\tremaining: 3.93s\n",
      "809:\tlearn: 89.0630527\ttotal: 16.7s\tremaining: 3.91s\n",
      "810:\tlearn: 89.0536004\ttotal: 16.7s\tremaining: 3.89s\n",
      "811:\tlearn: 89.0375536\ttotal: 16.7s\tremaining: 3.87s\n",
      "812:\tlearn: 89.0318396\ttotal: 16.7s\tremaining: 3.85s\n",
      "813:\tlearn: 89.0243548\ttotal: 16.7s\tremaining: 3.82s\n",
      "814:\tlearn: 89.0128862\ttotal: 16.7s\tremaining: 3.8s\n",
      "815:\tlearn: 89.0079754\ttotal: 16.8s\tremaining: 3.78s\n",
      "816:\tlearn: 88.9945907\ttotal: 16.8s\tremaining: 3.76s\n",
      "817:\tlearn: 88.9876669\ttotal: 16.8s\tremaining: 3.73s\n",
      "818:\tlearn: 88.9737932\ttotal: 16.8s\tremaining: 3.71s\n",
      "819:\tlearn: 88.9646498\ttotal: 16.8s\tremaining: 3.7s\n",
      "820:\tlearn: 88.9488668\ttotal: 16.9s\tremaining: 3.67s\n",
      "821:\tlearn: 88.9355607\ttotal: 16.9s\tremaining: 3.65s\n",
      "822:\tlearn: 88.9311134\ttotal: 16.9s\tremaining: 3.63s\n",
      "823:\tlearn: 88.9241712\ttotal: 16.9s\tremaining: 3.61s\n",
      "824:\tlearn: 88.9100235\ttotal: 16.9s\tremaining: 3.59s\n",
      "825:\tlearn: 88.8988202\ttotal: 16.9s\tremaining: 3.57s\n",
      "826:\tlearn: 88.8856004\ttotal: 16.9s\tremaining: 3.54s\n",
      "827:\tlearn: 88.8715748\ttotal: 17s\tremaining: 3.52s\n",
      "828:\tlearn: 88.8496553\ttotal: 17s\tremaining: 3.51s\n",
      "829:\tlearn: 88.8343091\ttotal: 17s\tremaining: 3.48s\n",
      "830:\tlearn: 88.8255943\ttotal: 17s\tremaining: 3.46s\n",
      "831:\tlearn: 88.8186947\ttotal: 17s\tremaining: 3.44s\n",
      "832:\tlearn: 88.8100276\ttotal: 17.1s\tremaining: 3.42s\n",
      "833:\tlearn: 88.7973007\ttotal: 17.1s\tremaining: 3.4s\n",
      "834:\tlearn: 88.7909957\ttotal: 17.1s\tremaining: 3.38s\n",
      "835:\tlearn: 88.7889526\ttotal: 17.1s\tremaining: 3.35s\n",
      "836:\tlearn: 88.7729341\ttotal: 17.1s\tremaining: 3.33s\n",
      "837:\tlearn: 88.7672636\ttotal: 17.1s\tremaining: 3.31s\n",
      "838:\tlearn: 88.7180128\ttotal: 17.1s\tremaining: 3.29s\n",
      "839:\tlearn: 88.7058720\ttotal: 17.2s\tremaining: 3.27s\n",
      "840:\tlearn: 88.6913213\ttotal: 17.2s\tremaining: 3.25s\n",
      "841:\tlearn: 88.6764823\ttotal: 17.2s\tremaining: 3.23s\n",
      "842:\tlearn: 88.6687063\ttotal: 17.2s\tremaining: 3.21s\n",
      "843:\tlearn: 88.6651203\ttotal: 17.2s\tremaining: 3.19s\n",
      "844:\tlearn: 88.6547806\ttotal: 17.2s\tremaining: 3.16s\n",
      "845:\tlearn: 88.6485587\ttotal: 17.3s\tremaining: 3.14s\n",
      "846:\tlearn: 88.6406422\ttotal: 17.3s\tremaining: 3.12s\n",
      "847:\tlearn: 88.6330834\ttotal: 17.3s\tremaining: 3.1s\n",
      "848:\tlearn: 88.6207489\ttotal: 17.3s\tremaining: 3.08s\n",
      "849:\tlearn: 88.5919466\ttotal: 17.3s\tremaining: 3.06s\n",
      "850:\tlearn: 88.5549235\ttotal: 17.3s\tremaining: 3.04s\n",
      "851:\tlearn: 88.5392399\ttotal: 17.4s\tremaining: 3.02s\n",
      "852:\tlearn: 88.5274483\ttotal: 17.4s\tremaining: 2.99s\n",
      "853:\tlearn: 88.5180118\ttotal: 17.4s\tremaining: 2.97s\n",
      "854:\tlearn: 88.5143670\ttotal: 17.4s\tremaining: 2.95s\n",
      "855:\tlearn: 88.5081545\ttotal: 17.4s\tremaining: 2.93s\n",
      "856:\tlearn: 88.4865755\ttotal: 17.4s\tremaining: 2.91s\n",
      "857:\tlearn: 88.4749752\ttotal: 17.4s\tremaining: 2.89s\n",
      "858:\tlearn: 88.4676849\ttotal: 17.5s\tremaining: 2.87s\n",
      "859:\tlearn: 88.4600460\ttotal: 17.5s\tremaining: 2.85s\n",
      "860:\tlearn: 88.4184677\ttotal: 17.5s\tremaining: 2.82s\n",
      "861:\tlearn: 88.4131092\ttotal: 17.5s\tremaining: 2.8s\n",
      "862:\tlearn: 88.3727646\ttotal: 17.5s\tremaining: 2.78s\n",
      "863:\tlearn: 88.3649471\ttotal: 17.6s\tremaining: 2.76s\n",
      "864:\tlearn: 88.3534423\ttotal: 17.6s\tremaining: 2.74s\n",
      "865:\tlearn: 88.3507974\ttotal: 17.6s\tremaining: 2.72s\n",
      "866:\tlearn: 88.3492379\ttotal: 17.6s\tremaining: 2.7s\n",
      "867:\tlearn: 88.3291847\ttotal: 17.6s\tremaining: 2.68s\n",
      "868:\tlearn: 88.3123437\ttotal: 17.6s\tremaining: 2.66s\n",
      "869:\tlearn: 88.2723521\ttotal: 17.6s\tremaining: 2.63s\n",
      "870:\tlearn: 88.2659706\ttotal: 17.7s\tremaining: 2.61s\n",
      "871:\tlearn: 88.2551833\ttotal: 17.7s\tremaining: 2.59s\n",
      "872:\tlearn: 88.2379112\ttotal: 17.7s\tremaining: 2.57s\n",
      "873:\tlearn: 88.2272547\ttotal: 17.7s\tremaining: 2.55s\n",
      "874:\tlearn: 88.2172844\ttotal: 17.7s\tremaining: 2.53s\n",
      "875:\tlearn: 88.2016231\ttotal: 17.7s\tremaining: 2.51s\n",
      "876:\tlearn: 88.1639303\ttotal: 17.8s\tremaining: 2.49s\n",
      "877:\tlearn: 88.1577441\ttotal: 17.8s\tremaining: 2.47s\n",
      "878:\tlearn: 88.1511955\ttotal: 17.8s\tremaining: 2.45s\n",
      "879:\tlearn: 88.1442413\ttotal: 17.8s\tremaining: 2.43s\n",
      "880:\tlearn: 88.1287337\ttotal: 17.8s\tremaining: 2.4s\n",
      "881:\tlearn: 88.1144675\ttotal: 17.8s\tremaining: 2.38s\n",
      "882:\tlearn: 88.0974907\ttotal: 17.8s\tremaining: 2.36s\n",
      "883:\tlearn: 88.0901793\ttotal: 17.9s\tremaining: 2.34s\n",
      "884:\tlearn: 88.0842875\ttotal: 17.9s\tremaining: 2.32s\n",
      "885:\tlearn: 88.0773198\ttotal: 17.9s\tremaining: 2.3s\n",
      "886:\tlearn: 88.0745111\ttotal: 17.9s\tremaining: 2.28s\n",
      "887:\tlearn: 88.0689707\ttotal: 17.9s\tremaining: 2.26s\n",
      "888:\tlearn: 88.0605121\ttotal: 17.9s\tremaining: 2.24s\n",
      "889:\tlearn: 88.0427809\ttotal: 18s\tremaining: 2.22s\n",
      "890:\tlearn: 88.0317654\ttotal: 18s\tremaining: 2.2s\n",
      "891:\tlearn: 88.0255930\ttotal: 18s\tremaining: 2.18s\n",
      "892:\tlearn: 88.0151755\ttotal: 18s\tremaining: 2.16s\n",
      "893:\tlearn: 88.0073951\ttotal: 18s\tremaining: 2.14s\n",
      "894:\tlearn: 87.9709897\ttotal: 18s\tremaining: 2.12s\n",
      "895:\tlearn: 87.9358762\ttotal: 18.1s\tremaining: 2.1s\n",
      "896:\tlearn: 87.9219581\ttotal: 18.1s\tremaining: 2.08s\n",
      "897:\tlearn: 87.8880819\ttotal: 18.1s\tremaining: 2.06s\n",
      "898:\tlearn: 87.8858169\ttotal: 18.1s\tremaining: 2.03s\n",
      "899:\tlearn: 87.8804480\ttotal: 18.1s\tremaining: 2.01s\n",
      "900:\tlearn: 87.8743563\ttotal: 18.1s\tremaining: 1.99s\n",
      "901:\tlearn: 87.8703580\ttotal: 18.2s\tremaining: 1.97s\n",
      "902:\tlearn: 87.8645854\ttotal: 18.2s\tremaining: 1.95s\n",
      "903:\tlearn: 87.8498088\ttotal: 18.2s\tremaining: 1.93s\n",
      "904:\tlearn: 87.8427191\ttotal: 18.2s\tremaining: 1.91s\n",
      "905:\tlearn: 87.8369622\ttotal: 18.2s\tremaining: 1.89s\n",
      "906:\tlearn: 87.8298958\ttotal: 18.2s\tremaining: 1.87s\n",
      "907:\tlearn: 87.8166743\ttotal: 18.3s\tremaining: 1.85s\n",
      "908:\tlearn: 87.8002295\ttotal: 18.3s\tremaining: 1.83s\n",
      "909:\tlearn: 87.7960606\ttotal: 18.3s\tremaining: 1.81s\n",
      "910:\tlearn: 87.7899919\ttotal: 18.3s\tremaining: 1.79s\n",
      "911:\tlearn: 87.7572618\ttotal: 18.3s\tremaining: 1.77s\n",
      "912:\tlearn: 87.7535131\ttotal: 18.3s\tremaining: 1.75s\n",
      "913:\tlearn: 87.7507510\ttotal: 18.4s\tremaining: 1.73s\n",
      "914:\tlearn: 87.7443491\ttotal: 18.4s\tremaining: 1.71s\n",
      "915:\tlearn: 87.7388870\ttotal: 18.4s\tremaining: 1.69s\n",
      "916:\tlearn: 87.7294922\ttotal: 18.4s\tremaining: 1.67s\n",
      "917:\tlearn: 87.7176607\ttotal: 18.4s\tremaining: 1.65s\n",
      "918:\tlearn: 87.6888547\ttotal: 18.4s\tremaining: 1.63s\n",
      "919:\tlearn: 87.6374832\ttotal: 18.5s\tremaining: 1.6s\n",
      "920:\tlearn: 87.6322999\ttotal: 18.5s\tremaining: 1.58s\n",
      "921:\tlearn: 87.6010031\ttotal: 18.5s\tremaining: 1.56s\n",
      "922:\tlearn: 87.5912109\ttotal: 18.5s\tremaining: 1.54s\n",
      "923:\tlearn: 87.5862965\ttotal: 18.5s\tremaining: 1.52s\n",
      "924:\tlearn: 87.5750994\ttotal: 18.5s\tremaining: 1.5s\n",
      "925:\tlearn: 87.5697317\ttotal: 18.5s\tremaining: 1.48s\n",
      "926:\tlearn: 87.5395228\ttotal: 18.6s\tremaining: 1.46s\n",
      "927:\tlearn: 87.5273326\ttotal: 18.6s\tremaining: 1.44s\n",
      "928:\tlearn: 87.5216906\ttotal: 18.6s\tremaining: 1.42s\n",
      "929:\tlearn: 87.5155306\ttotal: 18.6s\tremaining: 1.4s\n",
      "930:\tlearn: 87.5122965\ttotal: 18.6s\tremaining: 1.38s\n",
      "931:\tlearn: 87.5014297\ttotal: 18.7s\tremaining: 1.36s\n",
      "932:\tlearn: 87.4910688\ttotal: 18.7s\tremaining: 1.34s\n",
      "933:\tlearn: 87.4778631\ttotal: 18.7s\tremaining: 1.32s\n",
      "934:\tlearn: 87.4690575\ttotal: 18.7s\tremaining: 1.3s\n",
      "935:\tlearn: 87.4576952\ttotal: 18.7s\tremaining: 1.28s\n",
      "936:\tlearn: 87.4100976\ttotal: 18.7s\tremaining: 1.26s\n",
      "937:\tlearn: 87.4069868\ttotal: 18.8s\tremaining: 1.24s\n",
      "938:\tlearn: 87.3624255\ttotal: 18.8s\tremaining: 1.22s\n",
      "939:\tlearn: 87.3577505\ttotal: 18.8s\tremaining: 1.2s\n",
      "940:\tlearn: 87.3506041\ttotal: 18.8s\tremaining: 1.18s\n",
      "941:\tlearn: 87.3448749\ttotal: 18.8s\tremaining: 1.16s\n",
      "942:\tlearn: 87.3031151\ttotal: 18.9s\tremaining: 1.14s\n",
      "943:\tlearn: 87.2975537\ttotal: 18.9s\tremaining: 1.12s\n",
      "944:\tlearn: 87.2930978\ttotal: 18.9s\tremaining: 1.1s\n",
      "945:\tlearn: 87.2824504\ttotal: 18.9s\tremaining: 1.08s\n",
      "946:\tlearn: 87.2654966\ttotal: 18.9s\tremaining: 1.06s\n",
      "947:\tlearn: 87.2637018\ttotal: 19s\tremaining: 1.04s\n",
      "948:\tlearn: 87.2490357\ttotal: 19s\tremaining: 1.02s\n",
      "949:\tlearn: 87.2475773\ttotal: 19s\tremaining: 999ms\n",
      "950:\tlearn: 87.2083949\ttotal: 19s\tremaining: 979ms\n",
      "951:\tlearn: 87.2004196\ttotal: 19s\tremaining: 959ms\n",
      "952:\tlearn: 87.1961888\ttotal: 19s\tremaining: 938ms\n",
      "953:\tlearn: 87.1594516\ttotal: 19s\tremaining: 918ms\n",
      "954:\tlearn: 87.1550791\ttotal: 19.1s\tremaining: 898ms\n",
      "955:\tlearn: 87.1462515\ttotal: 19.1s\tremaining: 878ms\n",
      "956:\tlearn: 87.1312846\ttotal: 19.1s\tremaining: 858ms\n",
      "957:\tlearn: 87.1303537\ttotal: 19.1s\tremaining: 838ms\n",
      "958:\tlearn: 87.1248529\ttotal: 19.1s\tremaining: 818ms\n",
      "959:\tlearn: 87.1234154\ttotal: 19.1s\tremaining: 798ms\n",
      "960:\tlearn: 87.1129738\ttotal: 19.2s\tremaining: 778ms\n",
      "961:\tlearn: 87.1007489\ttotal: 19.2s\tremaining: 757ms\n",
      "962:\tlearn: 87.0877164\ttotal: 19.2s\tremaining: 737ms\n",
      "963:\tlearn: 87.0854983\ttotal: 19.2s\tremaining: 717ms\n",
      "964:\tlearn: 87.0549711\ttotal: 19.2s\tremaining: 697ms\n",
      "965:\tlearn: 87.0262301\ttotal: 19.2s\tremaining: 677ms\n",
      "966:\tlearn: 86.9991390\ttotal: 19.2s\tremaining: 657ms\n"
     ]
    },
    {
     "name": "stdout",
     "output_type": "stream",
     "text": [
      "967:\tlearn: 86.9735739\ttotal: 19.3s\tremaining: 637ms\n",
      "968:\tlearn: 86.9494224\ttotal: 19.3s\tremaining: 617ms\n",
      "969:\tlearn: 86.9265820\ttotal: 19.3s\tremaining: 597ms\n",
      "970:\tlearn: 86.9049595\ttotal: 19.3s\tremaining: 577ms\n",
      "971:\tlearn: 86.8517423\ttotal: 19.3s\tremaining: 557ms\n",
      "972:\tlearn: 86.8314456\ttotal: 19.4s\tremaining: 537ms\n",
      "973:\tlearn: 86.8121893\ttotal: 19.4s\tremaining: 517ms\n",
      "974:\tlearn: 86.7623229\ttotal: 19.4s\tremaining: 497ms\n",
      "975:\tlearn: 86.7441864\ttotal: 19.4s\tremaining: 477ms\n",
      "976:\tlearn: 86.7269463\ttotal: 19.4s\tremaining: 457ms\n",
      "977:\tlearn: 86.6801477\ttotal: 19.4s\tremaining: 437ms\n",
      "978:\tlearn: 86.6638617\ttotal: 19.4s\tremaining: 417ms\n",
      "979:\tlearn: 86.6483538\ttotal: 19.5s\tremaining: 397ms\n",
      "980:\tlearn: 86.6335762\ttotal: 19.5s\tremaining: 377ms\n",
      "981:\tlearn: 86.5894719\ttotal: 19.5s\tremaining: 357ms\n",
      "982:\tlearn: 86.5770746\ttotal: 19.5s\tremaining: 337ms\n",
      "983:\tlearn: 86.5719506\ttotal: 19.5s\tremaining: 317ms\n",
      "984:\tlearn: 86.5662687\ttotal: 19.5s\tremaining: 297ms\n",
      "985:\tlearn: 86.5451969\ttotal: 19.5s\tremaining: 277ms\n",
      "986:\tlearn: 86.5071364\ttotal: 19.6s\tremaining: 258ms\n",
      "987:\tlearn: 86.4811310\ttotal: 19.6s\tremaining: 238ms\n",
      "988:\tlearn: 86.4761637\ttotal: 19.6s\tremaining: 218ms\n",
      "989:\tlearn: 86.4682558\ttotal: 19.6s\tremaining: 198ms\n",
      "990:\tlearn: 86.4586650\ttotal: 19.6s\tremaining: 178ms\n",
      "991:\tlearn: 86.4481491\ttotal: 19.6s\tremaining: 158ms\n",
      "992:\tlearn: 86.4414196\ttotal: 19.6s\tremaining: 138ms\n",
      "993:\tlearn: 86.4390932\ttotal: 19.6s\tremaining: 119ms\n",
      "994:\tlearn: 86.4108784\ttotal: 19.6s\tremaining: 98.7ms\n",
      "995:\tlearn: 86.3761509\ttotal: 19.7s\tremaining: 79ms\n",
      "996:\tlearn: 86.3641494\ttotal: 19.7s\tremaining: 59.2ms\n",
      "997:\tlearn: 86.3589478\ttotal: 19.7s\tremaining: 39.5ms\n",
      "998:\tlearn: 86.3402914\ttotal: 19.7s\tremaining: 19.7ms\n",
      "999:\tlearn: 86.3393425\ttotal: 19.7s\tremaining: 0us\n"
     ]
    },
    {
     "data": {
      "text/plain": [
       "<catboost.core.CatBoostRegressor at 0x15a3d831fc8>"
      ]
     },
     "execution_count": 178,
     "metadata": {},
     "output_type": "execute_result"
    }
   ],
   "source": [
    "cat_boost=CatBoostRegressor()\n",
    "cat_boost.fit(train_X,train_y)"
   ]
  },
  {
   "cell_type": "code",
   "execution_count": 179,
   "metadata": {},
   "outputs": [
    {
     "name": "stdout",
     "output_type": "stream",
     "text": [
      "R2 score is: 0.9570339014142635\n",
      "The mean squared error is : 14642.857450033032\n"
     ]
    }
   ],
   "source": [
    "check_test_score(cat_boost)"
   ]
  },
  {
   "cell_type": "code",
   "execution_count": 180,
   "metadata": {},
   "outputs": [
    {
     "data": {
      "text/plain": [
       "XGBRegressor(base_score=0.5, booster='gbtree', colsample_bylevel=1,\n",
       "             colsample_bynode=1, colsample_bytree=1, gamma=0, gpu_id=-1,\n",
       "             importance_type='gain', interaction_constraints='',\n",
       "             learning_rate=0.300000012, max_delta_step=0, max_depth=6,\n",
       "             min_child_weight=1, missing=nan, monotone_constraints='()',\n",
       "             n_estimators=100, n_jobs=0, num_parallel_tree=1, random_state=0,\n",
       "             reg_alpha=0, reg_lambda=1, scale_pos_weight=1, subsample=1,\n",
       "             tree_method='exact', validate_parameters=1, verbosity=None)"
      ]
     },
     "execution_count": 180,
     "metadata": {},
     "output_type": "execute_result"
    }
   ],
   "source": [
    "xg_boost=XGBRegressor()\n",
    "xg_boost.fit(train_X,train_y)"
   ]
  },
  {
   "cell_type": "code",
   "execution_count": 181,
   "metadata": {},
   "outputs": [
    {
     "name": "stdout",
     "output_type": "stream",
     "text": [
      "R2 score is: 0.9605888764856125\n",
      "The mean squared error is : 13431.321031283911\n"
     ]
    }
   ],
   "source": [
    "check_test_score(xg_boost)"
   ]
  },
  {
   "cell_type": "code",
   "execution_count": 182,
   "metadata": {},
   "outputs": [
    {
     "data": {
      "text/plain": [
       "LGBMRegressor()"
      ]
     },
     "execution_count": 182,
     "metadata": {},
     "output_type": "execute_result"
    }
   ],
   "source": [
    "light_gbm=LGBMRegressor()\n",
    "light_gbm.fit(train_X,train_y)"
   ]
  },
  {
   "cell_type": "code",
   "execution_count": 183,
   "metadata": {},
   "outputs": [
    {
     "name": "stdout",
     "output_type": "stream",
     "text": [
      "R2 score is: 0.9512236081595057\n",
      "The mean squared error is : 16623.006885815186\n"
     ]
    }
   ],
   "source": [
    "check_test_score(light_gbm)"
   ]
  },
  {
   "cell_type": "code",
   "execution_count": 184,
   "metadata": {},
   "outputs": [],
   "source": [
    "## Among all models Gradient Boosting Techniques Outperforms all these values"
   ]
  },
  {
   "cell_type": "code",
   "execution_count": 185,
   "metadata": {},
   "outputs": [],
   "source": [
    "sc=StandardScaler()\n",
    "X=sc.fit_transform(X)"
   ]
  },
  {
   "cell_type": "code",
   "execution_count": 186,
   "metadata": {},
   "outputs": [
    {
     "name": "stderr",
     "output_type": "stream",
     "text": [
      "[Parallel(n_jobs=-1)]: Using backend LokyBackend with 2 concurrent workers.\n",
      "[Parallel(n_jobs=-1)]: Done  10 out of  10 | elapsed:   33.9s finished\n"
     ]
    },
    {
     "data": {
      "text/plain": [
       "array([0.90892751, 0.94892841, 0.96794133, 0.97426299, 0.94754754,\n",
       "       0.92531688, 0.94760952, 0.93234461, 0.89320119, 0.95741009])"
      ]
     },
     "execution_count": 186,
     "metadata": {},
     "output_type": "execute_result"
    }
   ],
   "source": [
    "cross_val_score(GradientBoostingRegressor(),X,y,cv=10,scoring=\"r2\",verbose=2,n_jobs=-1)"
   ]
  },
  {
   "cell_type": "code",
   "execution_count": 188,
   "metadata": {},
   "outputs": [],
   "source": [
    "model=GradientBoostingRegressor()"
   ]
  },
  {
   "cell_type": "code",
   "execution_count": 189,
   "metadata": {},
   "outputs": [
    {
     "data": {
      "text/plain": [
       "GradientBoostingRegressor()"
      ]
     },
     "execution_count": 189,
     "metadata": {},
     "output_type": "execute_result"
    }
   ],
   "source": [
    "model.fit(X,y)"
   ]
  },
  {
   "cell_type": "code",
   "execution_count": 191,
   "metadata": {},
   "outputs": [
    {
     "data": {
      "text/plain": [
       "0.9693990346965493"
      ]
     },
     "execution_count": 191,
     "metadata": {},
     "output_type": "execute_result"
    }
   ],
   "source": [
    "model.score(test_X,test_y)"
   ]
  },
  {
   "cell_type": "code",
   "execution_count": 187,
   "metadata": {},
   "outputs": [],
   "source": [
    "## As you can see it is performimg well\n",
    "import pickle"
   ]
  },
  {
   "cell_type": "code",
   "execution_count": 193,
   "metadata": {},
   "outputs": [],
   "source": [
    "with open(\"my_model.pkl\",\"wb\") as f:\n",
    "    pickle.dump(model,f)"
   ]
  },
  {
   "cell_type": "code",
   "execution_count": 194,
   "metadata": {},
   "outputs": [],
   "source": [
    "with open(\"my_scalar.pkl\",\"wb\") as f:\n",
    "    pickle.dump(sc,f)"
   ]
  },
  {
   "cell_type": "code",
   "execution_count": 196,
   "metadata": {},
   "outputs": [
    {
     "data": {
      "text/html": [
       "<div>\n",
       "<style scoped>\n",
       "    .dataframe tbody tr th:only-of-type {\n",
       "        vertical-align: middle;\n",
       "    }\n",
       "\n",
       "    .dataframe tbody tr th {\n",
       "        vertical-align: top;\n",
       "    }\n",
       "\n",
       "    .dataframe thead th {\n",
       "        text-align: right;\n",
       "    }\n",
       "</style>\n",
       "<table border=\"1\" class=\"dataframe\">\n",
       "  <thead>\n",
       "    <tr style=\"text-align: right;\">\n",
       "      <th></th>\n",
       "      <th>POSTED_BY</th>\n",
       "      <th>RERA</th>\n",
       "      <th>BHK_NO.</th>\n",
       "      <th>SQUARE_FT</th>\n",
       "      <th>READY_TO_MOVE</th>\n",
       "      <th>RESALE</th>\n",
       "      <th>TARGET(PRICE_IN_LACS)</th>\n",
       "      <th>LOCATION</th>\n",
       "    </tr>\n",
       "  </thead>\n",
       "  <tbody>\n",
       "    <tr>\n",
       "      <th>0</th>\n",
       "      <td>0</td>\n",
       "      <td>0</td>\n",
       "      <td>2</td>\n",
       "      <td>1300.236407</td>\n",
       "      <td>1</td>\n",
       "      <td>1</td>\n",
       "      <td>55.0</td>\n",
       "      <td>97</td>\n",
       "    </tr>\n",
       "    <tr>\n",
       "      <th>1</th>\n",
       "      <td>1</td>\n",
       "      <td>0</td>\n",
       "      <td>2</td>\n",
       "      <td>1275.000000</td>\n",
       "      <td>1</td>\n",
       "      <td>1</td>\n",
       "      <td>51.0</td>\n",
       "      <td>76</td>\n",
       "    </tr>\n",
       "    <tr>\n",
       "      <th>2</th>\n",
       "      <td>0</td>\n",
       "      <td>0</td>\n",
       "      <td>2</td>\n",
       "      <td>933.159722</td>\n",
       "      <td>1</td>\n",
       "      <td>1</td>\n",
       "      <td>43.0</td>\n",
       "      <td>97</td>\n",
       "    </tr>\n",
       "    <tr>\n",
       "      <th>3</th>\n",
       "      <td>0</td>\n",
       "      <td>1</td>\n",
       "      <td>2</td>\n",
       "      <td>929.921143</td>\n",
       "      <td>1</td>\n",
       "      <td>1</td>\n",
       "      <td>62.5</td>\n",
       "      <td>67</td>\n",
       "    </tr>\n",
       "    <tr>\n",
       "      <th>4</th>\n",
       "      <td>1</td>\n",
       "      <td>0</td>\n",
       "      <td>2</td>\n",
       "      <td>999.009247</td>\n",
       "      <td>0</td>\n",
       "      <td>1</td>\n",
       "      <td>60.5</td>\n",
       "      <td>86</td>\n",
       "    </tr>\n",
       "    <tr>\n",
       "      <th>...</th>\n",
       "      <td>...</td>\n",
       "      <td>...</td>\n",
       "      <td>...</td>\n",
       "      <td>...</td>\n",
       "      <td>...</td>\n",
       "      <td>...</td>\n",
       "      <td>...</td>\n",
       "      <td>...</td>\n",
       "    </tr>\n",
       "    <tr>\n",
       "      <th>29446</th>\n",
       "      <td>0</td>\n",
       "      <td>0</td>\n",
       "      <td>3</td>\n",
       "      <td>2500.000000</td>\n",
       "      <td>1</td>\n",
       "      <td>1</td>\n",
       "      <td>45.0</td>\n",
       "      <td>39</td>\n",
       "    </tr>\n",
       "    <tr>\n",
       "      <th>29447</th>\n",
       "      <td>0</td>\n",
       "      <td>0</td>\n",
       "      <td>2</td>\n",
       "      <td>769.230769</td>\n",
       "      <td>1</td>\n",
       "      <td>1</td>\n",
       "      <td>16.0</td>\n",
       "      <td>8</td>\n",
       "    </tr>\n",
       "    <tr>\n",
       "      <th>29448</th>\n",
       "      <td>1</td>\n",
       "      <td>0</td>\n",
       "      <td>2</td>\n",
       "      <td>1022.641509</td>\n",
       "      <td>1</td>\n",
       "      <td>1</td>\n",
       "      <td>27.1</td>\n",
       "      <td>68</td>\n",
       "    </tr>\n",
       "    <tr>\n",
       "      <th>29449</th>\n",
       "      <td>0</td>\n",
       "      <td>0</td>\n",
       "      <td>2</td>\n",
       "      <td>927.079009</td>\n",
       "      <td>1</td>\n",
       "      <td>1</td>\n",
       "      <td>67.0</td>\n",
       "      <td>96</td>\n",
       "    </tr>\n",
       "    <tr>\n",
       "      <th>29450</th>\n",
       "      <td>1</td>\n",
       "      <td>1</td>\n",
       "      <td>2</td>\n",
       "      <td>896.774194</td>\n",
       "      <td>1</td>\n",
       "      <td>1</td>\n",
       "      <td>27.8</td>\n",
       "      <td>68</td>\n",
       "    </tr>\n",
       "  </tbody>\n",
       "</table>\n",
       "<p>29377 rows × 8 columns</p>\n",
       "</div>"
      ],
      "text/plain": [
       "       POSTED_BY  RERA  BHK_NO.    SQUARE_FT  READY_TO_MOVE  RESALE  \\\n",
       "0              0     0        2  1300.236407              1       1   \n",
       "1              1     0        2  1275.000000              1       1   \n",
       "2              0     0        2   933.159722              1       1   \n",
       "3              0     1        2   929.921143              1       1   \n",
       "4              1     0        2   999.009247              0       1   \n",
       "...          ...   ...      ...          ...            ...     ...   \n",
       "29446          0     0        3  2500.000000              1       1   \n",
       "29447          0     0        2   769.230769              1       1   \n",
       "29448          1     0        2  1022.641509              1       1   \n",
       "29449          0     0        2   927.079009              1       1   \n",
       "29450          1     1        2   896.774194              1       1   \n",
       "\n",
       "       TARGET(PRICE_IN_LACS)  LOCATION  \n",
       "0                       55.0        97  \n",
       "1                       51.0        76  \n",
       "2                       43.0        97  \n",
       "3                       62.5        67  \n",
       "4                       60.5        86  \n",
       "...                      ...       ...  \n",
       "29446                   45.0        39  \n",
       "29447                   16.0         8  \n",
       "29448                   27.1        68  \n",
       "29449                   67.0        96  \n",
       "29450                   27.8        68  \n",
       "\n",
       "[29377 rows x 8 columns]"
      ]
     },
     "execution_count": 196,
     "metadata": {},
     "output_type": "execute_result"
    }
   ],
   "source": [
    "df5"
   ]
  },
  {
   "cell_type": "code",
   "execution_count": 197,
   "metadata": {},
   "outputs": [
    {
     "data": {
      "text/plain": [
       "{'Owner': 0, 'Dealer': 1, 'Builder': 2}"
      ]
     },
     "execution_count": 197,
     "metadata": {},
     "output_type": "execute_result"
    }
   ],
   "source": [
    "posted_map"
   ]
  },
  {
   "cell_type": "code",
   "execution_count": 199,
   "metadata": {},
   "outputs": [],
   "source": [
    "yes_map={\"Yes\":1,\"No\":0}"
   ]
  },
  {
   "cell_type": "code",
   "execution_count": 201,
   "metadata": {},
   "outputs": [
    {
     "name": "stdout",
     "output_type": "stream",
     "text": [
      "POSTED_BYOwner\n",
      "RERA approved or notYes\n",
      "Number of Rooms4\n",
      "Square foot700\n",
      "Ready to MoveYes\n",
      "ResaleYes\n",
      "LocationMumbai\n"
     ]
    }
   ],
   "source": [
    "Pause=True\n",
    "while Pause:\n",
    "    values=[]\n",
    "    a=input(\"POSTED_BY\")\n",
    "    values.append(posted_map[a])\n",
    "    a=input(\"RERA approved or not\")\n",
    "    values.append(yes_map[a])\n",
    "    a=int(input(\"Number of Rooms\"))\n",
    "    values.append(a)\n",
    "    a=int(input(\"Square foot\"))\n",
    "    values.append(a)\n",
    "    a=input(\"Ready to Move\")\n",
    "    values.append(yes_map[a])\n",
    "    a=input(\"Resale\")\n",
    "    values.append(yes_map[a])\n",
    "    a=input(\"Location\")\n",
    "    values.append(location_map[a])\n",
    "    Pause=False\n",
    "    "
   ]
  },
  {
   "cell_type": "code",
   "execution_count": 208,
   "metadata": {},
   "outputs": [],
   "source": [
    "val=sc.transform([values])"
   ]
  },
  {
   "cell_type": "code",
   "execution_count": 210,
   "metadata": {},
   "outputs": [
    {
     "data": {
      "text/plain": [
       "array([241.66430223])"
      ]
     },
     "execution_count": 210,
     "metadata": {},
     "output_type": "execute_result"
    }
   ],
   "source": [
    "model.predict(val)"
   ]
  },
  {
   "cell_type": "code",
   "execution_count": 65,
   "metadata": {},
   "outputs": [
    {
     "name": "stdout",
     "output_type": "stream",
     "text": [
      "<option value=\"Bangalore\">Bangalore</option>\n",
      "<option value=\"Mysore\">Mysore</option>\n",
      "<option value=\"Ghaziabad\">Ghaziabad</option>\n",
      "<option value=\"Kolkata\">Kolkata</option>\n",
      "<option value=\"Kochi\">Kochi</option>\n",
      "<option value=\"Jaipur\">Jaipur</option>\n",
      "<option value=\"Mohali\">Mohali</option>\n",
      "<option value=\"Chennai\">Chennai</option>\n",
      "<option value=\"Siliguri\">Siliguri</option>\n",
      "<option value=\"Noida\">Noida</option>\n",
      "<option value=\"Raigad\">Raigad</option>\n",
      "<option value=\"Bhubaneswar\">Bhubaneswar</option>\n",
      "<option value=\"Others\">Others</option>\n",
      "<option value=\"Pune\">Pune</option>\n",
      "<option value=\"Mumbai\">Mumbai</option>\n",
      "<option value=\"Nagpur\">Nagpur</option>\n",
      "<option value=\"Bhiwadi\">Bhiwadi</option>\n",
      "<option value=\"Faridabad\">Faridabad</option>\n",
      "<option value=\"Lalitpur\">Lalitpur</option>\n",
      "<option value=\"Maharashtra\">Maharashtra</option>\n",
      "<option value=\"Vadodara\">Vadodara</option>\n",
      "<option value=\"Visakhapatnam\">Visakhapatnam</option>\n",
      "<option value=\"Vapi\">Vapi</option>\n",
      "<option value=\"Mangalore\">Mangalore</option>\n",
      "<option value=\"Aurangabad\">Aurangabad</option>\n",
      "<option value=\"Vijayawada\">Vijayawada</option>\n",
      "<option value=\"Belgaum\">Belgaum</option>\n",
      "<option value=\"Bhopal\">Bhopal</option>\n",
      "<option value=\"Lucknow\">Lucknow</option>\n",
      "<option value=\"Kanpur\">Kanpur</option>\n",
      "<option value=\"Gandhinagar\">Gandhinagar</option>\n",
      "<option value=\"Pondicherry\">Pondicherry</option>\n",
      "<option value=\"Agra\">Agra</option>\n",
      "<option value=\"Ranchi\">Ranchi</option>\n",
      "<option value=\"Gurgaon\">Gurgaon</option>\n",
      "<option value=\"Udupi\">Udupi</option>\n",
      "<option value=\"Indore\">Indore</option>\n",
      "<option value=\"Jodhpur\">Jodhpur</option>\n",
      "<option value=\"Coimbatore\">Coimbatore</option>\n",
      "<option value=\"Valsad\">Valsad</option>\n",
      "<option value=\"Palghar\">Palghar</option>\n",
      "<option value=\"Surat\">Surat</option>\n",
      "<option value=\"Varanasi\">Varanasi</option>\n",
      "<option value=\"Guwahati\">Guwahati</option>\n",
      "<option value=\"Amravati\">Amravati</option>\n",
      "<option value=\"Anand\">Anand</option>\n",
      "<option value=\"Tirupati\">Tirupati</option>\n",
      "<option value=\"Secunderabad\">Secunderabad</option>\n",
      "<option value=\"Raipur\">Raipur</option>\n",
      "<option value=\"Vizianagaram\">Vizianagaram</option>\n",
      "<option value=\"Thrissur\">Thrissur</option>\n",
      "<option value=\"Madurai\">Madurai</option>\n",
      "<option value=\"Chandigarh\">Chandigarh</option>\n",
      "<option value=\"Shimla\">Shimla</option>\n",
      "<option value=\"Gwalior\">Gwalior</option>\n",
      "<option value=\"Rajkot\">Rajkot</option>\n",
      "<option value=\"Sonipat\">Sonipat</option>\n",
      "<option value=\"Allahabad\">Allahabad</option>\n",
      "<option value=\"Dharuhera\">Dharuhera</option>\n",
      "<option value=\"Durgapur\">Durgapur</option>\n",
      "<option value=\"Panchkula\">Panchkula</option>\n",
      "<option value=\"Solapur\">Solapur</option>\n",
      "<option value=\"Goa\">Goa</option>\n",
      "<option value=\"Jamshedpur\">Jamshedpur</option>\n",
      "<option value=\"Jabalpur\">Jabalpur</option>\n",
      "<option value=\"Hubli\">Hubli</option>\n",
      "<option value=\"Patna\">Patna</option>\n",
      "<option value=\"Bilaspur\">Bilaspur</option>\n",
      "<option value=\"Ratnagiri\">Ratnagiri</option>\n",
      "<option value=\"Meerut\">Meerut</option>\n",
      "<option value=\"Jalandhar\">Jalandhar</option>\n",
      "<option value=\"Ludhiana\">Ludhiana</option>\n",
      "<option value=\"Kota\">Kota</option>\n",
      "<option value=\"Panaji\">Panaji</option>\n",
      "<option value=\"Kolhapur\">Kolhapur</option>\n",
      "<option value=\"Ernakulam\">Ernakulam</option>\n",
      "<option value=\"Bhavnagar\">Bhavnagar</option>\n",
      "<option value=\"Bharuch\">Bharuch</option>\n",
      "<option value=\"Asansol\">Asansol</option>\n",
      "<option value=\"Margao\">Margao</option>\n",
      "<option value=\"Bhilai\">Bhilai</option>\n",
      "<option value=\"Dehradun\">Dehradun</option>\n",
      "<option value=\"Guntur\">Guntur</option>\n",
      "<option value=\"Jalgaon\">Jalgaon</option>\n",
      "<option value=\"Udaipur\">Udaipur</option>\n",
      "<option value=\"Neemrana\">Neemrana</option>\n",
      "<option value=\"Sindhudurg\">Sindhudurg</option>\n",
      "<option value=\"Kottayam\">Kottayam</option>\n",
      "<option value=\"Dhanbad\">Dhanbad</option>\n",
      "<option value=\"Navsari\">Navsari</option>\n",
      "<option value=\"Bahadurgarh\">Bahadurgarh</option>\n",
      "<option value=\"Nellore\">Nellore</option>\n",
      "<option value=\"Haridwar\">Haridwar</option>\n",
      "<option value=\"Jamnagar\">Jamnagar</option>\n",
      "<option value=\"Junagadh\">Junagadh</option>\n",
      "<option value=\"Ahmednagar\">Ahmednagar</option>\n",
      "<option value=\"Palakkad\">Palakkad</option>\n",
      "<option value=\"Karjat\">Karjat</option>\n",
      "<option value=\"Ajmer\">Ajmer</option>\n",
      "<option value=\"Aligarh\">Aligarh</option>\n",
      "<option value=\"Rudrapur\">Rudrapur</option>\n",
      "<option value=\"Solan\">Solan</option>\n",
      "<option value=\"Mathura\">Mathura</option>\n"
     ]
    }
   ],
   "source": [
    "for loc in locations_values:\n",
    "    print(f\"\"\"<option value=\"{loc}\">{loc}</option>\"\"\")"
   ]
  },
  {
   "cell_type": "code",
   "execution_count": 66,
   "metadata": {},
   "outputs": [
    {
     "data": {
      "text/plain": [
       "103"
      ]
     },
     "execution_count": 66,
     "metadata": {},
     "output_type": "execute_result"
    }
   ],
   "source": [
    "len(locations_values)"
   ]
  },
  {
   "cell_type": "code",
   "execution_count": 67,
   "metadata": {},
   "outputs": [],
   "source": [
    "posted_map={'Owner': 0, 'Dealer': 1, 'Builder': 2}"
   ]
  },
  {
   "cell_type": "code",
   "execution_count": 68,
   "metadata": {},
   "outputs": [
    {
     "data": {
      "text/plain": [
       "{'Owner': 0, 'Dealer': 1, 'Builder': 2}"
      ]
     },
     "execution_count": 68,
     "metadata": {},
     "output_type": "execute_result"
    }
   ],
   "source": [
    "posted_map"
   ]
  },
  {
   "cell_type": "code",
   "execution_count": 72,
   "metadata": {},
   "outputs": [
    {
     "data": {
      "text/plain": [
       "{'Karjat': 0,\n",
       " 'Bhavnagar': 1,\n",
       " 'Rudrapur': 2,\n",
       " 'Palghar': 3,\n",
       " 'Junagadh': 4,\n",
       " 'Durgapur': 5,\n",
       " 'Ratnagiri': 6,\n",
       " 'Bharuch': 7,\n",
       " 'Vapi': 8,\n",
       " 'Neemrana': 9,\n",
       " 'Bhiwadi': 10,\n",
       " 'Valsad': 11,\n",
       " 'Bhilai': 12,\n",
       " 'Navsari': 13,\n",
       " 'Asansol': 14,\n",
       " 'Vizianagaram': 15,\n",
       " 'Jamnagar': 16,\n",
       " 'Haridwar': 17,\n",
       " 'Mathura': 18,\n",
       " 'Raigad': 19,\n",
       " 'Meerut': 20,\n",
       " 'Sindhudurg': 21,\n",
       " 'Bilaspur': 22,\n",
       " 'Solan': 23,\n",
       " 'Dhanbad': 24,\n",
       " 'Bhopal': 25,\n",
       " 'Aurangabad': 26,\n",
       " 'Nellore': 27,\n",
       " 'Hubli': 28,\n",
       " 'Raipur': 29,\n",
       " 'Amravati': 30,\n",
       " 'Ajmer': 31,\n",
       " 'Dharuhera': 32,\n",
       " 'Solapur': 33,\n",
       " 'Kolhapur': 34,\n",
       " 'Siliguri': 35,\n",
       " 'Gwalior': 36,\n",
       " 'Others': 37,\n",
       " 'Ahmednagar': 38,\n",
       " 'Agra': 39,\n",
       " 'Udupi': 40,\n",
       " 'Aligarh': 41,\n",
       " 'Jodhpur': 42,\n",
       " 'Gandhinagar': 43,\n",
       " 'Guntur': 44,\n",
       " 'Anand': 45,\n",
       " 'Bahadurgarh': 46,\n",
       " 'Belgaum': 47,\n",
       " 'Indore': 48,\n",
       " 'Jamshedpur': 49,\n",
       " 'Margao': 50,\n",
       " 'Rajkot': 51,\n",
       " 'Palakkad': 52,\n",
       " 'Madurai': 53,\n",
       " 'Sonipat': 54,\n",
       " 'Kota': 55,\n",
       " 'Vijayawada': 56,\n",
       " 'Jabalpur': 57,\n",
       " 'Pondicherry': 58,\n",
       " 'Guwahati': 59,\n",
       " 'Jalandhar': 60,\n",
       " 'Allahabad': 61,\n",
       " 'Tirupati': 62,\n",
       " 'Udaipur': 63,\n",
       " 'Secunderabad': 64,\n",
       " 'Vadodara': 65,\n",
       " 'Visakhapatnam': 66,\n",
       " 'Ghaziabad': 67,\n",
       " 'Jaipur': 68,\n",
       " 'Thrissur': 69,\n",
       " 'Patna': 70,\n",
       " 'Faridabad': 71,\n",
       " 'Bhubaneswar': 72,\n",
       " 'Surat': 73,\n",
       " 'Shimla': 74,\n",
       " 'Varanasi': 75,\n",
       " 'Mysore': 76,\n",
       " 'Mangalore': 77,\n",
       " 'Dehradun': 78,\n",
       " 'Nagpur': 79,\n",
       " 'Coimbatore': 80,\n",
       " 'Ernakulam': 81,\n",
       " 'Ludhiana': 82,\n",
       " 'Panchkula': 83,\n",
       " 'Lucknow': 84,\n",
       " 'Chandigarh': 85,\n",
       " 'Kolkata': 86,\n",
       " 'Kanpur': 87,\n",
       " 'Kottayam': 88,\n",
       " 'Panaji': 89,\n",
       " 'Jalgaon': 90,\n",
       " 'Mohali': 91,\n",
       " 'Pune': 92,\n",
       " 'Kochi': 93,\n",
       " 'Ranchi': 94,\n",
       " 'Noida': 95,\n",
       " 'Chennai': 96,\n",
       " 'Bangalore': 97,\n",
       " 'Goa': 98,\n",
       " 'Lalitpur': 99,\n",
       " 'Mumbai': 100,\n",
       " 'Maharashtra': 101,\n",
       " 'Gurgaon': 102}"
      ]
     },
     "execution_count": 72,
     "metadata": {},
     "output_type": "execute_result"
    }
   ],
   "source": [
    "location_map"
   ]
  },
  {
   "cell_type": "code",
   "execution_count": null,
   "metadata": {},
   "outputs": [],
   "source": []
  }
 ],
 "metadata": {
  "kernelspec": {
   "display_name": "Python 3",
   "language": "python",
   "name": "python3"
  },
  "language_info": {
   "codemirror_mode": {
    "name": "ipython",
    "version": 3
   },
   "file_extension": ".py",
   "mimetype": "text/x-python",
   "name": "python",
   "nbconvert_exporter": "python",
   "pygments_lexer": "ipython3",
   "version": "3.7.7"
  }
 },
 "nbformat": 4,
 "nbformat_minor": 4
}
